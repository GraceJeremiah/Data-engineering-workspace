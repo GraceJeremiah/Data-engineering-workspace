{
 "cells": [
  {
   "cell_type": "code",
   "execution_count": 0,
   "metadata": {
    "application/vnd.databricks.v1+cell": {
     "cellMetadata": {
      "byteLimit": 2048000,
      "rowLimit": 10000
     },
     "inputWidgets": {},
     "nuid": "bb326900-7540-44ca-804d-00a139f0030d",
     "showTitle": false,
     "tableResultSettingsMap": {},
     "title": ""
    }
   },
   "outputs": [],
   "source": [
    "from pyspark.sql.functions import avg, sum, col, round"
   ]
  },
  {
   "cell_type": "code",
   "execution_count": 0,
   "metadata": {
    "application/vnd.databricks.v1+cell": {
     "cellMetadata": {
      "byteLimit": 2048000,
      "rowLimit": 10000
     },
     "inputWidgets": {},
     "nuid": "05ce08f6-7926-40ab-a0f1-cfad8c3539ae",
     "showTitle": false,
     "tableResultSettingsMap": {},
     "title": ""
    }
   },
   "outputs": [
    {
     "output_type": "display_data",
     "data": {
      "text/html": [
       "<style scoped>\n",
       "  .table-result-container {\n",
       "    max-height: 300px;\n",
       "    overflow: auto;\n",
       "  }\n",
       "  table, th, td {\n",
       "    border: 1px solid black;\n",
       "    border-collapse: collapse;\n",
       "  }\n",
       "  th, td {\n",
       "    padding: 5px;\n",
       "  }\n",
       "  th {\n",
       "    text-align: left;\n",
       "  }\n",
       "</style><div class='table-result-container'><table class='table-result'><thead style='background-color: white'><tr><th>channel_name</th><th>category</th><th>sub_category</th><th>Survey_response_Date</th><th>Customer_City</th><th>Product_category</th><th>Agent_name</th><th>Supervisor</th><th>Manager</th><th>agent_shift</th><th>csat_score</th><th>Office</th><th>Issue_response_time_in_minutes</th><th>Item_price</th></tr></thead><tbody><tr><td>Inbound</td><td>Refund Related</td><td>Refund Enquiry</td><td>2025-07-06</td><td>GREATER NOIDA</td><td>LifeStyle</td><td>Joshua Webb</td><td>Brayden Wong</td><td>John Smith</td><td>Evening</td><td>5</td><td>India</td><td>4.0</td><td>9228</td></tr><tr><td>Outcall</td><td>Returns</td><td>Reverse Pickup Enquiry</td><td>2025-07-06</td><td>unknown</td><td>unknown</td><td>Chad Burns</td><td>Ava Wong</td><td>William Kim</td><td>Evening</td><td>1</td><td>India</td><td>1.0</td><td>1260</td></tr><tr><td>Inbound</td><td>Payments related</td><td>Wallet related</td><td>2025-07-02</td><td>unknown</td><td>unknown</td><td>Joshua Rodriguez</td><td>Jackson Park</td><td>William Kim</td><td>Evening</td><td>5</td><td>India</td><td>5.0</td><td>1422</td></tr><tr><td>Inbound</td><td>Returns</td><td>Missing</td><td>2025-07-06</td><td>unknown</td><td>unknown</td><td>Kimberly Carter</td><td>Scarlett Chen</td><td>John Smith</td><td>Morning</td><td>1</td><td>India</td><td>6.0</td><td>9663</td></tr><tr><td>Inbound</td><td>Refund Related</td><td>Refund Enquiry</td><td>2025-07-05</td><td>CHALTHAN</td><td>Electronics</td><td>Kelly Thomas</td><td>Scarlett Chen</td><td>John Smith</td><td>Morning</td><td>5</td><td>India</td><td>15.0</td><td>1670</td></tr><tr><td>Inbound</td><td>Returns</td><td>Reverse Pickup Enquiry</td><td>2025-07-05</td><td>unknown</td><td>unknown</td><td>Jamie Smith</td><td>Scarlett Chen</td><td>John Smith</td><td>Morning</td><td>5</td><td>India</td><td>732.0</td><td>6046</td></tr><tr><td>Inbound</td><td>Returns</td><td>Fraudulent User</td><td>2025-07-05</td><td>DHANBAD</td><td>Books & General merchandise</td><td>Lindsey Smith</td><td>Nathan Patel</td><td>John Smith</td><td>Afternoon</td><td>5</td><td>India</td><td>-173.0</td><td>292</td></tr><tr><td>Inbound</td><td>Feedback</td><td>UnProfessional Behaviour</td><td>2025-07-06</td><td>unknown</td><td>unknown</td><td>Alisha Campos</td><td>Jacob Sato</td><td>Emily Chen</td><td>Evening</td><td>5</td><td>India</td><td>9.0</td><td>7264</td></tr><tr><td>Email</td><td>Payments related</td><td>Online Payment Issues</td><td>2025-07-05</td><td>unknown</td><td>unknown</td><td>Alexandra Reynolds</td><td>Zoe Yamamoto</td><td>John Smith</td><td>Morning</td><td>2</td><td>India</td><td>52.0</td><td>8943</td></tr><tr><td>Inbound</td><td>Returns</td><td>Missing</td><td>2025-07-07</td><td>unknown</td><td>unknown</td><td>Jennifer Webster</td><td>Evelyn Kimura</td><td>Jennifer Nguyen</td><td>Evening</td><td>5</td><td>India</td><td>6.0</td><td>7711</td></tr></tbody></table></div>"
      ]
     },
     "metadata": {
      "application/vnd.databricks.v1+output": {
       "addedWidgets": {},
       "aggData": [],
       "aggError": "",
       "aggOverflow": false,
       "aggSchema": [],
       "aggSeriesLimitReached": false,
       "aggType": "",
       "arguments": {},
       "columnCustomDisplayInfos": {},
       "data": [
        [
         "Inbound",
         "Refund Related",
         "Refund Enquiry",
         "2025-07-06",
         "GREATER NOIDA",
         "LifeStyle",
         "Joshua Webb",
         "Brayden Wong",
         "John Smith",
         "Evening",
         5,
         "India",
         4.0,
         9228
        ],
        [
         "Outcall",
         "Returns",
         "Reverse Pickup Enquiry",
         "2025-07-06",
         "unknown",
         "unknown",
         "Chad Burns",
         "Ava Wong",
         "William Kim",
         "Evening",
         1,
         "India",
         1.0,
         1260
        ],
        [
         "Inbound",
         "Payments related",
         "Wallet related",
         "2025-07-02",
         "unknown",
         "unknown",
         "Joshua Rodriguez",
         "Jackson Park",
         "William Kim",
         "Evening",
         5,
         "India",
         5.0,
         1422
        ],
        [
         "Inbound",
         "Returns",
         "Missing",
         "2025-07-06",
         "unknown",
         "unknown",
         "Kimberly Carter",
         "Scarlett Chen",
         "John Smith",
         "Morning",
         1,
         "India",
         6.0,
         9663
        ],
        [
         "Inbound",
         "Refund Related",
         "Refund Enquiry",
         "2025-07-05",
         "CHALTHAN",
         "Electronics",
         "Kelly Thomas",
         "Scarlett Chen",
         "John Smith",
         "Morning",
         5,
         "India",
         15.0,
         1670
        ],
        [
         "Inbound",
         "Returns",
         "Reverse Pickup Enquiry",
         "2025-07-05",
         "unknown",
         "unknown",
         "Jamie Smith",
         "Scarlett Chen",
         "John Smith",
         "Morning",
         5,
         "India",
         732.0,
         6046
        ],
        [
         "Inbound",
         "Returns",
         "Fraudulent User",
         "2025-07-05",
         "DHANBAD",
         "Books & General merchandise",
         "Lindsey Smith",
         "Nathan Patel",
         "John Smith",
         "Afternoon",
         5,
         "India",
         -173.0,
         292
        ],
        [
         "Inbound",
         "Feedback",
         "UnProfessional Behaviour",
         "2025-07-06",
         "unknown",
         "unknown",
         "Alisha Campos",
         "Jacob Sato",
         "Emily Chen",
         "Evening",
         5,
         "India",
         9.0,
         7264
        ],
        [
         "Email",
         "Payments related",
         "Online Payment Issues",
         "2025-07-05",
         "unknown",
         "unknown",
         "Alexandra Reynolds",
         "Zoe Yamamoto",
         "John Smith",
         "Morning",
         2,
         "India",
         52.0,
         8943
        ],
        [
         "Inbound",
         "Returns",
         "Missing",
         "2025-07-07",
         "unknown",
         "unknown",
         "Jennifer Webster",
         "Evelyn Kimura",
         "Jennifer Nguyen",
         "Evening",
         5,
         "India",
         6.0,
         7711
        ]
       ],
       "datasetInfos": [],
       "dbfsResultPath": null,
       "isJsonSchema": true,
       "metadata": {},
       "overflow": false,
       "plotOptions": {
        "customPlotOptions": {},
        "displayType": "table",
        "pivotAggregation": null,
        "pivotColumns": null,
        "xColumns": null,
        "yColumns": null
       },
       "removedWidgets": [],
       "schema": [
        {
         "metadata": "{}",
         "name": "channel_name",
         "type": "\"string\""
        },
        {
         "metadata": "{}",
         "name": "category",
         "type": "\"string\""
        },
        {
         "metadata": "{}",
         "name": "sub_category",
         "type": "\"string\""
        },
        {
         "metadata": "{}",
         "name": "Survey_response_Date",
         "type": "\"date\""
        },
        {
         "metadata": "{}",
         "name": "Customer_City",
         "type": "\"string\""
        },
        {
         "metadata": "{}",
         "name": "Product_category",
         "type": "\"string\""
        },
        {
         "metadata": "{}",
         "name": "Agent_name",
         "type": "\"string\""
        },
        {
         "metadata": "{}",
         "name": "Supervisor",
         "type": "\"string\""
        },
        {
         "metadata": "{}",
         "name": "Manager",
         "type": "\"string\""
        },
        {
         "metadata": "{}",
         "name": "agent_shift",
         "type": "\"string\""
        },
        {
         "metadata": "{}",
         "name": "csat_score",
         "type": "\"long\""
        },
        {
         "metadata": "{}",
         "name": "Office",
         "type": "\"string\""
        },
        {
         "metadata": "{}",
         "name": "Issue_response_time_in_minutes",
         "type": "\"double\""
        },
        {
         "metadata": "{}",
         "name": "Item_price",
         "type": "\"long\""
        }
       ],
       "type": "table"
      }
     },
     "output_type": "display_data"
    }
   ],
   "source": [
    "silver_df = spark.table(\"silver.cleansed_customer_support_data\")\n",
    "display(silver_df.limit(10))"
   ]
  },
  {
   "cell_type": "code",
   "execution_count": 0,
   "metadata": {
    "application/vnd.databricks.v1+cell": {
     "cellMetadata": {
      "byteLimit": 2048000,
      "rowLimit": 10000
     },
     "inputWidgets": {},
     "nuid": "c7fc889c-a3d8-438e-8ea8-295581b860f1",
     "showTitle": false,
     "tableResultSettingsMap": {},
     "title": ""
    }
   },
   "outputs": [
    {
     "output_type": "display_data",
     "data": {
      "text/html": [
       "<style scoped>\n",
       "  .table-result-container {\n",
       "    max-height: 300px;\n",
       "    overflow: auto;\n",
       "  }\n",
       "  table, th, td {\n",
       "    border: 1px solid black;\n",
       "    border-collapse: collapse;\n",
       "  }\n",
       "  th, td {\n",
       "    padding: 5px;\n",
       "  }\n",
       "  th {\n",
       "    text-align: left;\n",
       "  }\n",
       "</style><div class='table-result-container'><table class='table-result'><thead style='background-color: white'><tr><th>channel_name</th><th>category</th><th>sub_category</th><th>Customer_City</th><th>Agent_name</th><th>Supervisor</th><th>Manager</th><th>agent_shift</th><th>Office</th><th>average_csat</th><th>average_response_time</th><th>total_item_price</th></tr></thead><tbody><tr><td>Inbound</td><td>Returns</td><td>Return request</td><td>DHARWAD</td><td>Jesse Shaffer</td><td>Ethan Tan</td><td>John Smith</td><td>Morning</td><td>India</td><td>5.0</td><td>3.0</td><td>7021</td></tr><tr><td>Inbound</td><td>Order Related</td><td>Installation/demo</td><td>unknown</td><td>Jessica Wright</td><td>Emma Park</td><td>John Smith</td><td>Morning</td><td>India</td><td>3.0</td><td>-509.0</td><td>9907</td></tr><tr><td>Inbound</td><td>Returns</td><td>Reverse Pickup Enquiry</td><td>unknown</td><td>Daryl Martin</td><td>Aiden Patel</td><td>John Smith</td><td>Morning</td><td>India</td><td>4.08</td><td>-20.75</td><td>58446</td></tr><tr><td>Outcall</td><td>Order Related</td><td>Order status enquiry</td><td>unknown</td><td>Jamie Burnett</td><td>Mia Patel</td><td>Olivia Tan</td><td>Morning</td><td>India</td><td>5.0</td><td>1.5</td><td>13877</td></tr><tr><td>Inbound</td><td>Shopzilla Related</td><td>Shopzilla Rewards</td><td>unknown</td><td>Christopher Sanchez</td><td>Austin Johnson</td><td>Michael Lee</td><td>Morning</td><td>India</td><td>5.0</td><td>5.0</td><td>2487</td></tr><tr><td>Inbound</td><td>Order Related</td><td>Delayed</td><td>THANE</td><td>Monique Graham</td><td>Elijah Yamaguchi</td><td>Michael Lee</td><td>Afternoon</td><td>India</td><td>1.0</td><td>1.0</td><td>9727</td></tr><tr><td>Inbound</td><td>Order Related</td><td>Invoice request</td><td>unknown</td><td>Kenneth Ramos</td><td>Aiden Patel</td><td>Olivia Tan</td><td>Evening</td><td>India</td><td>4.0</td><td>-1238.0</td><td>6699</td></tr><tr><td>Inbound</td><td>Returns</td><td>Reverse Pickup Enquiry</td><td>HYDERABAD</td><td>Sharon Meyers</td><td>Mason Gupta</td><td>Jennifer Nguyen</td><td>Morning</td><td>India</td><td>1.0</td><td>5.0</td><td>7319</td></tr><tr><td>Inbound</td><td>Order Related</td><td>Priority delivery</td><td>unknown</td><td>Melissa Castillo</td><td>Elijah Yamaguchi</td><td>Michael Lee</td><td>Night</td><td>India</td><td>4.67</td><td>22.67</td><td>17467</td></tr><tr><td>Outcall</td><td>Returns</td><td>Reverse Pickup Enquiry</td><td>unknown</td><td>Joshua Bradshaw</td><td>Carter Park</td><td>Michael Lee</td><td>Morning</td><td>India</td><td>5.0</td><td>4.0</td><td>9651</td></tr></tbody></table></div>"
      ]
     },
     "metadata": {
      "application/vnd.databricks.v1+output": {
       "addedWidgets": {},
       "aggData": [],
       "aggError": "",
       "aggOverflow": false,
       "aggSchema": [],
       "aggSeriesLimitReached": false,
       "aggType": "",
       "arguments": {},
       "columnCustomDisplayInfos": {},
       "data": [
        [
         "Inbound",
         "Returns",
         "Return request",
         "DHARWAD",
         "Jesse Shaffer",
         "Ethan Tan",
         "John Smith",
         "Morning",
         "India",
         5.0,
         3.0,
         7021
        ],
        [
         "Inbound",
         "Order Related",
         "Installation/demo",
         "unknown",
         "Jessica Wright",
         "Emma Park",
         "John Smith",
         "Morning",
         "India",
         3.0,
         -509.0,
         9907
        ],
        [
         "Inbound",
         "Returns",
         "Reverse Pickup Enquiry",
         "unknown",
         "Daryl Martin",
         "Aiden Patel",
         "John Smith",
         "Morning",
         "India",
         4.08,
         -20.75,
         58446
        ],
        [
         "Outcall",
         "Order Related",
         "Order status enquiry",
         "unknown",
         "Jamie Burnett",
         "Mia Patel",
         "Olivia Tan",
         "Morning",
         "India",
         5.0,
         1.5,
         13877
        ],
        [
         "Inbound",
         "Shopzilla Related",
         "Shopzilla Rewards",
         "unknown",
         "Christopher Sanchez",
         "Austin Johnson",
         "Michael Lee",
         "Morning",
         "India",
         5.0,
         5.0,
         2487
        ],
        [
         "Inbound",
         "Order Related",
         "Delayed",
         "THANE",
         "Monique Graham",
         "Elijah Yamaguchi",
         "Michael Lee",
         "Afternoon",
         "India",
         1.0,
         1.0,
         9727
        ],
        [
         "Inbound",
         "Order Related",
         "Invoice request",
         "unknown",
         "Kenneth Ramos",
         "Aiden Patel",
         "Olivia Tan",
         "Evening",
         "India",
         4.0,
         -1238.0,
         6699
        ],
        [
         "Inbound",
         "Returns",
         "Reverse Pickup Enquiry",
         "HYDERABAD",
         "Sharon Meyers",
         "Mason Gupta",
         "Jennifer Nguyen",
         "Morning",
         "India",
         1.0,
         5.0,
         7319
        ],
        [
         "Inbound",
         "Order Related",
         "Priority delivery",
         "unknown",
         "Melissa Castillo",
         "Elijah Yamaguchi",
         "Michael Lee",
         "Night",
         "India",
         4.67,
         22.67,
         17467
        ],
        [
         "Outcall",
         "Returns",
         "Reverse Pickup Enquiry",
         "unknown",
         "Joshua Bradshaw",
         "Carter Park",
         "Michael Lee",
         "Morning",
         "India",
         5.0,
         4.0,
         9651
        ]
       ],
       "datasetInfos": [],
       "dbfsResultPath": null,
       "isJsonSchema": true,
       "metadata": {},
       "overflow": false,
       "plotOptions": {
        "customPlotOptions": {},
        "displayType": "table",
        "pivotAggregation": null,
        "pivotColumns": null,
        "xColumns": null,
        "yColumns": null
       },
       "removedWidgets": [],
       "schema": [
        {
         "metadata": "{}",
         "name": "channel_name",
         "type": "\"string\""
        },
        {
         "metadata": "{}",
         "name": "category",
         "type": "\"string\""
        },
        {
         "metadata": "{}",
         "name": "sub_category",
         "type": "\"string\""
        },
        {
         "metadata": "{}",
         "name": "Customer_City",
         "type": "\"string\""
        },
        {
         "metadata": "{}",
         "name": "Agent_name",
         "type": "\"string\""
        },
        {
         "metadata": "{}",
         "name": "Supervisor",
         "type": "\"string\""
        },
        {
         "metadata": "{}",
         "name": "Manager",
         "type": "\"string\""
        },
        {
         "metadata": "{}",
         "name": "agent_shift",
         "type": "\"string\""
        },
        {
         "metadata": "{}",
         "name": "Office",
         "type": "\"string\""
        },
        {
         "metadata": "{}",
         "name": "average_csat",
         "type": "\"double\""
        },
        {
         "metadata": "{}",
         "name": "average_response_time",
         "type": "\"double\""
        },
        {
         "metadata": "{}",
         "name": "total_item_price",
         "type": "\"long\""
        }
       ],
       "type": "table"
      }
     },
     "output_type": "display_data"
    }
   ],
   "source": [
    "df_summary = silver_df.groupBy(\n",
    "    \"channel_name\",\n",
    "    \"category\",\n",
    "    \"sub_category\",\n",
    "    \"Customer_City\",\n",
    "    \"Agent_name\",\n",
    "    \"Supervisor\",\n",
    "    \"Manager\",\n",
    "    \"agent_shift\",\n",
    "    \"Office\"\n",
    ").agg(\n",
    "    round(avg(\"csat_score\"),2).alias(\"average_csat\"),\n",
    "    round(avg(\"Issue_response_time_in_minutes\"),2).alias(\"average_response_time\"),\n",
    "    round(sum(\"Item_price\"),2).alias(\"total_item_price\")\n",
    ")\n",
    "\n",
    "display(df_summary.limit(10))\n"
   ]
  },
  {
   "cell_type": "code",
   "execution_count": 0,
   "metadata": {
    "application/vnd.databricks.v1+cell": {
     "cellMetadata": {
      "byteLimit": 2048000,
      "rowLimit": 10000
     },
     "inputWidgets": {},
     "nuid": "4d746ae2-b242-4262-ad43-977d6a6f02e3",
     "showTitle": false,
     "tableResultSettingsMap": {},
     "title": ""
    }
   },
   "outputs": [],
   "source": [
    "df_summary.write.mode(\"overwrite\").saveAsTable(\"gold.aggregated_customer_support_data\")"
   ]
  }
 ],
 "metadata": {
  "application/vnd.databricks.v1+notebook": {
   "computePreferences": null,
   "dashboards": [],
   "environmentMetadata": {
    "base_environment": "",
    "environment_version": "2"
   },
   "inputWidgetPreferences": null,
   "language": "python",
   "notebookMetadata": {
    "pythonIndentUnit": 4
   },
   "notebookName": "Data Aggregation",
   "widgets": {}
  },
  "language_info": {
   "name": "python"
  }
 },
 "nbformat": 4,
 "nbformat_minor": 0
}