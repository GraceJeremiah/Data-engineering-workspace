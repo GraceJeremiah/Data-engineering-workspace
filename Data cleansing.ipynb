{
 "cells": [
  {
   "cell_type": "markdown",
   "metadata": {
    "application/vnd.databricks.v1+cell": {
     "cellMetadata": {},
     "inputWidgets": {},
     "nuid": "b25b8a95-4432-4c38-891b-72bb44ca7554",
     "showTitle": false,
     "tableResultSettingsMap": {},
     "title": ""
    }
   },
   "source": [
    "**Step 1: Import Necessary Libraries**"
   ]
  },
  {
   "cell_type": "code",
   "execution_count": 0,
   "metadata": {
    "application/vnd.databricks.v1+cell": {
     "cellMetadata": {
      "byteLimit": 2048000,
      "rowLimit": 10000
     },
     "inputWidgets": {},
     "nuid": "570aa8ff-274e-4063-b2d5-d8de5be7ab31",
     "showTitle": false,
     "tableResultSettingsMap": {},
     "title": ""
    }
   },
   "outputs": [],
   "source": [
    "from datetime import datetime, date, timedelta\n",
    "from pyspark.sql.functions import split, col, lit, to_date\n"
   ]
  },
  {
   "cell_type": "markdown",
   "metadata": {
    "application/vnd.databricks.v1+cell": {
     "cellMetadata": {},
     "inputWidgets": {},
     "nuid": "3cb1c5d5-4ea6-42f3-9f69-4daaaff8af17",
     "showTitle": false,
     "tableResultSettingsMap": {},
     "title": ""
    }
   },
   "source": [
    "**Load data into Dataframes**"
   ]
  },
  {
   "cell_type": "code",
   "execution_count": 0,
   "metadata": {
    "application/vnd.databricks.v1+cell": {
     "cellMetadata": {
      "byteLimit": 2048000,
      "rowLimit": 10000
     },
     "inputWidgets": {},
     "nuid": "f9d2485b-cf2d-479e-a81e-689d82f7af20",
     "showTitle": false,
     "tableResultSettingsMap": {},
     "title": ""
    }
   },
   "outputs": [
    {
     "output_type": "display_data",
     "data": {
      "text/html": [
       "<style scoped>\n",
       "  .table-result-container {\n",
       "    max-height: 300px;\n",
       "    overflow: auto;\n",
       "  }\n",
       "  table, th, td {\n",
       "    border: 1px solid black;\n",
       "    border-collapse: collapse;\n",
       "  }\n",
       "  th, td {\n",
       "    padding: 5px;\n",
       "  }\n",
       "  th {\n",
       "    text-align: left;\n",
       "  }\n",
       "</style><div class='table-result-container'><table class='table-result'><thead style='background-color: white'><tr><th>Unique id</th><th>channel_name</th><th>category</th><th>Sub-category</th><th>Customer Remarks</th><th>Order_id</th><th>order_date_time</th><th>Issue_reported at</th><th>issue_responded</th><th>Survey_response_Date</th><th>Customer_City</th><th>Product_category</th><th>Item_price</th><th>connected_handling_time</th><th>Agent_name</th><th>Supervisor</th><th>Manager</th><th>Tenure Bucket</th><th>Agent Shift</th><th>CSAT Score</th></tr></thead><tbody><tr><td>7e9ae164-6a8b-4521-a2d4-58f7c9fff13f</td><td>Outcall</td><td>Product Queries</td><td>Life Insurance</td><td>null</td><td>c27c9bb4-fa36-4140-9f1f-21009254ffdb</td><td>null</td><td>01/08/2023 11:13</td><td>01/08/2023 11:47</td><td>01-Jun-25</td><td>null</td><td>null</td><td>null</td><td>null</td><td>Richard Buchanan</td><td>Mason Gupta</td><td>Jennifer Nguyen</td><td>On Job Training</td><td>Morning</td><td>5</td></tr><tr><td>b07ec1b0-f376-43b6-86df-ec03da3b2e16</td><td>Outcall</td><td>Product Queries</td><td>Product Specific Information</td><td>null</td><td>d406b0c7-ce17-4654-b9de-f08d421254bd</td><td>null</td><td>01/08/2023 12:52</td><td>01/08/2023 12:54</td><td>02-Jun-25</td><td>null</td><td>null</td><td>null</td><td>null</td><td>Vicki Collins</td><td>Dylan Kim</td><td>Michael Lee</td><td>>90</td><td>Morning</td><td>5</td></tr><tr><td>200814dd-27c7-4149-ba2b-bd3af3092880</td><td>Inbound</td><td>Order Related</td><td>Installation/demo</td><td>null</td><td>c273368d-b961-44cb-beaf-62d6fd6c00d5</td><td>null</td><td>01/08/2023 20:16</td><td>01/08/2023 20:38</td><td>03-Jun-25</td><td>null</td><td>null</td><td>null</td><td>null</td><td>Duane Norman</td><td>Jackson Park</td><td>William Kim</td><td>On Job Training</td><td>Evening</td><td>5</td></tr><tr><td>eb0d3e53-c1ca-42d3-8486-e42c8d622135</td><td>Inbound</td><td>Returns</td><td>Reverse Pickup Enquiry</td><td>null</td><td>5aed0059-55a4-4ec6-bb54-97942092020a</td><td>null</td><td>01/08/2023 20:56</td><td>01/08/2023 21:16</td><td>04-Jun-25</td><td>null</td><td>null</td><td>null</td><td>null</td><td>Patrick Flores</td><td>Olivia Wang</td><td>John Smith</td><td>>90</td><td>Evening</td><td>5</td></tr><tr><td>ba903143-1e54-406c-b969-46c52f92e5df</td><td>Inbound</td><td>Cancellation</td><td>Not Needed</td><td>null</td><td>e8bed5a9-6933-4aff-9dc6-ccefd7dcde59</td><td>null</td><td>01/08/2023 10:30</td><td>01/08/2023 10:32</td><td>05-Jun-25</td><td>null</td><td>null</td><td>null</td><td>null</td><td>Christopher Sanchez</td><td>Austin Johnson</td><td>Michael Lee</td><td>0-30</td><td>Morning</td><td>5</td></tr><tr><td>1cfde5b9-6112-44fc-8f3b-892196137a62</td><td>Email</td><td>Returns</td><td>Fraudulent User</td><td>null</td><td>a2938961-2833-45f1-83d6-678d9555c603</td><td>null</td><td>01/08/2023 15:13</td><td>01/08/2023 18:39</td><td>06-Jun-25</td><td>null</td><td>null</td><td>null</td><td>null</td><td>Desiree Newton</td><td>Emma Park</td><td>John Smith</td><td>0-30</td><td>Morning</td><td>5</td></tr><tr><td>11a3ffd8-1d6b-4806-b198-c60b5934c9bc</td><td>Outcall</td><td>Product Queries</td><td>Product Specific Information</td><td>null</td><td>bfcb562b-9a2f-4cca-aa79-fd4e2952f901</td><td>null</td><td>01/08/2023 15:31</td><td>01/08/2023 23:52</td><td>07-Jun-25</td><td>null</td><td>null</td><td>null</td><td>null</td><td>Shannon Hicks</td><td>Aiden Patel</td><td>Olivia Tan</td><td>>90</td><td>Morning</td><td>5</td></tr><tr><td>372b51a5-fa19-4a31-a4b8-a21de117d75e</td><td>Inbound</td><td>Returns</td><td>Exchange / Replacement</td><td>Very good</td><td>88537e0b-5ffa-43f9-bbe2-fe57a0f4e4ae</td><td>null</td><td>01/08/2023 16:17</td><td>01/08/2023 16:23</td><td>07-Jun-25</td><td>null</td><td>null</td><td>null</td><td>null</td><td>Laura Smith</td><td>Evelyn Kimura</td><td>Jennifer Nguyen</td><td>On Job Training</td><td>Evening</td><td>5</td></tr><tr><td>6e4413db-4e16-42fc-ac92-2f402e3df03c</td><td>Inbound</td><td>Returns</td><td>Missing</td><td>Shopzilla app and it's all coustomer care services is very good service provided all time</td><td>e6be9713-13c3-493c-8a91-2137cbbfa7e6</td><td>null</td><td>01/08/2023 21:03</td><td>01/08/2023 21:07</td><td>09-Jun-25</td><td>null</td><td>null</td><td>null</td><td>null</td><td>David Smith</td><td>Nathan Patel</td><td>John Smith</td><td>>90</td><td>Split</td><td>5</td></tr><tr><td>b0a65350-64a5-4603-8b9a-a24a4a145d08</td><td>Inbound</td><td>Shopzilla Related</td><td>General Enquiry</td><td>null</td><td>c7caa804-2525-499e-b202-4c781cb68974</td><td>null</td><td>01/08/2023 23:31</td><td>01/08/2023 23:36</td><td>10-Jun-25</td><td>null</td><td>null</td><td>null</td><td>null</td><td>Tabitha Ayala</td><td>Amelia Tanaka</td><td>Michael Lee</td><td>31-60</td><td>Evening</td><td>5</td></tr></tbody></table></div>"
      ]
     },
     "metadata": {
      "application/vnd.databricks.v1+output": {
       "addedWidgets": {},
       "aggData": [],
       "aggError": "",
       "aggOverflow": false,
       "aggSchema": [],
       "aggSeriesLimitReached": false,
       "aggType": "",
       "arguments": {},
       "columnCustomDisplayInfos": {},
       "data": [
        [
         "7e9ae164-6a8b-4521-a2d4-58f7c9fff13f",
         "Outcall",
         "Product Queries",
         "Life Insurance",
         null,
         "c27c9bb4-fa36-4140-9f1f-21009254ffdb",
         null,
         "01/08/2023 11:13",
         "01/08/2023 11:47",
         "01-Jun-25",
         null,
         null,
         null,
         null,
         "Richard Buchanan",
         "Mason Gupta",
         "Jennifer Nguyen",
         "On Job Training",
         "Morning",
         5
        ],
        [
         "b07ec1b0-f376-43b6-86df-ec03da3b2e16",
         "Outcall",
         "Product Queries",
         "Product Specific Information",
         null,
         "d406b0c7-ce17-4654-b9de-f08d421254bd",
         null,
         "01/08/2023 12:52",
         "01/08/2023 12:54",
         "02-Jun-25",
         null,
         null,
         null,
         null,
         "Vicki Collins",
         "Dylan Kim",
         "Michael Lee",
         ">90",
         "Morning",
         5
        ],
        [
         "200814dd-27c7-4149-ba2b-bd3af3092880",
         "Inbound",
         "Order Related",
         "Installation/demo",
         null,
         "c273368d-b961-44cb-beaf-62d6fd6c00d5",
         null,
         "01/08/2023 20:16",
         "01/08/2023 20:38",
         "03-Jun-25",
         null,
         null,
         null,
         null,
         "Duane Norman",
         "Jackson Park",
         "William Kim",
         "On Job Training",
         "Evening",
         5
        ],
        [
         "eb0d3e53-c1ca-42d3-8486-e42c8d622135",
         "Inbound",
         "Returns",
         "Reverse Pickup Enquiry",
         null,
         "5aed0059-55a4-4ec6-bb54-97942092020a",
         null,
         "01/08/2023 20:56",
         "01/08/2023 21:16",
         "04-Jun-25",
         null,
         null,
         null,
         null,
         "Patrick Flores",
         "Olivia Wang",
         "John Smith",
         ">90",
         "Evening",
         5
        ],
        [
         "ba903143-1e54-406c-b969-46c52f92e5df",
         "Inbound",
         "Cancellation",
         "Not Needed",
         null,
         "e8bed5a9-6933-4aff-9dc6-ccefd7dcde59",
         null,
         "01/08/2023 10:30",
         "01/08/2023 10:32",
         "05-Jun-25",
         null,
         null,
         null,
         null,
         "Christopher Sanchez",
         "Austin Johnson",
         "Michael Lee",
         "0-30",
         "Morning",
         5
        ],
        [
         "1cfde5b9-6112-44fc-8f3b-892196137a62",
         "Email",
         "Returns",
         "Fraudulent User",
         null,
         "a2938961-2833-45f1-83d6-678d9555c603",
         null,
         "01/08/2023 15:13",
         "01/08/2023 18:39",
         "06-Jun-25",
         null,
         null,
         null,
         null,
         "Desiree Newton",
         "Emma Park",
         "John Smith",
         "0-30",
         "Morning",
         5
        ],
        [
         "11a3ffd8-1d6b-4806-b198-c60b5934c9bc",
         "Outcall",
         "Product Queries",
         "Product Specific Information",
         null,
         "bfcb562b-9a2f-4cca-aa79-fd4e2952f901",
         null,
         "01/08/2023 15:31",
         "01/08/2023 23:52",
         "07-Jun-25",
         null,
         null,
         null,
         null,
         "Shannon Hicks",
         "Aiden Patel",
         "Olivia Tan",
         ">90",
         "Morning",
         5
        ],
        [
         "372b51a5-fa19-4a31-a4b8-a21de117d75e",
         "Inbound",
         "Returns",
         "Exchange / Replacement",
         "Very good",
         "88537e0b-5ffa-43f9-bbe2-fe57a0f4e4ae",
         null,
         "01/08/2023 16:17",
         "01/08/2023 16:23",
         "07-Jun-25",
         null,
         null,
         null,
         null,
         "Laura Smith",
         "Evelyn Kimura",
         "Jennifer Nguyen",
         "On Job Training",
         "Evening",
         5
        ],
        [
         "6e4413db-4e16-42fc-ac92-2f402e3df03c",
         "Inbound",
         "Returns",
         "Missing",
         "Shopzilla app and it's all coustomer care services is very good service provided all time",
         "e6be9713-13c3-493c-8a91-2137cbbfa7e6",
         null,
         "01/08/2023 21:03",
         "01/08/2023 21:07",
         "09-Jun-25",
         null,
         null,
         null,
         null,
         "David Smith",
         "Nathan Patel",
         "John Smith",
         ">90",
         "Split",
         5
        ],
        [
         "b0a65350-64a5-4603-8b9a-a24a4a145d08",
         "Inbound",
         "Shopzilla Related",
         "General Enquiry",
         null,
         "c7caa804-2525-499e-b202-4c781cb68974",
         null,
         "01/08/2023 23:31",
         "01/08/2023 23:36",
         "10-Jun-25",
         null,
         null,
         null,
         null,
         "Tabitha Ayala",
         "Amelia Tanaka",
         "Michael Lee",
         "31-60",
         "Evening",
         5
        ]
       ],
       "datasetInfos": [],
       "dbfsResultPath": null,
       "isJsonSchema": true,
       "metadata": {},
       "overflow": false,
       "plotOptions": {
        "customPlotOptions": {},
        "displayType": "table",
        "pivotAggregation": null,
        "pivotColumns": null,
        "xColumns": null,
        "yColumns": null
       },
       "removedWidgets": [],
       "schema": [
        {
         "metadata": "{}",
         "name": "Unique id",
         "type": "\"string\""
        },
        {
         "metadata": "{}",
         "name": "channel_name",
         "type": "\"string\""
        },
        {
         "metadata": "{}",
         "name": "category",
         "type": "\"string\""
        },
        {
         "metadata": "{}",
         "name": "Sub-category",
         "type": "\"string\""
        },
        {
         "metadata": "{}",
         "name": "Customer Remarks",
         "type": "\"string\""
        },
        {
         "metadata": "{}",
         "name": "Order_id",
         "type": "\"string\""
        },
        {
         "metadata": "{}",
         "name": "order_date_time",
         "type": "\"string\""
        },
        {
         "metadata": "{}",
         "name": "Issue_reported at",
         "type": "\"string\""
        },
        {
         "metadata": "{}",
         "name": "issue_responded",
         "type": "\"string\""
        },
        {
         "metadata": "{}",
         "name": "Survey_response_Date",
         "type": "\"string\""
        },
        {
         "metadata": "{}",
         "name": "Customer_City",
         "type": "\"string\""
        },
        {
         "metadata": "{}",
         "name": "Product_category",
         "type": "\"string\""
        },
        {
         "metadata": "{}",
         "name": "Item_price",
         "type": "\"long\""
        },
        {
         "metadata": "{}",
         "name": "connected_handling_time",
         "type": "\"long\""
        },
        {
         "metadata": "{}",
         "name": "Agent_name",
         "type": "\"string\""
        },
        {
         "metadata": "{}",
         "name": "Supervisor",
         "type": "\"string\""
        },
        {
         "metadata": "{}",
         "name": "Manager",
         "type": "\"string\""
        },
        {
         "metadata": "{}",
         "name": "Tenure Bucket",
         "type": "\"string\""
        },
        {
         "metadata": "{}",
         "name": "Agent Shift",
         "type": "\"string\""
        },
        {
         "metadata": "{}",
         "name": "CSAT Score",
         "type": "\"long\""
        }
       ],
       "type": "table"
      }
     },
     "output_type": "display_data"
    }
   ],
   "source": [
    "customer_support_df = spark.table(\"bronze.customer_support_data\")\n",
    "display(customer_support_df.limit(10))"
   ]
  },
  {
   "cell_type": "code",
   "execution_count": 0,
   "metadata": {
    "application/vnd.databricks.v1+cell": {
     "cellMetadata": {},
     "inputWidgets": {},
     "nuid": "f036d3b6-9ead-41cc-89e7-33a7635f56a3",
     "showTitle": false,
     "tableResultSettingsMap": {},
     "title": ""
    }
   },
   "outputs": [
    {
     "output_type": "stream",
     "name": "stdout",
     "output_type": "stream",
     "text": [
      "root\n |-- Unique id: string (nullable = true)\n |-- channel_name: string (nullable = true)\n |-- category: string (nullable = true)\n |-- Sub-category: string (nullable = true)\n |-- Customer Remarks: string (nullable = true)\n |-- Order_id: string (nullable = true)\n |-- order_date_time: string (nullable = true)\n |-- Issue_reported at: string (nullable = true)\n |-- issue_responded: string (nullable = true)\n |-- Survey_response_Date: string (nullable = true)\n |-- Customer_City: string (nullable = true)\n |-- Product_category: string (nullable = true)\n |-- Item_price: long (nullable = true)\n |-- connected_handling_time: long (nullable = true)\n |-- Agent_name: string (nullable = true)\n |-- Supervisor: string (nullable = true)\n |-- Manager: string (nullable = true)\n |-- Tenure Bucket: string (nullable = true)\n |-- Agent Shift: string (nullable = true)\n |-- CSAT Score: long (nullable = true)\n\n"
     ]
    }
   ],
   "source": [
    "customer_support_df.printSchema()"
   ]
  },
  {
   "cell_type": "code",
   "execution_count": 0,
   "metadata": {
    "application/vnd.databricks.v1+cell": {
     "cellMetadata": {
      "byteLimit": 2048000,
      "rowLimit": 10000
     },
     "inputWidgets": {},
     "nuid": "cc11e7a2-c68e-4dbf-a359-e6cfb360944e",
     "showTitle": false,
     "tableResultSettingsMap": {},
     "title": ""
    }
   },
   "outputs": [
    {
     "output_type": "display_data",
     "data": {
      "text/html": [
       "<style scoped>\n",
       "  .table-result-container {\n",
       "    max-height: 300px;\n",
       "    overflow: auto;\n",
       "  }\n",
       "  table, th, td {\n",
       "    border: 1px solid black;\n",
       "    border-collapse: collapse;\n",
       "  }\n",
       "  th, td {\n",
       "    padding: 5px;\n",
       "  }\n",
       "  th {\n",
       "    text-align: left;\n",
       "  }\n",
       "</style><div class='table-result-container'><table class='table-result'><thead style='background-color: white'><tr><th>Unique id</th><th>channel_name</th><th>category</th><th>Sub-category</th><th>Customer Remarks</th><th>Order_id</th><th>order_date_time</th><th>Issue_reported at</th><th>issue_responded</th><th>Survey_response_Date</th><th>Customer_City</th><th>Product_category</th><th>Item_price</th><th>connected_handling_time</th><th>Agent_name</th><th>Supervisor</th><th>Manager</th><th>Tenure Bucket</th><th>Agent Shift</th><th>CSAT Score</th></tr></thead><tbody><tr><td>ebbb100b-37f1-6d18-027b-3c333dd46a5f</td><td>Outcall</td><td>Product Queries</td><td>Life Insurance</td><td>null</td><td>fb019b56-b113-4ef5-401b-779b2451f11b</td><td>null</td><td>01/08/2023 11:13</td><td>01/08/2023 11:47</td><td>01-Jul-25</td><td>Kilkenny</td><td>null</td><td>null</td><td>null</td><td>Richard Buchanan</td><td>Mason Gupta</td><td>Jennifer Nguyen</td><td>On Job Training</td><td>Morning</td><td>5</td></tr><tr><td>81b7e132-cca4-f76e-9316-c0f73515fe1e</td><td>Outcall</td><td>Product Queries</td><td>Product Specific Information</td><td>null</td><td>f26d0d75-891d-7ded-e00b-c65c96b016b5</td><td>null</td><td>01/08/2023 12:52</td><td>01/08/2023 12:54</td><td>02-Jul-25</td><td>Kilkenny</td><td>null</td><td>null</td><td>null</td><td>Vicki Collins</td><td>Dylan Kim</td><td>Michael Lee</td><td>>90</td><td>Morning</td><td>5</td></tr><tr><td>629c352a-733e-3444-538c-42101995832b</td><td>Inbound</td><td>Order Related</td><td>Installation/demo</td><td>null</td><td>ed78ce30-7c65-2262-fa74-e74e64654509</td><td>null</td><td>01/08/2023 20:16</td><td>01/08/2023 20:38</td><td>03-Jul-25</td><td>Kilkenny</td><td>null</td><td>null</td><td>null</td><td>Duane Norman</td><td>Jackson Park</td><td>William Kim</td><td>On Job Training</td><td>Evening</td><td>5</td></tr><tr><td>f10dd3d2-0d0c-e676-e446-6322eb6808a0</td><td>Inbound</td><td>Returns</td><td>Reverse Pickup Enquiry</td><td>null</td><td>e4b73292-231e-0c73-78d5-e91783126e53</td><td>null</td><td>01/08/2023 20:56</td><td>01/08/2023 21:16</td><td>04-Jul-25</td><td>Kilkenny</td><td>null</td><td>null</td><td>null</td><td>Patrick Flores</td><td>Olivia Wang</td><td>John Smith</td><td>>90</td><td>Evening</td><td>5</td></tr><tr><td>9aa88e06-1dea-ce75-2b68-59e7519de51a</td><td>Inbound</td><td>Cancellation</td><td>Not Needed</td><td>null</td><td>b881a248-f051-a409-c3e8-05c8120d75f3</td><td>null</td><td>01/08/2023 10:30</td><td>01/08/2023 10:32</td><td>05-Jul-25</td><td>Kilkenny</td><td>null</td><td>null</td><td>null</td><td>Christopher Sanchez</td><td>Austin Johnson</td><td>Michael Lee</td><td>0-30</td><td>Morning</td><td>5</td></tr><tr><td>0ec4fee3-9deb-0cc6-1908-dab1d05b7755</td><td>Email</td><td>Returns</td><td>Fraudulent User</td><td>null</td><td>684c46de-758d-a031-8ce8-40ba3339d61c</td><td>null</td><td>01/08/2023 15:13</td><td>01/08/2023 18:39</td><td>06-Jul-25</td><td>Kilkenny</td><td>null</td><td>null</td><td>null</td><td>Desiree Newton</td><td>Emma Park</td><td>John Smith</td><td>0-30</td><td>Morning</td><td>5</td></tr><tr><td>a49662dd-d7fb-9069-2a2c-bc9b8198211b</td><td>Outcall</td><td>Product Queries</td><td>Product Specific Information</td><td>null</td><td>8b22223b-6102-3613-7b60-b92479910aef</td><td>null</td><td>01/08/2023 15:31</td><td>01/08/2023 23:52</td><td>07-Jul-25</td><td>Kilkenny</td><td>null</td><td>null</td><td>null</td><td>Shannon Hicks</td><td>Aiden Patel</td><td>Olivia Tan</td><td>>90</td><td>Morning</td><td>5</td></tr><tr><td>721b5a60-4190-75ce-6aee-a1ee8a83a094</td><td>Inbound</td><td>Returns</td><td>Exchange / Replacement</td><td>Very good</td><td>21d05084-5198-4f68-5410-cdec39039e24</td><td>null</td><td>01/08/2023 16:17</td><td>01/08/2023 16:23</td><td>08-Jul-25</td><td>Kilkenny</td><td>null</td><td>null</td><td>null</td><td>Laura Smith</td><td>Evelyn Kimura</td><td>Jennifer Nguyen</td><td>On Job Training</td><td>Evening</td><td>5</td></tr><tr><td>df10f515-59a6-bb88-86f8-9ce18ba1c945</td><td>Inbound</td><td>Returns</td><td>Missing</td><td>Shopzilla app and it's all coustomer care services is very good service provided all time</td><td>70d9fe7e-3548-4dff-b206-6ae2ba2b0890</td><td>null</td><td>01/08/2023 21:03</td><td>01/08/2023 21:07</td><td>09-Jul-25</td><td>Drogheda</td><td>null</td><td>null</td><td>null</td><td>David Smith</td><td>Nathan Patel</td><td>John Smith</td><td>>90</td><td>Split</td><td>5</td></tr><tr><td>da2b6d17-479c-b7cf-d4c8-5ad35910bedf</td><td>Inbound</td><td>Shopzilla Related</td><td>General Enquiry</td><td>null</td><td>672a6385-4ff4-4191-fca1-94b114376ea6</td><td>null</td><td>01/08/2023 23:31</td><td>01/08/2023 23:36</td><td>10-Jul-25</td><td>Drogheda</td><td>null</td><td>null</td><td>null</td><td>Tabitha Ayala</td><td>Amelia Tanaka</td><td>Michael Lee</td><td>31-60</td><td>Evening</td><td>5</td></tr></tbody></table></div>"
      ]
     },
     "metadata": {
      "application/vnd.databricks.v1+output": {
       "addedWidgets": {},
       "aggData": [],
       "aggError": "",
       "aggOverflow": false,
       "aggSchema": [],
       "aggSeriesLimitReached": false,
       "aggType": "",
       "arguments": {},
       "columnCustomDisplayInfos": {},
       "data": [
        [
         "ebbb100b-37f1-6d18-027b-3c333dd46a5f",
         "Outcall",
         "Product Queries",
         "Life Insurance",
         null,
         "fb019b56-b113-4ef5-401b-779b2451f11b",
         null,
         "01/08/2023 11:13",
         "01/08/2023 11:47",
         "01-Jul-25",
         "Kilkenny",
         null,
         null,
         null,
         "Richard Buchanan",
         "Mason Gupta",
         "Jennifer Nguyen",
         "On Job Training",
         "Morning",
         5
        ],
        [
         "81b7e132-cca4-f76e-9316-c0f73515fe1e",
         "Outcall",
         "Product Queries",
         "Product Specific Information",
         null,
         "f26d0d75-891d-7ded-e00b-c65c96b016b5",
         null,
         "01/08/2023 12:52",
         "01/08/2023 12:54",
         "02-Jul-25",
         "Kilkenny",
         null,
         null,
         null,
         "Vicki Collins",
         "Dylan Kim",
         "Michael Lee",
         ">90",
         "Morning",
         5
        ],
        [
         "629c352a-733e-3444-538c-42101995832b",
         "Inbound",
         "Order Related",
         "Installation/demo",
         null,
         "ed78ce30-7c65-2262-fa74-e74e64654509",
         null,
         "01/08/2023 20:16",
         "01/08/2023 20:38",
         "03-Jul-25",
         "Kilkenny",
         null,
         null,
         null,
         "Duane Norman",
         "Jackson Park",
         "William Kim",
         "On Job Training",
         "Evening",
         5
        ],
        [
         "f10dd3d2-0d0c-e676-e446-6322eb6808a0",
         "Inbound",
         "Returns",
         "Reverse Pickup Enquiry",
         null,
         "e4b73292-231e-0c73-78d5-e91783126e53",
         null,
         "01/08/2023 20:56",
         "01/08/2023 21:16",
         "04-Jul-25",
         "Kilkenny",
         null,
         null,
         null,
         "Patrick Flores",
         "Olivia Wang",
         "John Smith",
         ">90",
         "Evening",
         5
        ],
        [
         "9aa88e06-1dea-ce75-2b68-59e7519de51a",
         "Inbound",
         "Cancellation",
         "Not Needed",
         null,
         "b881a248-f051-a409-c3e8-05c8120d75f3",
         null,
         "01/08/2023 10:30",
         "01/08/2023 10:32",
         "05-Jul-25",
         "Kilkenny",
         null,
         null,
         null,
         "Christopher Sanchez",
         "Austin Johnson",
         "Michael Lee",
         "0-30",
         "Morning",
         5
        ],
        [
         "0ec4fee3-9deb-0cc6-1908-dab1d05b7755",
         "Email",
         "Returns",
         "Fraudulent User",
         null,
         "684c46de-758d-a031-8ce8-40ba3339d61c",
         null,
         "01/08/2023 15:13",
         "01/08/2023 18:39",
         "06-Jul-25",
         "Kilkenny",
         null,
         null,
         null,
         "Desiree Newton",
         "Emma Park",
         "John Smith",
         "0-30",
         "Morning",
         5
        ],
        [
         "a49662dd-d7fb-9069-2a2c-bc9b8198211b",
         "Outcall",
         "Product Queries",
         "Product Specific Information",
         null,
         "8b22223b-6102-3613-7b60-b92479910aef",
         null,
         "01/08/2023 15:31",
         "01/08/2023 23:52",
         "07-Jul-25",
         "Kilkenny",
         null,
         null,
         null,
         "Shannon Hicks",
         "Aiden Patel",
         "Olivia Tan",
         ">90",
         "Morning",
         5
        ],
        [
         "721b5a60-4190-75ce-6aee-a1ee8a83a094",
         "Inbound",
         "Returns",
         "Exchange / Replacement",
         "Very good",
         "21d05084-5198-4f68-5410-cdec39039e24",
         null,
         "01/08/2023 16:17",
         "01/08/2023 16:23",
         "08-Jul-25",
         "Kilkenny",
         null,
         null,
         null,
         "Laura Smith",
         "Evelyn Kimura",
         "Jennifer Nguyen",
         "On Job Training",
         "Evening",
         5
        ],
        [
         "df10f515-59a6-bb88-86f8-9ce18ba1c945",
         "Inbound",
         "Returns",
         "Missing",
         "Shopzilla app and it's all coustomer care services is very good service provided all time",
         "70d9fe7e-3548-4dff-b206-6ae2ba2b0890",
         null,
         "01/08/2023 21:03",
         "01/08/2023 21:07",
         "09-Jul-25",
         "Drogheda",
         null,
         null,
         null,
         "David Smith",
         "Nathan Patel",
         "John Smith",
         ">90",
         "Split",
         5
        ],
        [
         "da2b6d17-479c-b7cf-d4c8-5ad35910bedf",
         "Inbound",
         "Shopzilla Related",
         "General Enquiry",
         null,
         "672a6385-4ff4-4191-fca1-94b114376ea6",
         null,
         "01/08/2023 23:31",
         "01/08/2023 23:36",
         "10-Jul-25",
         "Drogheda",
         null,
         null,
         null,
         "Tabitha Ayala",
         "Amelia Tanaka",
         "Michael Lee",
         "31-60",
         "Evening",
         5
        ]
       ],
       "datasetInfos": [],
       "dbfsResultPath": null,
       "isJsonSchema": true,
       "metadata": {},
       "overflow": false,
       "plotOptions": {
        "customPlotOptions": {},
        "displayType": "table",
        "pivotAggregation": null,
        "pivotColumns": null,
        "xColumns": null,
        "yColumns": null
       },
       "removedWidgets": [],
       "schema": [
        {
         "metadata": "{}",
         "name": "Unique id",
         "type": "\"string\""
        },
        {
         "metadata": "{}",
         "name": "channel_name",
         "type": "\"string\""
        },
        {
         "metadata": "{}",
         "name": "category",
         "type": "\"string\""
        },
        {
         "metadata": "{}",
         "name": "Sub-category",
         "type": "\"string\""
        },
        {
         "metadata": "{}",
         "name": "Customer Remarks",
         "type": "\"string\""
        },
        {
         "metadata": "{}",
         "name": "Order_id",
         "type": "\"string\""
        },
        {
         "metadata": "{}",
         "name": "order_date_time",
         "type": "\"string\""
        },
        {
         "metadata": "{}",
         "name": "Issue_reported at",
         "type": "\"string\""
        },
        {
         "metadata": "{}",
         "name": "issue_responded",
         "type": "\"string\""
        },
        {
         "metadata": "{}",
         "name": "Survey_response_Date",
         "type": "\"string\""
        },
        {
         "metadata": "{}",
         "name": "Customer_City",
         "type": "\"string\""
        },
        {
         "metadata": "{}",
         "name": "Product_category",
         "type": "\"string\""
        },
        {
         "metadata": "{}",
         "name": "Item_price",
         "type": "\"long\""
        },
        {
         "metadata": "{}",
         "name": "connected_handling_time",
         "type": "\"string\""
        },
        {
         "metadata": "{}",
         "name": "Agent_name",
         "type": "\"string\""
        },
        {
         "metadata": "{}",
         "name": "Supervisor",
         "type": "\"string\""
        },
        {
         "metadata": "{}",
         "name": "Manager",
         "type": "\"string\""
        },
        {
         "metadata": "{}",
         "name": "Tenure Bucket",
         "type": "\"string\""
        },
        {
         "metadata": "{}",
         "name": "Agent Shift",
         "type": "\"string\""
        },
        {
         "metadata": "{}",
         "name": "CSAT Score",
         "type": "\"long\""
        }
       ],
       "type": "table"
      }
     },
     "output_type": "display_data"
    }
   ],
   "source": [
    "customer_support_ireland_df = spark.table(\"bronze.customer_support_data_ireland_office\")\n",
    "display(customer_support_ireland_df.limit(10))"
   ]
  },
  {
   "cell_type": "code",
   "execution_count": 0,
   "metadata": {
    "application/vnd.databricks.v1+cell": {
     "cellMetadata": {
      "byteLimit": 2048000,
      "rowLimit": 10000
     },
     "inputWidgets": {},
     "nuid": "31982103-b112-4acf-9cc5-eab15c44357a",
     "showTitle": false,
     "tableResultSettingsMap": {},
     "title": ""
    }
   },
   "outputs": [
    {
     "output_type": "display_data",
     "data": {
      "text/html": [
       "<style scoped>\n",
       "  .table-result-container {\n",
       "    max-height: 300px;\n",
       "    overflow: auto;\n",
       "  }\n",
       "  table, th, td {\n",
       "    border: 1px solid black;\n",
       "    border-collapse: collapse;\n",
       "  }\n",
       "  th, td {\n",
       "    padding: 5px;\n",
       "  }\n",
       "  th {\n",
       "    text-align: left;\n",
       "  }\n",
       "</style><div class='table-result-container'><table class='table-result'><thead style='background-color: white'><tr><th>Order_id</th><th>Item_price</th></tr></thead><tbody><tr><td>c27c9bb4-fa36-4140-9f1f-21009254ffdb</td><td>5065</td></tr><tr><td>d406b0c7-ce17-4654-b9de-f08d421254bd</td><td>9192</td></tr><tr><td>c273368d-b961-44cb-beaf-62d6fd6c00d5</td><td>6984</td></tr><tr><td>5aed0059-55a4-4ec6-bb54-97942092020a</td><td>6761</td></tr><tr><td>e8bed5a9-6933-4aff-9dc6-ccefd7dcde59</td><td>2573</td></tr><tr><td>a2938961-2833-45f1-83d6-678d9555c603</td><td>9290</td></tr><tr><td>bfcb562b-9a2f-4cca-aa79-fd4e2952f901</td><td>1035</td></tr><tr><td>88537e0b-5ffa-43f9-bbe2-fe57a0f4e4ae</td><td>5384</td></tr><tr><td>e6be9713-13c3-493c-8a91-2137cbbfa7e6</td><td>5381</td></tr><tr><td>c7caa804-2525-499e-b202-4c781cb68974</td><td>5325</td></tr></tbody></table></div>"
      ]
     },
     "metadata": {
      "application/vnd.databricks.v1+output": {
       "addedWidgets": {},
       "aggData": [],
       "aggError": "",
       "aggOverflow": false,
       "aggSchema": [],
       "aggSeriesLimitReached": false,
       "aggType": "",
       "arguments": {},
       "columnCustomDisplayInfos": {},
       "data": [
        [
         "c27c9bb4-fa36-4140-9f1f-21009254ffdb",
         5065
        ],
        [
         "d406b0c7-ce17-4654-b9de-f08d421254bd",
         9192
        ],
        [
         "c273368d-b961-44cb-beaf-62d6fd6c00d5",
         6984
        ],
        [
         "5aed0059-55a4-4ec6-bb54-97942092020a",
         6761
        ],
        [
         "e8bed5a9-6933-4aff-9dc6-ccefd7dcde59",
         2573
        ],
        [
         "a2938961-2833-45f1-83d6-678d9555c603",
         9290
        ],
        [
         "bfcb562b-9a2f-4cca-aa79-fd4e2952f901",
         1035
        ],
        [
         "88537e0b-5ffa-43f9-bbe2-fe57a0f4e4ae",
         5384
        ],
        [
         "e6be9713-13c3-493c-8a91-2137cbbfa7e6",
         5381
        ],
        [
         "c7caa804-2525-499e-b202-4c781cb68974",
         5325
        ]
       ],
       "datasetInfos": [],
       "dbfsResultPath": null,
       "isJsonSchema": true,
       "metadata": {},
       "overflow": false,
       "plotOptions": {
        "customPlotOptions": {},
        "displayType": "table",
        "pivotAggregation": null,
        "pivotColumns": null,
        "xColumns": null,
        "yColumns": null
       },
       "removedWidgets": [],
       "schema": [
        {
         "metadata": "{}",
         "name": "Order_id",
         "type": "\"string\""
        },
        {
         "metadata": "{}",
         "name": "Item_price",
         "type": "\"long\""
        }
       ],
       "type": "table"
      }
     },
     "output_type": "display_data"
    }
   ],
   "source": [
    "item_price_df = spark.table(\"bronze.item_price\")\n",
    "display(item_price_df.limit(10))"
   ]
  },
  {
   "cell_type": "markdown",
   "metadata": {
    "application/vnd.databricks.v1+cell": {
     "cellMetadata": {},
     "inputWidgets": {},
     "nuid": "84986854-d597-45cb-85a1-5942d0e3495e",
     "showTitle": false,
     "tableResultSettingsMap": {},
     "title": ""
    }
   },
   "source": [
    "**Create a column with literal**"
   ]
  },
  {
   "cell_type": "code",
   "execution_count": 0,
   "metadata": {
    "application/vnd.databricks.v1+cell": {
     "cellMetadata": {
      "byteLimit": 2048000,
      "rowLimit": 10000
     },
     "inputWidgets": {},
     "nuid": "aed4ed49-3e15-4f6c-b946-fd0a33b6157f",
     "showTitle": false,
     "tableResultSettingsMap": {},
     "title": ""
    }
   },
   "outputs": [
    {
     "output_type": "display_data",
     "data": {
      "text/html": [
       "<style scoped>\n",
       "  .table-result-container {\n",
       "    max-height: 300px;\n",
       "    overflow: auto;\n",
       "  }\n",
       "  table, th, td {\n",
       "    border: 1px solid black;\n",
       "    border-collapse: collapse;\n",
       "  }\n",
       "  th, td {\n",
       "    padding: 5px;\n",
       "  }\n",
       "  th {\n",
       "    text-align: left;\n",
       "  }\n",
       "</style><div class='table-result-container'><table class='table-result'><thead style='background-color: white'><tr><th>Unique id</th><th>channel_name</th><th>category</th><th>Sub-category</th><th>Customer Remarks</th><th>Order_id</th><th>order_date_time</th><th>Issue_reported at</th><th>issue_responded</th><th>Survey_response_Date</th><th>Customer_City</th><th>Product_category</th><th>Item_price</th><th>connected_handling_time</th><th>Agent_name</th><th>Supervisor</th><th>Manager</th><th>Tenure Bucket</th><th>Agent Shift</th><th>CSAT Score</th><th>Office</th></tr></thead><tbody><tr><td>7e9ae164-6a8b-4521-a2d4-58f7c9fff13f</td><td>Outcall</td><td>Product Queries</td><td>Life Insurance</td><td>null</td><td>c27c9bb4-fa36-4140-9f1f-21009254ffdb</td><td>null</td><td>01/08/2023 11:13</td><td>01/08/2023 11:47</td><td>01-Jun-25</td><td>null</td><td>null</td><td>null</td><td>null</td><td>Richard Buchanan</td><td>Mason Gupta</td><td>Jennifer Nguyen</td><td>On Job Training</td><td>Morning</td><td>5</td><td>India</td></tr><tr><td>b07ec1b0-f376-43b6-86df-ec03da3b2e16</td><td>Outcall</td><td>Product Queries</td><td>Product Specific Information</td><td>null</td><td>d406b0c7-ce17-4654-b9de-f08d421254bd</td><td>null</td><td>01/08/2023 12:52</td><td>01/08/2023 12:54</td><td>02-Jun-25</td><td>null</td><td>null</td><td>null</td><td>null</td><td>Vicki Collins</td><td>Dylan Kim</td><td>Michael Lee</td><td>>90</td><td>Morning</td><td>5</td><td>India</td></tr><tr><td>200814dd-27c7-4149-ba2b-bd3af3092880</td><td>Inbound</td><td>Order Related</td><td>Installation/demo</td><td>null</td><td>c273368d-b961-44cb-beaf-62d6fd6c00d5</td><td>null</td><td>01/08/2023 20:16</td><td>01/08/2023 20:38</td><td>03-Jun-25</td><td>null</td><td>null</td><td>null</td><td>null</td><td>Duane Norman</td><td>Jackson Park</td><td>William Kim</td><td>On Job Training</td><td>Evening</td><td>5</td><td>India</td></tr><tr><td>eb0d3e53-c1ca-42d3-8486-e42c8d622135</td><td>Inbound</td><td>Returns</td><td>Reverse Pickup Enquiry</td><td>null</td><td>5aed0059-55a4-4ec6-bb54-97942092020a</td><td>null</td><td>01/08/2023 20:56</td><td>01/08/2023 21:16</td><td>04-Jun-25</td><td>null</td><td>null</td><td>null</td><td>null</td><td>Patrick Flores</td><td>Olivia Wang</td><td>John Smith</td><td>>90</td><td>Evening</td><td>5</td><td>India</td></tr><tr><td>ba903143-1e54-406c-b969-46c52f92e5df</td><td>Inbound</td><td>Cancellation</td><td>Not Needed</td><td>null</td><td>e8bed5a9-6933-4aff-9dc6-ccefd7dcde59</td><td>null</td><td>01/08/2023 10:30</td><td>01/08/2023 10:32</td><td>05-Jun-25</td><td>null</td><td>null</td><td>null</td><td>null</td><td>Christopher Sanchez</td><td>Austin Johnson</td><td>Michael Lee</td><td>0-30</td><td>Morning</td><td>5</td><td>India</td></tr><tr><td>1cfde5b9-6112-44fc-8f3b-892196137a62</td><td>Email</td><td>Returns</td><td>Fraudulent User</td><td>null</td><td>a2938961-2833-45f1-83d6-678d9555c603</td><td>null</td><td>01/08/2023 15:13</td><td>01/08/2023 18:39</td><td>06-Jun-25</td><td>null</td><td>null</td><td>null</td><td>null</td><td>Desiree Newton</td><td>Emma Park</td><td>John Smith</td><td>0-30</td><td>Morning</td><td>5</td><td>India</td></tr><tr><td>11a3ffd8-1d6b-4806-b198-c60b5934c9bc</td><td>Outcall</td><td>Product Queries</td><td>Product Specific Information</td><td>null</td><td>bfcb562b-9a2f-4cca-aa79-fd4e2952f901</td><td>null</td><td>01/08/2023 15:31</td><td>01/08/2023 23:52</td><td>07-Jun-25</td><td>null</td><td>null</td><td>null</td><td>null</td><td>Shannon Hicks</td><td>Aiden Patel</td><td>Olivia Tan</td><td>>90</td><td>Morning</td><td>5</td><td>India</td></tr><tr><td>372b51a5-fa19-4a31-a4b8-a21de117d75e</td><td>Inbound</td><td>Returns</td><td>Exchange / Replacement</td><td>Very good</td><td>88537e0b-5ffa-43f9-bbe2-fe57a0f4e4ae</td><td>null</td><td>01/08/2023 16:17</td><td>01/08/2023 16:23</td><td>07-Jun-25</td><td>null</td><td>null</td><td>null</td><td>null</td><td>Laura Smith</td><td>Evelyn Kimura</td><td>Jennifer Nguyen</td><td>On Job Training</td><td>Evening</td><td>5</td><td>India</td></tr><tr><td>6e4413db-4e16-42fc-ac92-2f402e3df03c</td><td>Inbound</td><td>Returns</td><td>Missing</td><td>Shopzilla app and it's all coustomer care services is very good service provided all time</td><td>e6be9713-13c3-493c-8a91-2137cbbfa7e6</td><td>null</td><td>01/08/2023 21:03</td><td>01/08/2023 21:07</td><td>09-Jun-25</td><td>null</td><td>null</td><td>null</td><td>null</td><td>David Smith</td><td>Nathan Patel</td><td>John Smith</td><td>>90</td><td>Split</td><td>5</td><td>India</td></tr><tr><td>b0a65350-64a5-4603-8b9a-a24a4a145d08</td><td>Inbound</td><td>Shopzilla Related</td><td>General Enquiry</td><td>null</td><td>c7caa804-2525-499e-b202-4c781cb68974</td><td>null</td><td>01/08/2023 23:31</td><td>01/08/2023 23:36</td><td>10-Jun-25</td><td>null</td><td>null</td><td>null</td><td>null</td><td>Tabitha Ayala</td><td>Amelia Tanaka</td><td>Michael Lee</td><td>31-60</td><td>Evening</td><td>5</td><td>India</td></tr></tbody></table></div>"
      ]
     },
     "metadata": {
      "application/vnd.databricks.v1+output": {
       "addedWidgets": {},
       "aggData": [],
       "aggError": "",
       "aggOverflow": false,
       "aggSchema": [],
       "aggSeriesLimitReached": false,
       "aggType": "",
       "arguments": {},
       "columnCustomDisplayInfos": {},
       "data": [
        [
         "7e9ae164-6a8b-4521-a2d4-58f7c9fff13f",
         "Outcall",
         "Product Queries",
         "Life Insurance",
         null,
         "c27c9bb4-fa36-4140-9f1f-21009254ffdb",
         null,
         "01/08/2023 11:13",
         "01/08/2023 11:47",
         "01-Jun-25",
         null,
         null,
         null,
         null,
         "Richard Buchanan",
         "Mason Gupta",
         "Jennifer Nguyen",
         "On Job Training",
         "Morning",
         5,
         "India"
        ],
        [
         "b07ec1b0-f376-43b6-86df-ec03da3b2e16",
         "Outcall",
         "Product Queries",
         "Product Specific Information",
         null,
         "d406b0c7-ce17-4654-b9de-f08d421254bd",
         null,
         "01/08/2023 12:52",
         "01/08/2023 12:54",
         "02-Jun-25",
         null,
         null,
         null,
         null,
         "Vicki Collins",
         "Dylan Kim",
         "Michael Lee",
         ">90",
         "Morning",
         5,
         "India"
        ],
        [
         "200814dd-27c7-4149-ba2b-bd3af3092880",
         "Inbound",
         "Order Related",
         "Installation/demo",
         null,
         "c273368d-b961-44cb-beaf-62d6fd6c00d5",
         null,
         "01/08/2023 20:16",
         "01/08/2023 20:38",
         "03-Jun-25",
         null,
         null,
         null,
         null,
         "Duane Norman",
         "Jackson Park",
         "William Kim",
         "On Job Training",
         "Evening",
         5,
         "India"
        ],
        [
         "eb0d3e53-c1ca-42d3-8486-e42c8d622135",
         "Inbound",
         "Returns",
         "Reverse Pickup Enquiry",
         null,
         "5aed0059-55a4-4ec6-bb54-97942092020a",
         null,
         "01/08/2023 20:56",
         "01/08/2023 21:16",
         "04-Jun-25",
         null,
         null,
         null,
         null,
         "Patrick Flores",
         "Olivia Wang",
         "John Smith",
         ">90",
         "Evening",
         5,
         "India"
        ],
        [
         "ba903143-1e54-406c-b969-46c52f92e5df",
         "Inbound",
         "Cancellation",
         "Not Needed",
         null,
         "e8bed5a9-6933-4aff-9dc6-ccefd7dcde59",
         null,
         "01/08/2023 10:30",
         "01/08/2023 10:32",
         "05-Jun-25",
         null,
         null,
         null,
         null,
         "Christopher Sanchez",
         "Austin Johnson",
         "Michael Lee",
         "0-30",
         "Morning",
         5,
         "India"
        ],
        [
         "1cfde5b9-6112-44fc-8f3b-892196137a62",
         "Email",
         "Returns",
         "Fraudulent User",
         null,
         "a2938961-2833-45f1-83d6-678d9555c603",
         null,
         "01/08/2023 15:13",
         "01/08/2023 18:39",
         "06-Jun-25",
         null,
         null,
         null,
         null,
         "Desiree Newton",
         "Emma Park",
         "John Smith",
         "0-30",
         "Morning",
         5,
         "India"
        ],
        [
         "11a3ffd8-1d6b-4806-b198-c60b5934c9bc",
         "Outcall",
         "Product Queries",
         "Product Specific Information",
         null,
         "bfcb562b-9a2f-4cca-aa79-fd4e2952f901",
         null,
         "01/08/2023 15:31",
         "01/08/2023 23:52",
         "07-Jun-25",
         null,
         null,
         null,
         null,
         "Shannon Hicks",
         "Aiden Patel",
         "Olivia Tan",
         ">90",
         "Morning",
         5,
         "India"
        ],
        [
         "372b51a5-fa19-4a31-a4b8-a21de117d75e",
         "Inbound",
         "Returns",
         "Exchange / Replacement",
         "Very good",
         "88537e0b-5ffa-43f9-bbe2-fe57a0f4e4ae",
         null,
         "01/08/2023 16:17",
         "01/08/2023 16:23",
         "07-Jun-25",
         null,
         null,
         null,
         null,
         "Laura Smith",
         "Evelyn Kimura",
         "Jennifer Nguyen",
         "On Job Training",
         "Evening",
         5,
         "India"
        ],
        [
         "6e4413db-4e16-42fc-ac92-2f402e3df03c",
         "Inbound",
         "Returns",
         "Missing",
         "Shopzilla app and it's all coustomer care services is very good service provided all time",
         "e6be9713-13c3-493c-8a91-2137cbbfa7e6",
         null,
         "01/08/2023 21:03",
         "01/08/2023 21:07",
         "09-Jun-25",
         null,
         null,
         null,
         null,
         "David Smith",
         "Nathan Patel",
         "John Smith",
         ">90",
         "Split",
         5,
         "India"
        ],
        [
         "b0a65350-64a5-4603-8b9a-a24a4a145d08",
         "Inbound",
         "Shopzilla Related",
         "General Enquiry",
         null,
         "c7caa804-2525-499e-b202-4c781cb68974",
         null,
         "01/08/2023 23:31",
         "01/08/2023 23:36",
         "10-Jun-25",
         null,
         null,
         null,
         null,
         "Tabitha Ayala",
         "Amelia Tanaka",
         "Michael Lee",
         "31-60",
         "Evening",
         5,
         "India"
        ]
       ],
       "datasetInfos": [],
       "dbfsResultPath": null,
       "isJsonSchema": true,
       "metadata": {},
       "overflow": false,
       "plotOptions": {
        "customPlotOptions": {},
        "displayType": "table",
        "pivotAggregation": null,
        "pivotColumns": null,
        "xColumns": null,
        "yColumns": null
       },
       "removedWidgets": [],
       "schema": [
        {
         "metadata": "{}",
         "name": "Unique id",
         "type": "\"string\""
        },
        {
         "metadata": "{}",
         "name": "channel_name",
         "type": "\"string\""
        },
        {
         "metadata": "{}",
         "name": "category",
         "type": "\"string\""
        },
        {
         "metadata": "{}",
         "name": "Sub-category",
         "type": "\"string\""
        },
        {
         "metadata": "{}",
         "name": "Customer Remarks",
         "type": "\"string\""
        },
        {
         "metadata": "{}",
         "name": "Order_id",
         "type": "\"string\""
        },
        {
         "metadata": "{}",
         "name": "order_date_time",
         "type": "\"string\""
        },
        {
         "metadata": "{}",
         "name": "Issue_reported at",
         "type": "\"string\""
        },
        {
         "metadata": "{}",
         "name": "issue_responded",
         "type": "\"string\""
        },
        {
         "metadata": "{}",
         "name": "Survey_response_Date",
         "type": "\"string\""
        },
        {
         "metadata": "{}",
         "name": "Customer_City",
         "type": "\"string\""
        },
        {
         "metadata": "{}",
         "name": "Product_category",
         "type": "\"string\""
        },
        {
         "metadata": "{}",
         "name": "Item_price",
         "type": "\"long\""
        },
        {
         "metadata": "{}",
         "name": "connected_handling_time",
         "type": "\"long\""
        },
        {
         "metadata": "{}",
         "name": "Agent_name",
         "type": "\"string\""
        },
        {
         "metadata": "{}",
         "name": "Supervisor",
         "type": "\"string\""
        },
        {
         "metadata": "{}",
         "name": "Manager",
         "type": "\"string\""
        },
        {
         "metadata": "{}",
         "name": "Tenure Bucket",
         "type": "\"string\""
        },
        {
         "metadata": "{}",
         "name": "Agent Shift",
         "type": "\"string\""
        },
        {
         "metadata": "{}",
         "name": "CSAT Score",
         "type": "\"long\""
        },
        {
         "metadata": "{}",
         "name": "Office",
         "type": "\"string\""
        }
       ],
       "type": "table"
      }
     },
     "output_type": "display_data"
    }
   ],
   "source": [
    "customer_support_df = customer_support_df.withColumn('Office',lit(\"India\")) \n",
    "display(customer_support_df.limit(10))"
   ]
  },
  {
   "cell_type": "code",
   "execution_count": 0,
   "metadata": {
    "application/vnd.databricks.v1+cell": {
     "cellMetadata": {
      "byteLimit": 2048000,
      "rowLimit": 10000
     },
     "inputWidgets": {},
     "nuid": "9a2d9fcb-0b8d-4197-b445-9329ce5096fc",
     "showTitle": false,
     "tableResultSettingsMap": {
      "0": {
       "dataGridStateBlob": "{\"version\":1,\"tableState\":{\"columnPinning\":{\"left\":[\"#row_number#\"],\"right\":[]},\"columnSizing\":{},\"columnVisibility\":{}},\"settings\":{\"columns\":{}},\"syncTimestamp\":1753467340440}",
       "filterBlob": null,
       "queryPlanFiltersBlob": null,
       "tableResultIndex": 0
      }
     },
     "title": ""
    }
   },
   "outputs": [
    {
     "output_type": "display_data",
     "data": {
      "text/html": [
       "<style scoped>\n",
       "  .table-result-container {\n",
       "    max-height: 300px;\n",
       "    overflow: auto;\n",
       "  }\n",
       "  table, th, td {\n",
       "    border: 1px solid black;\n",
       "    border-collapse: collapse;\n",
       "  }\n",
       "  th, td {\n",
       "    padding: 5px;\n",
       "  }\n",
       "  th {\n",
       "    text-align: left;\n",
       "  }\n",
       "</style><div class='table-result-container'><table class='table-result'><thead style='background-color: white'><tr><th>Unique id</th><th>channel_name</th><th>category</th><th>Sub-category</th><th>Customer Remarks</th><th>Order_id</th><th>order_date_time</th><th>Issue_reported at</th><th>issue_responded</th><th>Survey_response_Date</th><th>Customer_City</th><th>Product_category</th><th>Item_price</th><th>connected_handling_time</th><th>Agent_name</th><th>Supervisor</th><th>Manager</th><th>Tenure Bucket</th><th>Agent Shift</th><th>CSAT Score</th><th>Office</th></tr></thead><tbody><tr><td>ebbb100b-37f1-6d18-027b-3c333dd46a5f</td><td>Outcall</td><td>Product Queries</td><td>Life Insurance</td><td>null</td><td>fb019b56-b113-4ef5-401b-779b2451f11b</td><td>null</td><td>01/08/2023 11:13</td><td>01/08/2023 11:47</td><td>01-Jul-25</td><td>Kilkenny</td><td>null</td><td>null</td><td>null</td><td>Richard Buchanan</td><td>Mason Gupta</td><td>Jennifer Nguyen</td><td>On Job Training</td><td>Morning</td><td>5</td><td>Ireland</td></tr><tr><td>81b7e132-cca4-f76e-9316-c0f73515fe1e</td><td>Outcall</td><td>Product Queries</td><td>Product Specific Information</td><td>null</td><td>f26d0d75-891d-7ded-e00b-c65c96b016b5</td><td>null</td><td>01/08/2023 12:52</td><td>01/08/2023 12:54</td><td>02-Jul-25</td><td>Kilkenny</td><td>null</td><td>null</td><td>null</td><td>Vicki Collins</td><td>Dylan Kim</td><td>Michael Lee</td><td>>90</td><td>Morning</td><td>5</td><td>Ireland</td></tr><tr><td>629c352a-733e-3444-538c-42101995832b</td><td>Inbound</td><td>Order Related</td><td>Installation/demo</td><td>null</td><td>ed78ce30-7c65-2262-fa74-e74e64654509</td><td>null</td><td>01/08/2023 20:16</td><td>01/08/2023 20:38</td><td>03-Jul-25</td><td>Kilkenny</td><td>null</td><td>null</td><td>null</td><td>Duane Norman</td><td>Jackson Park</td><td>William Kim</td><td>On Job Training</td><td>Evening</td><td>5</td><td>Ireland</td></tr><tr><td>f10dd3d2-0d0c-e676-e446-6322eb6808a0</td><td>Inbound</td><td>Returns</td><td>Reverse Pickup Enquiry</td><td>null</td><td>e4b73292-231e-0c73-78d5-e91783126e53</td><td>null</td><td>01/08/2023 20:56</td><td>01/08/2023 21:16</td><td>04-Jul-25</td><td>Kilkenny</td><td>null</td><td>null</td><td>null</td><td>Patrick Flores</td><td>Olivia Wang</td><td>John Smith</td><td>>90</td><td>Evening</td><td>5</td><td>Ireland</td></tr><tr><td>9aa88e06-1dea-ce75-2b68-59e7519de51a</td><td>Inbound</td><td>Cancellation</td><td>Not Needed</td><td>null</td><td>b881a248-f051-a409-c3e8-05c8120d75f3</td><td>null</td><td>01/08/2023 10:30</td><td>01/08/2023 10:32</td><td>05-Jul-25</td><td>Kilkenny</td><td>null</td><td>null</td><td>null</td><td>Christopher Sanchez</td><td>Austin Johnson</td><td>Michael Lee</td><td>0-30</td><td>Morning</td><td>5</td><td>Ireland</td></tr><tr><td>0ec4fee3-9deb-0cc6-1908-dab1d05b7755</td><td>Email</td><td>Returns</td><td>Fraudulent User</td><td>null</td><td>684c46de-758d-a031-8ce8-40ba3339d61c</td><td>null</td><td>01/08/2023 15:13</td><td>01/08/2023 18:39</td><td>06-Jul-25</td><td>Kilkenny</td><td>null</td><td>null</td><td>null</td><td>Desiree Newton</td><td>Emma Park</td><td>John Smith</td><td>0-30</td><td>Morning</td><td>5</td><td>Ireland</td></tr><tr><td>a49662dd-d7fb-9069-2a2c-bc9b8198211b</td><td>Outcall</td><td>Product Queries</td><td>Product Specific Information</td><td>null</td><td>8b22223b-6102-3613-7b60-b92479910aef</td><td>null</td><td>01/08/2023 15:31</td><td>01/08/2023 23:52</td><td>07-Jul-25</td><td>Kilkenny</td><td>null</td><td>null</td><td>null</td><td>Shannon Hicks</td><td>Aiden Patel</td><td>Olivia Tan</td><td>>90</td><td>Morning</td><td>5</td><td>Ireland</td></tr><tr><td>721b5a60-4190-75ce-6aee-a1ee8a83a094</td><td>Inbound</td><td>Returns</td><td>Exchange / Replacement</td><td>Very good</td><td>21d05084-5198-4f68-5410-cdec39039e24</td><td>null</td><td>01/08/2023 16:17</td><td>01/08/2023 16:23</td><td>08-Jul-25</td><td>Kilkenny</td><td>null</td><td>null</td><td>null</td><td>Laura Smith</td><td>Evelyn Kimura</td><td>Jennifer Nguyen</td><td>On Job Training</td><td>Evening</td><td>5</td><td>Ireland</td></tr><tr><td>df10f515-59a6-bb88-86f8-9ce18ba1c945</td><td>Inbound</td><td>Returns</td><td>Missing</td><td>Shopzilla app and it's all coustomer care services is very good service provided all time</td><td>70d9fe7e-3548-4dff-b206-6ae2ba2b0890</td><td>null</td><td>01/08/2023 21:03</td><td>01/08/2023 21:07</td><td>09-Jul-25</td><td>Drogheda</td><td>null</td><td>null</td><td>null</td><td>David Smith</td><td>Nathan Patel</td><td>John Smith</td><td>>90</td><td>Split</td><td>5</td><td>Ireland</td></tr><tr><td>da2b6d17-479c-b7cf-d4c8-5ad35910bedf</td><td>Inbound</td><td>Shopzilla Related</td><td>General Enquiry</td><td>null</td><td>672a6385-4ff4-4191-fca1-94b114376ea6</td><td>null</td><td>01/08/2023 23:31</td><td>01/08/2023 23:36</td><td>10-Jul-25</td><td>Drogheda</td><td>null</td><td>null</td><td>null</td><td>Tabitha Ayala</td><td>Amelia Tanaka</td><td>Michael Lee</td><td>31-60</td><td>Evening</td><td>5</td><td>Ireland</td></tr></tbody></table></div>"
      ]
     },
     "metadata": {
      "application/vnd.databricks.v1+output": {
       "addedWidgets": {},
       "aggData": [],
       "aggError": "",
       "aggOverflow": false,
       "aggSchema": [],
       "aggSeriesLimitReached": false,
       "aggType": "",
       "arguments": {},
       "columnCustomDisplayInfos": {},
       "data": [
        [
         "ebbb100b-37f1-6d18-027b-3c333dd46a5f",
         "Outcall",
         "Product Queries",
         "Life Insurance",
         null,
         "fb019b56-b113-4ef5-401b-779b2451f11b",
         null,
         "01/08/2023 11:13",
         "01/08/2023 11:47",
         "01-Jul-25",
         "Kilkenny",
         null,
         null,
         null,
         "Richard Buchanan",
         "Mason Gupta",
         "Jennifer Nguyen",
         "On Job Training",
         "Morning",
         5,
         "Ireland"
        ],
        [
         "81b7e132-cca4-f76e-9316-c0f73515fe1e",
         "Outcall",
         "Product Queries",
         "Product Specific Information",
         null,
         "f26d0d75-891d-7ded-e00b-c65c96b016b5",
         null,
         "01/08/2023 12:52",
         "01/08/2023 12:54",
         "02-Jul-25",
         "Kilkenny",
         null,
         null,
         null,
         "Vicki Collins",
         "Dylan Kim",
         "Michael Lee",
         ">90",
         "Morning",
         5,
         "Ireland"
        ],
        [
         "629c352a-733e-3444-538c-42101995832b",
         "Inbound",
         "Order Related",
         "Installation/demo",
         null,
         "ed78ce30-7c65-2262-fa74-e74e64654509",
         null,
         "01/08/2023 20:16",
         "01/08/2023 20:38",
         "03-Jul-25",
         "Kilkenny",
         null,
         null,
         null,
         "Duane Norman",
         "Jackson Park",
         "William Kim",
         "On Job Training",
         "Evening",
         5,
         "Ireland"
        ],
        [
         "f10dd3d2-0d0c-e676-e446-6322eb6808a0",
         "Inbound",
         "Returns",
         "Reverse Pickup Enquiry",
         null,
         "e4b73292-231e-0c73-78d5-e91783126e53",
         null,
         "01/08/2023 20:56",
         "01/08/2023 21:16",
         "04-Jul-25",
         "Kilkenny",
         null,
         null,
         null,
         "Patrick Flores",
         "Olivia Wang",
         "John Smith",
         ">90",
         "Evening",
         5,
         "Ireland"
        ],
        [
         "9aa88e06-1dea-ce75-2b68-59e7519de51a",
         "Inbound",
         "Cancellation",
         "Not Needed",
         null,
         "b881a248-f051-a409-c3e8-05c8120d75f3",
         null,
         "01/08/2023 10:30",
         "01/08/2023 10:32",
         "05-Jul-25",
         "Kilkenny",
         null,
         null,
         null,
         "Christopher Sanchez",
         "Austin Johnson",
         "Michael Lee",
         "0-30",
         "Morning",
         5,
         "Ireland"
        ],
        [
         "0ec4fee3-9deb-0cc6-1908-dab1d05b7755",
         "Email",
         "Returns",
         "Fraudulent User",
         null,
         "684c46de-758d-a031-8ce8-40ba3339d61c",
         null,
         "01/08/2023 15:13",
         "01/08/2023 18:39",
         "06-Jul-25",
         "Kilkenny",
         null,
         null,
         null,
         "Desiree Newton",
         "Emma Park",
         "John Smith",
         "0-30",
         "Morning",
         5,
         "Ireland"
        ],
        [
         "a49662dd-d7fb-9069-2a2c-bc9b8198211b",
         "Outcall",
         "Product Queries",
         "Product Specific Information",
         null,
         "8b22223b-6102-3613-7b60-b92479910aef",
         null,
         "01/08/2023 15:31",
         "01/08/2023 23:52",
         "07-Jul-25",
         "Kilkenny",
         null,
         null,
         null,
         "Shannon Hicks",
         "Aiden Patel",
         "Olivia Tan",
         ">90",
         "Morning",
         5,
         "Ireland"
        ],
        [
         "721b5a60-4190-75ce-6aee-a1ee8a83a094",
         "Inbound",
         "Returns",
         "Exchange / Replacement",
         "Very good",
         "21d05084-5198-4f68-5410-cdec39039e24",
         null,
         "01/08/2023 16:17",
         "01/08/2023 16:23",
         "08-Jul-25",
         "Kilkenny",
         null,
         null,
         null,
         "Laura Smith",
         "Evelyn Kimura",
         "Jennifer Nguyen",
         "On Job Training",
         "Evening",
         5,
         "Ireland"
        ],
        [
         "df10f515-59a6-bb88-86f8-9ce18ba1c945",
         "Inbound",
         "Returns",
         "Missing",
         "Shopzilla app and it's all coustomer care services is very good service provided all time",
         "70d9fe7e-3548-4dff-b206-6ae2ba2b0890",
         null,
         "01/08/2023 21:03",
         "01/08/2023 21:07",
         "09-Jul-25",
         "Drogheda",
         null,
         null,
         null,
         "David Smith",
         "Nathan Patel",
         "John Smith",
         ">90",
         "Split",
         5,
         "Ireland"
        ],
        [
         "da2b6d17-479c-b7cf-d4c8-5ad35910bedf",
         "Inbound",
         "Shopzilla Related",
         "General Enquiry",
         null,
         "672a6385-4ff4-4191-fca1-94b114376ea6",
         null,
         "01/08/2023 23:31",
         "01/08/2023 23:36",
         "10-Jul-25",
         "Drogheda",
         null,
         null,
         null,
         "Tabitha Ayala",
         "Amelia Tanaka",
         "Michael Lee",
         "31-60",
         "Evening",
         5,
         "Ireland"
        ]
       ],
       "datasetInfos": [],
       "dbfsResultPath": null,
       "isJsonSchema": true,
       "metadata": {},
       "overflow": false,
       "plotOptions": {
        "customPlotOptions": {},
        "displayType": "table",
        "pivotAggregation": null,
        "pivotColumns": null,
        "xColumns": null,
        "yColumns": null
       },
       "removedWidgets": [],
       "schema": [
        {
         "metadata": "{}",
         "name": "Unique id",
         "type": "\"string\""
        },
        {
         "metadata": "{}",
         "name": "channel_name",
         "type": "\"string\""
        },
        {
         "metadata": "{}",
         "name": "category",
         "type": "\"string\""
        },
        {
         "metadata": "{}",
         "name": "Sub-category",
         "type": "\"string\""
        },
        {
         "metadata": "{}",
         "name": "Customer Remarks",
         "type": "\"string\""
        },
        {
         "metadata": "{}",
         "name": "Order_id",
         "type": "\"string\""
        },
        {
         "metadata": "{}",
         "name": "order_date_time",
         "type": "\"string\""
        },
        {
         "metadata": "{}",
         "name": "Issue_reported at",
         "type": "\"string\""
        },
        {
         "metadata": "{}",
         "name": "issue_responded",
         "type": "\"string\""
        },
        {
         "metadata": "{}",
         "name": "Survey_response_Date",
         "type": "\"string\""
        },
        {
         "metadata": "{}",
         "name": "Customer_City",
         "type": "\"string\""
        },
        {
         "metadata": "{}",
         "name": "Product_category",
         "type": "\"string\""
        },
        {
         "metadata": "{}",
         "name": "Item_price",
         "type": "\"long\""
        },
        {
         "metadata": "{}",
         "name": "connected_handling_time",
         "type": "\"string\""
        },
        {
         "metadata": "{}",
         "name": "Agent_name",
         "type": "\"string\""
        },
        {
         "metadata": "{}",
         "name": "Supervisor",
         "type": "\"string\""
        },
        {
         "metadata": "{}",
         "name": "Manager",
         "type": "\"string\""
        },
        {
         "metadata": "{}",
         "name": "Tenure Bucket",
         "type": "\"string\""
        },
        {
         "metadata": "{}",
         "name": "Agent Shift",
         "type": "\"string\""
        },
        {
         "metadata": "{}",
         "name": "CSAT Score",
         "type": "\"long\""
        },
        {
         "metadata": "{}",
         "name": "Office",
         "type": "\"string\""
        }
       ],
       "type": "table"
      }
     },
     "output_type": "display_data"
    }
   ],
   "source": [
    "customer_support_ireland_df = customer_support_ireland_df.withColumn('Office',lit(\"Ireland\")) \n",
    "display(customer_support_ireland_df.limit(10))"
   ]
  },
  {
   "cell_type": "markdown",
   "metadata": {
    "application/vnd.databricks.v1+cell": {
     "cellMetadata": {},
     "inputWidgets": {},
     "nuid": "cd11024e-bfab-4014-bd76-0116478d1b09",
     "showTitle": false,
     "tableResultSettingsMap": {},
     "title": ""
    }
   },
   "source": [
    "**Rename columns** To rename a column, use the withColumnRenamed method"
   ]
  },
  {
   "cell_type": "code",
   "execution_count": 0,
   "metadata": {
    "application/vnd.databricks.v1+cell": {
     "cellMetadata": {
      "byteLimit": 2048000,
      "rowLimit": 10000
     },
     "inputWidgets": {},
     "nuid": "f12e6ddc-e49f-4f1a-a896-dfce7c328ebc",
     "showTitle": false,
     "tableResultSettingsMap": {},
     "title": ""
    }
   },
   "outputs": [
    {
     "output_type": "display_data",
     "data": {
      "text/html": [
       "<style scoped>\n",
       "  .table-result-container {\n",
       "    max-height: 300px;\n",
       "    overflow: auto;\n",
       "  }\n",
       "  table, th, td {\n",
       "    border: 1px solid black;\n",
       "    border-collapse: collapse;\n",
       "  }\n",
       "  th, td {\n",
       "    padding: 5px;\n",
       "  }\n",
       "  th {\n",
       "    text-align: left;\n",
       "  }\n",
       "</style><div class='table-result-container'><table class='table-result'><thead style='background-color: white'><tr><th>Unique id</th><th>channel_name</th><th>category</th><th>sub_category</th><th>Customer Remarks</th><th>Order_id</th><th>order_date_time</th><th>Issue_reported at</th><th>issue_responded</th><th>Survey_response_Date</th><th>Customer_City</th><th>Product_category</th><th>Item_price</th><th>connected_handling_time</th><th>Agent_name</th><th>Supervisor</th><th>Manager</th><th>Tenure Bucket</th><th>agent_shift</th><th>csat_score</th><th>Office</th></tr></thead><tbody><tr><td>7e9ae164-6a8b-4521-a2d4-58f7c9fff13f</td><td>Outcall</td><td>Product Queries</td><td>Life Insurance</td><td>null</td><td>c27c9bb4-fa36-4140-9f1f-21009254ffdb</td><td>null</td><td>01/08/2023 11:13</td><td>01/08/2023 11:47</td><td>01-Jun-25</td><td>null</td><td>null</td><td>null</td><td>null</td><td>Richard Buchanan</td><td>Mason Gupta</td><td>Jennifer Nguyen</td><td>On Job Training</td><td>Morning</td><td>5</td><td>India</td></tr><tr><td>b07ec1b0-f376-43b6-86df-ec03da3b2e16</td><td>Outcall</td><td>Product Queries</td><td>Product Specific Information</td><td>null</td><td>d406b0c7-ce17-4654-b9de-f08d421254bd</td><td>null</td><td>01/08/2023 12:52</td><td>01/08/2023 12:54</td><td>02-Jun-25</td><td>null</td><td>null</td><td>null</td><td>null</td><td>Vicki Collins</td><td>Dylan Kim</td><td>Michael Lee</td><td>>90</td><td>Morning</td><td>5</td><td>India</td></tr><tr><td>200814dd-27c7-4149-ba2b-bd3af3092880</td><td>Inbound</td><td>Order Related</td><td>Installation/demo</td><td>null</td><td>c273368d-b961-44cb-beaf-62d6fd6c00d5</td><td>null</td><td>01/08/2023 20:16</td><td>01/08/2023 20:38</td><td>03-Jun-25</td><td>null</td><td>null</td><td>null</td><td>null</td><td>Duane Norman</td><td>Jackson Park</td><td>William Kim</td><td>On Job Training</td><td>Evening</td><td>5</td><td>India</td></tr><tr><td>eb0d3e53-c1ca-42d3-8486-e42c8d622135</td><td>Inbound</td><td>Returns</td><td>Reverse Pickup Enquiry</td><td>null</td><td>5aed0059-55a4-4ec6-bb54-97942092020a</td><td>null</td><td>01/08/2023 20:56</td><td>01/08/2023 21:16</td><td>04-Jun-25</td><td>null</td><td>null</td><td>null</td><td>null</td><td>Patrick Flores</td><td>Olivia Wang</td><td>John Smith</td><td>>90</td><td>Evening</td><td>5</td><td>India</td></tr><tr><td>ba903143-1e54-406c-b969-46c52f92e5df</td><td>Inbound</td><td>Cancellation</td><td>Not Needed</td><td>null</td><td>e8bed5a9-6933-4aff-9dc6-ccefd7dcde59</td><td>null</td><td>01/08/2023 10:30</td><td>01/08/2023 10:32</td><td>05-Jun-25</td><td>null</td><td>null</td><td>null</td><td>null</td><td>Christopher Sanchez</td><td>Austin Johnson</td><td>Michael Lee</td><td>0-30</td><td>Morning</td><td>5</td><td>India</td></tr><tr><td>1cfde5b9-6112-44fc-8f3b-892196137a62</td><td>Email</td><td>Returns</td><td>Fraudulent User</td><td>null</td><td>a2938961-2833-45f1-83d6-678d9555c603</td><td>null</td><td>01/08/2023 15:13</td><td>01/08/2023 18:39</td><td>06-Jun-25</td><td>null</td><td>null</td><td>null</td><td>null</td><td>Desiree Newton</td><td>Emma Park</td><td>John Smith</td><td>0-30</td><td>Morning</td><td>5</td><td>India</td></tr><tr><td>11a3ffd8-1d6b-4806-b198-c60b5934c9bc</td><td>Outcall</td><td>Product Queries</td><td>Product Specific Information</td><td>null</td><td>bfcb562b-9a2f-4cca-aa79-fd4e2952f901</td><td>null</td><td>01/08/2023 15:31</td><td>01/08/2023 23:52</td><td>07-Jun-25</td><td>null</td><td>null</td><td>null</td><td>null</td><td>Shannon Hicks</td><td>Aiden Patel</td><td>Olivia Tan</td><td>>90</td><td>Morning</td><td>5</td><td>India</td></tr><tr><td>372b51a5-fa19-4a31-a4b8-a21de117d75e</td><td>Inbound</td><td>Returns</td><td>Exchange / Replacement</td><td>Very good</td><td>88537e0b-5ffa-43f9-bbe2-fe57a0f4e4ae</td><td>null</td><td>01/08/2023 16:17</td><td>01/08/2023 16:23</td><td>07-Jun-25</td><td>null</td><td>null</td><td>null</td><td>null</td><td>Laura Smith</td><td>Evelyn Kimura</td><td>Jennifer Nguyen</td><td>On Job Training</td><td>Evening</td><td>5</td><td>India</td></tr><tr><td>6e4413db-4e16-42fc-ac92-2f402e3df03c</td><td>Inbound</td><td>Returns</td><td>Missing</td><td>Shopzilla app and it's all coustomer care services is very good service provided all time</td><td>e6be9713-13c3-493c-8a91-2137cbbfa7e6</td><td>null</td><td>01/08/2023 21:03</td><td>01/08/2023 21:07</td><td>09-Jun-25</td><td>null</td><td>null</td><td>null</td><td>null</td><td>David Smith</td><td>Nathan Patel</td><td>John Smith</td><td>>90</td><td>Split</td><td>5</td><td>India</td></tr><tr><td>b0a65350-64a5-4603-8b9a-a24a4a145d08</td><td>Inbound</td><td>Shopzilla Related</td><td>General Enquiry</td><td>null</td><td>c7caa804-2525-499e-b202-4c781cb68974</td><td>null</td><td>01/08/2023 23:31</td><td>01/08/2023 23:36</td><td>10-Jun-25</td><td>null</td><td>null</td><td>null</td><td>null</td><td>Tabitha Ayala</td><td>Amelia Tanaka</td><td>Michael Lee</td><td>31-60</td><td>Evening</td><td>5</td><td>India</td></tr></tbody></table></div>"
      ]
     },
     "metadata": {
      "application/vnd.databricks.v1+output": {
       "addedWidgets": {},
       "aggData": [],
       "aggError": "",
       "aggOverflow": false,
       "aggSchema": [],
       "aggSeriesLimitReached": false,
       "aggType": "",
       "arguments": {},
       "columnCustomDisplayInfos": {},
       "data": [
        [
         "7e9ae164-6a8b-4521-a2d4-58f7c9fff13f",
         "Outcall",
         "Product Queries",
         "Life Insurance",
         null,
         "c27c9bb4-fa36-4140-9f1f-21009254ffdb",
         null,
         "01/08/2023 11:13",
         "01/08/2023 11:47",
         "01-Jun-25",
         null,
         null,
         null,
         null,
         "Richard Buchanan",
         "Mason Gupta",
         "Jennifer Nguyen",
         "On Job Training",
         "Morning",
         5,
         "India"
        ],
        [
         "b07ec1b0-f376-43b6-86df-ec03da3b2e16",
         "Outcall",
         "Product Queries",
         "Product Specific Information",
         null,
         "d406b0c7-ce17-4654-b9de-f08d421254bd",
         null,
         "01/08/2023 12:52",
         "01/08/2023 12:54",
         "02-Jun-25",
         null,
         null,
         null,
         null,
         "Vicki Collins",
         "Dylan Kim",
         "Michael Lee",
         ">90",
         "Morning",
         5,
         "India"
        ],
        [
         "200814dd-27c7-4149-ba2b-bd3af3092880",
         "Inbound",
         "Order Related",
         "Installation/demo",
         null,
         "c273368d-b961-44cb-beaf-62d6fd6c00d5",
         null,
         "01/08/2023 20:16",
         "01/08/2023 20:38",
         "03-Jun-25",
         null,
         null,
         null,
         null,
         "Duane Norman",
         "Jackson Park",
         "William Kim",
         "On Job Training",
         "Evening",
         5,
         "India"
        ],
        [
         "eb0d3e53-c1ca-42d3-8486-e42c8d622135",
         "Inbound",
         "Returns",
         "Reverse Pickup Enquiry",
         null,
         "5aed0059-55a4-4ec6-bb54-97942092020a",
         null,
         "01/08/2023 20:56",
         "01/08/2023 21:16",
         "04-Jun-25",
         null,
         null,
         null,
         null,
         "Patrick Flores",
         "Olivia Wang",
         "John Smith",
         ">90",
         "Evening",
         5,
         "India"
        ],
        [
         "ba903143-1e54-406c-b969-46c52f92e5df",
         "Inbound",
         "Cancellation",
         "Not Needed",
         null,
         "e8bed5a9-6933-4aff-9dc6-ccefd7dcde59",
         null,
         "01/08/2023 10:30",
         "01/08/2023 10:32",
         "05-Jun-25",
         null,
         null,
         null,
         null,
         "Christopher Sanchez",
         "Austin Johnson",
         "Michael Lee",
         "0-30",
         "Morning",
         5,
         "India"
        ],
        [
         "1cfde5b9-6112-44fc-8f3b-892196137a62",
         "Email",
         "Returns",
         "Fraudulent User",
         null,
         "a2938961-2833-45f1-83d6-678d9555c603",
         null,
         "01/08/2023 15:13",
         "01/08/2023 18:39",
         "06-Jun-25",
         null,
         null,
         null,
         null,
         "Desiree Newton",
         "Emma Park",
         "John Smith",
         "0-30",
         "Morning",
         5,
         "India"
        ],
        [
         "11a3ffd8-1d6b-4806-b198-c60b5934c9bc",
         "Outcall",
         "Product Queries",
         "Product Specific Information",
         null,
         "bfcb562b-9a2f-4cca-aa79-fd4e2952f901",
         null,
         "01/08/2023 15:31",
         "01/08/2023 23:52",
         "07-Jun-25",
         null,
         null,
         null,
         null,
         "Shannon Hicks",
         "Aiden Patel",
         "Olivia Tan",
         ">90",
         "Morning",
         5,
         "India"
        ],
        [
         "372b51a5-fa19-4a31-a4b8-a21de117d75e",
         "Inbound",
         "Returns",
         "Exchange / Replacement",
         "Very good",
         "88537e0b-5ffa-43f9-bbe2-fe57a0f4e4ae",
         null,
         "01/08/2023 16:17",
         "01/08/2023 16:23",
         "07-Jun-25",
         null,
         null,
         null,
         null,
         "Laura Smith",
         "Evelyn Kimura",
         "Jennifer Nguyen",
         "On Job Training",
         "Evening",
         5,
         "India"
        ],
        [
         "6e4413db-4e16-42fc-ac92-2f402e3df03c",
         "Inbound",
         "Returns",
         "Missing",
         "Shopzilla app and it's all coustomer care services is very good service provided all time",
         "e6be9713-13c3-493c-8a91-2137cbbfa7e6",
         null,
         "01/08/2023 21:03",
         "01/08/2023 21:07",
         "09-Jun-25",
         null,
         null,
         null,
         null,
         "David Smith",
         "Nathan Patel",
         "John Smith",
         ">90",
         "Split",
         5,
         "India"
        ],
        [
         "b0a65350-64a5-4603-8b9a-a24a4a145d08",
         "Inbound",
         "Shopzilla Related",
         "General Enquiry",
         null,
         "c7caa804-2525-499e-b202-4c781cb68974",
         null,
         "01/08/2023 23:31",
         "01/08/2023 23:36",
         "10-Jun-25",
         null,
         null,
         null,
         null,
         "Tabitha Ayala",
         "Amelia Tanaka",
         "Michael Lee",
         "31-60",
         "Evening",
         5,
         "India"
        ]
       ],
       "datasetInfos": [],
       "dbfsResultPath": null,
       "isJsonSchema": true,
       "metadata": {},
       "overflow": false,
       "plotOptions": {
        "customPlotOptions": {},
        "displayType": "table",
        "pivotAggregation": null,
        "pivotColumns": null,
        "xColumns": null,
        "yColumns": null
       },
       "removedWidgets": [],
       "schema": [
        {
         "metadata": "{}",
         "name": "Unique id",
         "type": "\"string\""
        },
        {
         "metadata": "{}",
         "name": "channel_name",
         "type": "\"string\""
        },
        {
         "metadata": "{}",
         "name": "category",
         "type": "\"string\""
        },
        {
         "metadata": "{}",
         "name": "sub_category",
         "type": "\"string\""
        },
        {
         "metadata": "{}",
         "name": "Customer Remarks",
         "type": "\"string\""
        },
        {
         "metadata": "{}",
         "name": "Order_id",
         "type": "\"string\""
        },
        {
         "metadata": "{}",
         "name": "order_date_time",
         "type": "\"string\""
        },
        {
         "metadata": "{}",
         "name": "Issue_reported at",
         "type": "\"string\""
        },
        {
         "metadata": "{}",
         "name": "issue_responded",
         "type": "\"string\""
        },
        {
         "metadata": "{}",
         "name": "Survey_response_Date",
         "type": "\"string\""
        },
        {
         "metadata": "{}",
         "name": "Customer_City",
         "type": "\"string\""
        },
        {
         "metadata": "{}",
         "name": "Product_category",
         "type": "\"string\""
        },
        {
         "metadata": "{}",
         "name": "Item_price",
         "type": "\"long\""
        },
        {
         "metadata": "{}",
         "name": "connected_handling_time",
         "type": "\"long\""
        },
        {
         "metadata": "{}",
         "name": "Agent_name",
         "type": "\"string\""
        },
        {
         "metadata": "{}",
         "name": "Supervisor",
         "type": "\"string\""
        },
        {
         "metadata": "{}",
         "name": "Manager",
         "type": "\"string\""
        },
        {
         "metadata": "{}",
         "name": "Tenure Bucket",
         "type": "\"string\""
        },
        {
         "metadata": "{}",
         "name": "agent_shift",
         "type": "\"string\""
        },
        {
         "metadata": "{}",
         "name": "csat_score",
         "type": "\"long\""
        },
        {
         "metadata": "{}",
         "name": "Office",
         "type": "\"string\""
        }
       ],
       "type": "table"
      }
     },
     "output_type": "display_data"
    }
   ],
   "source": [
    "customer_support_df = customer_support_df.withColumnRenamed(\"Sub-category\", \"sub_category\").withColumnRenamed(\"Issue reported time\", \"issue_reported_time\").withColumnRenamed(\"Issue responded time\", \"issue_responded_time\").withColumnRenamed(\"Agent Shift\", \"agent_shift\").withColumnRenamed(\"CSAT Score\", \"csat_score\")\n",
    "\n",
    "display(customer_support_df.limit(10))"
   ]
  },
  {
   "cell_type": "code",
   "execution_count": 0,
   "metadata": {
    "application/vnd.databricks.v1+cell": {
     "cellMetadata": {
      "byteLimit": 2048000,
      "rowLimit": 10000
     },
     "inputWidgets": {},
     "nuid": "58ccd875-8861-4ec6-b27f-74e858455646",
     "showTitle": false,
     "tableResultSettingsMap": {},
     "title": ""
    }
   },
   "outputs": [
    {
     "output_type": "display_data",
     "data": {
      "text/html": [
       "<style scoped>\n",
       "  .table-result-container {\n",
       "    max-height: 300px;\n",
       "    overflow: auto;\n",
       "  }\n",
       "  table, th, td {\n",
       "    border: 1px solid black;\n",
       "    border-collapse: collapse;\n",
       "  }\n",
       "  th, td {\n",
       "    padding: 5px;\n",
       "  }\n",
       "  th {\n",
       "    text-align: left;\n",
       "  }\n",
       "</style><div class='table-result-container'><table class='table-result'><thead style='background-color: white'><tr><th>Unique id</th><th>channel_name</th><th>category</th><th>sub_category</th><th>Customer Remarks</th><th>Order_id</th><th>order_date_time</th><th>Issue_reported at</th><th>issue_responded</th><th>Survey_response_Date</th><th>Customer_City</th><th>Product_category</th><th>Item_price</th><th>connected_handling_time</th><th>Agent_name</th><th>Supervisor</th><th>Manager</th><th>Tenure Bucket</th><th>agent_shift</th><th>csat_score</th><th>Office</th></tr></thead><tbody><tr><td>ebbb100b-37f1-6d18-027b-3c333dd46a5f</td><td>Outcall</td><td>Product Queries</td><td>Life Insurance</td><td>null</td><td>fb019b56-b113-4ef5-401b-779b2451f11b</td><td>null</td><td>01/08/2023 11:13</td><td>01/08/2023 11:47</td><td>01-Jul-25</td><td>Kilkenny</td><td>null</td><td>null</td><td>null</td><td>Richard Buchanan</td><td>Mason Gupta</td><td>Jennifer Nguyen</td><td>On Job Training</td><td>Morning</td><td>5</td><td>Ireland</td></tr><tr><td>81b7e132-cca4-f76e-9316-c0f73515fe1e</td><td>Outcall</td><td>Product Queries</td><td>Product Specific Information</td><td>null</td><td>f26d0d75-891d-7ded-e00b-c65c96b016b5</td><td>null</td><td>01/08/2023 12:52</td><td>01/08/2023 12:54</td><td>02-Jul-25</td><td>Kilkenny</td><td>null</td><td>null</td><td>null</td><td>Vicki Collins</td><td>Dylan Kim</td><td>Michael Lee</td><td>>90</td><td>Morning</td><td>5</td><td>Ireland</td></tr><tr><td>629c352a-733e-3444-538c-42101995832b</td><td>Inbound</td><td>Order Related</td><td>Installation/demo</td><td>null</td><td>ed78ce30-7c65-2262-fa74-e74e64654509</td><td>null</td><td>01/08/2023 20:16</td><td>01/08/2023 20:38</td><td>03-Jul-25</td><td>Kilkenny</td><td>null</td><td>null</td><td>null</td><td>Duane Norman</td><td>Jackson Park</td><td>William Kim</td><td>On Job Training</td><td>Evening</td><td>5</td><td>Ireland</td></tr><tr><td>f10dd3d2-0d0c-e676-e446-6322eb6808a0</td><td>Inbound</td><td>Returns</td><td>Reverse Pickup Enquiry</td><td>null</td><td>e4b73292-231e-0c73-78d5-e91783126e53</td><td>null</td><td>01/08/2023 20:56</td><td>01/08/2023 21:16</td><td>04-Jul-25</td><td>Kilkenny</td><td>null</td><td>null</td><td>null</td><td>Patrick Flores</td><td>Olivia Wang</td><td>John Smith</td><td>>90</td><td>Evening</td><td>5</td><td>Ireland</td></tr><tr><td>9aa88e06-1dea-ce75-2b68-59e7519de51a</td><td>Inbound</td><td>Cancellation</td><td>Not Needed</td><td>null</td><td>b881a248-f051-a409-c3e8-05c8120d75f3</td><td>null</td><td>01/08/2023 10:30</td><td>01/08/2023 10:32</td><td>05-Jul-25</td><td>Kilkenny</td><td>null</td><td>null</td><td>null</td><td>Christopher Sanchez</td><td>Austin Johnson</td><td>Michael Lee</td><td>0-30</td><td>Morning</td><td>5</td><td>Ireland</td></tr><tr><td>0ec4fee3-9deb-0cc6-1908-dab1d05b7755</td><td>Email</td><td>Returns</td><td>Fraudulent User</td><td>null</td><td>684c46de-758d-a031-8ce8-40ba3339d61c</td><td>null</td><td>01/08/2023 15:13</td><td>01/08/2023 18:39</td><td>06-Jul-25</td><td>Kilkenny</td><td>null</td><td>null</td><td>null</td><td>Desiree Newton</td><td>Emma Park</td><td>John Smith</td><td>0-30</td><td>Morning</td><td>5</td><td>Ireland</td></tr><tr><td>a49662dd-d7fb-9069-2a2c-bc9b8198211b</td><td>Outcall</td><td>Product Queries</td><td>Product Specific Information</td><td>null</td><td>8b22223b-6102-3613-7b60-b92479910aef</td><td>null</td><td>01/08/2023 15:31</td><td>01/08/2023 23:52</td><td>07-Jul-25</td><td>Kilkenny</td><td>null</td><td>null</td><td>null</td><td>Shannon Hicks</td><td>Aiden Patel</td><td>Olivia Tan</td><td>>90</td><td>Morning</td><td>5</td><td>Ireland</td></tr><tr><td>721b5a60-4190-75ce-6aee-a1ee8a83a094</td><td>Inbound</td><td>Returns</td><td>Exchange / Replacement</td><td>Very good</td><td>21d05084-5198-4f68-5410-cdec39039e24</td><td>null</td><td>01/08/2023 16:17</td><td>01/08/2023 16:23</td><td>08-Jul-25</td><td>Kilkenny</td><td>null</td><td>null</td><td>null</td><td>Laura Smith</td><td>Evelyn Kimura</td><td>Jennifer Nguyen</td><td>On Job Training</td><td>Evening</td><td>5</td><td>Ireland</td></tr><tr><td>df10f515-59a6-bb88-86f8-9ce18ba1c945</td><td>Inbound</td><td>Returns</td><td>Missing</td><td>Shopzilla app and it's all coustomer care services is very good service provided all time</td><td>70d9fe7e-3548-4dff-b206-6ae2ba2b0890</td><td>null</td><td>01/08/2023 21:03</td><td>01/08/2023 21:07</td><td>09-Jul-25</td><td>Drogheda</td><td>null</td><td>null</td><td>null</td><td>David Smith</td><td>Nathan Patel</td><td>John Smith</td><td>>90</td><td>Split</td><td>5</td><td>Ireland</td></tr><tr><td>da2b6d17-479c-b7cf-d4c8-5ad35910bedf</td><td>Inbound</td><td>Shopzilla Related</td><td>General Enquiry</td><td>null</td><td>672a6385-4ff4-4191-fca1-94b114376ea6</td><td>null</td><td>01/08/2023 23:31</td><td>01/08/2023 23:36</td><td>10-Jul-25</td><td>Drogheda</td><td>null</td><td>null</td><td>null</td><td>Tabitha Ayala</td><td>Amelia Tanaka</td><td>Michael Lee</td><td>31-60</td><td>Evening</td><td>5</td><td>Ireland</td></tr></tbody></table></div>"
      ]
     },
     "metadata": {
      "application/vnd.databricks.v1+output": {
       "addedWidgets": {},
       "aggData": [],
       "aggError": "",
       "aggOverflow": false,
       "aggSchema": [],
       "aggSeriesLimitReached": false,
       "aggType": "",
       "arguments": {},
       "columnCustomDisplayInfos": {},
       "data": [
        [
         "ebbb100b-37f1-6d18-027b-3c333dd46a5f",
         "Outcall",
         "Product Queries",
         "Life Insurance",
         null,
         "fb019b56-b113-4ef5-401b-779b2451f11b",
         null,
         "01/08/2023 11:13",
         "01/08/2023 11:47",
         "01-Jul-25",
         "Kilkenny",
         null,
         null,
         null,
         "Richard Buchanan",
         "Mason Gupta",
         "Jennifer Nguyen",
         "On Job Training",
         "Morning",
         5,
         "Ireland"
        ],
        [
         "81b7e132-cca4-f76e-9316-c0f73515fe1e",
         "Outcall",
         "Product Queries",
         "Product Specific Information",
         null,
         "f26d0d75-891d-7ded-e00b-c65c96b016b5",
         null,
         "01/08/2023 12:52",
         "01/08/2023 12:54",
         "02-Jul-25",
         "Kilkenny",
         null,
         null,
         null,
         "Vicki Collins",
         "Dylan Kim",
         "Michael Lee",
         ">90",
         "Morning",
         5,
         "Ireland"
        ],
        [
         "629c352a-733e-3444-538c-42101995832b",
         "Inbound",
         "Order Related",
         "Installation/demo",
         null,
         "ed78ce30-7c65-2262-fa74-e74e64654509",
         null,
         "01/08/2023 20:16",
         "01/08/2023 20:38",
         "03-Jul-25",
         "Kilkenny",
         null,
         null,
         null,
         "Duane Norman",
         "Jackson Park",
         "William Kim",
         "On Job Training",
         "Evening",
         5,
         "Ireland"
        ],
        [
         "f10dd3d2-0d0c-e676-e446-6322eb6808a0",
         "Inbound",
         "Returns",
         "Reverse Pickup Enquiry",
         null,
         "e4b73292-231e-0c73-78d5-e91783126e53",
         null,
         "01/08/2023 20:56",
         "01/08/2023 21:16",
         "04-Jul-25",
         "Kilkenny",
         null,
         null,
         null,
         "Patrick Flores",
         "Olivia Wang",
         "John Smith",
         ">90",
         "Evening",
         5,
         "Ireland"
        ],
        [
         "9aa88e06-1dea-ce75-2b68-59e7519de51a",
         "Inbound",
         "Cancellation",
         "Not Needed",
         null,
         "b881a248-f051-a409-c3e8-05c8120d75f3",
         null,
         "01/08/2023 10:30",
         "01/08/2023 10:32",
         "05-Jul-25",
         "Kilkenny",
         null,
         null,
         null,
         "Christopher Sanchez",
         "Austin Johnson",
         "Michael Lee",
         "0-30",
         "Morning",
         5,
         "Ireland"
        ],
        [
         "0ec4fee3-9deb-0cc6-1908-dab1d05b7755",
         "Email",
         "Returns",
         "Fraudulent User",
         null,
         "684c46de-758d-a031-8ce8-40ba3339d61c",
         null,
         "01/08/2023 15:13",
         "01/08/2023 18:39",
         "06-Jul-25",
         "Kilkenny",
         null,
         null,
         null,
         "Desiree Newton",
         "Emma Park",
         "John Smith",
         "0-30",
         "Morning",
         5,
         "Ireland"
        ],
        [
         "a49662dd-d7fb-9069-2a2c-bc9b8198211b",
         "Outcall",
         "Product Queries",
         "Product Specific Information",
         null,
         "8b22223b-6102-3613-7b60-b92479910aef",
         null,
         "01/08/2023 15:31",
         "01/08/2023 23:52",
         "07-Jul-25",
         "Kilkenny",
         null,
         null,
         null,
         "Shannon Hicks",
         "Aiden Patel",
         "Olivia Tan",
         ">90",
         "Morning",
         5,
         "Ireland"
        ],
        [
         "721b5a60-4190-75ce-6aee-a1ee8a83a094",
         "Inbound",
         "Returns",
         "Exchange / Replacement",
         "Very good",
         "21d05084-5198-4f68-5410-cdec39039e24",
         null,
         "01/08/2023 16:17",
         "01/08/2023 16:23",
         "08-Jul-25",
         "Kilkenny",
         null,
         null,
         null,
         "Laura Smith",
         "Evelyn Kimura",
         "Jennifer Nguyen",
         "On Job Training",
         "Evening",
         5,
         "Ireland"
        ],
        [
         "df10f515-59a6-bb88-86f8-9ce18ba1c945",
         "Inbound",
         "Returns",
         "Missing",
         "Shopzilla app and it's all coustomer care services is very good service provided all time",
         "70d9fe7e-3548-4dff-b206-6ae2ba2b0890",
         null,
         "01/08/2023 21:03",
         "01/08/2023 21:07",
         "09-Jul-25",
         "Drogheda",
         null,
         null,
         null,
         "David Smith",
         "Nathan Patel",
         "John Smith",
         ">90",
         "Split",
         5,
         "Ireland"
        ],
        [
         "da2b6d17-479c-b7cf-d4c8-5ad35910bedf",
         "Inbound",
         "Shopzilla Related",
         "General Enquiry",
         null,
         "672a6385-4ff4-4191-fca1-94b114376ea6",
         null,
         "01/08/2023 23:31",
         "01/08/2023 23:36",
         "10-Jul-25",
         "Drogheda",
         null,
         null,
         null,
         "Tabitha Ayala",
         "Amelia Tanaka",
         "Michael Lee",
         "31-60",
         "Evening",
         5,
         "Ireland"
        ]
       ],
       "datasetInfos": [],
       "dbfsResultPath": null,
       "isJsonSchema": true,
       "metadata": {},
       "overflow": false,
       "plotOptions": {
        "customPlotOptions": {},
        "displayType": "table",
        "pivotAggregation": null,
        "pivotColumns": null,
        "xColumns": null,
        "yColumns": null
       },
       "removedWidgets": [],
       "schema": [
        {
         "metadata": "{}",
         "name": "Unique id",
         "type": "\"string\""
        },
        {
         "metadata": "{}",
         "name": "channel_name",
         "type": "\"string\""
        },
        {
         "metadata": "{}",
         "name": "category",
         "type": "\"string\""
        },
        {
         "metadata": "{}",
         "name": "sub_category",
         "type": "\"string\""
        },
        {
         "metadata": "{}",
         "name": "Customer Remarks",
         "type": "\"string\""
        },
        {
         "metadata": "{}",
         "name": "Order_id",
         "type": "\"string\""
        },
        {
         "metadata": "{}",
         "name": "order_date_time",
         "type": "\"string\""
        },
        {
         "metadata": "{}",
         "name": "Issue_reported at",
         "type": "\"string\""
        },
        {
         "metadata": "{}",
         "name": "issue_responded",
         "type": "\"string\""
        },
        {
         "metadata": "{}",
         "name": "Survey_response_Date",
         "type": "\"string\""
        },
        {
         "metadata": "{}",
         "name": "Customer_City",
         "type": "\"string\""
        },
        {
         "metadata": "{}",
         "name": "Product_category",
         "type": "\"string\""
        },
        {
         "metadata": "{}",
         "name": "Item_price",
         "type": "\"long\""
        },
        {
         "metadata": "{}",
         "name": "connected_handling_time",
         "type": "\"string\""
        },
        {
         "metadata": "{}",
         "name": "Agent_name",
         "type": "\"string\""
        },
        {
         "metadata": "{}",
         "name": "Supervisor",
         "type": "\"string\""
        },
        {
         "metadata": "{}",
         "name": "Manager",
         "type": "\"string\""
        },
        {
         "metadata": "{}",
         "name": "Tenure Bucket",
         "type": "\"string\""
        },
        {
         "metadata": "{}",
         "name": "agent_shift",
         "type": "\"string\""
        },
        {
         "metadata": "{}",
         "name": "csat_score",
         "type": "\"long\""
        },
        {
         "metadata": "{}",
         "name": "Office",
         "type": "\"string\""
        }
       ],
       "type": "table"
      }
     },
     "output_type": "display_data"
    }
   ],
   "source": [
    "customer_support_ireland_df = customer_support_ireland_df.withColumnRenamed(\"Sub-category\", \"sub_category\").withColumnRenamed(\"Issue reported time\", \"issue_reported_time\").withColumnRenamed(\"Issue responded time\", \"issue_responded_time\").withColumnRenamed(\"Agent Shift\", \"agent_shift\").withColumnRenamed(\"CSAT Score\", \"csat_score\")\n",
    "\n",
    "display(customer_support_ireland_df.limit(10))"
   ]
  },
  {
   "cell_type": "markdown",
   "metadata": {
    "application/vnd.databricks.v1+cell": {
     "cellMetadata": {},
     "inputWidgets": {},
     "nuid": "68416c53-56cc-4f32-994b-b67325c13bf7",
     "showTitle": false,
     "tableResultSettingsMap": {},
     "title": ""
    }
   },
   "source": [
    "**Handle null values**  To handle null values, you can either drop rows that contain null values using the na.drop method or to fill in missing values, use the fill method."
   ]
  },
  {
   "cell_type": "code",
   "execution_count": 0,
   "metadata": {
    "application/vnd.databricks.v1+cell": {
     "cellMetadata": {
      "byteLimit": 2048000,
      "rowLimit": 10000
     },
     "inputWidgets": {},
     "nuid": "439a57a0-4c35-4804-907f-432f506dc7d9",
     "showTitle": false,
     "tableResultSettingsMap": {},
     "title": ""
    }
   },
   "outputs": [
    {
     "output_type": "display_data",
     "data": {
      "text/html": [
       "<style scoped>\n",
       "  .table-result-container {\n",
       "    max-height: 300px;\n",
       "    overflow: auto;\n",
       "  }\n",
       "  table, th, td {\n",
       "    border: 1px solid black;\n",
       "    border-collapse: collapse;\n",
       "  }\n",
       "  th, td {\n",
       "    padding: 5px;\n",
       "  }\n",
       "  th {\n",
       "    text-align: left;\n",
       "  }\n",
       "</style><div class='table-result-container'><table class='table-result'><thead style='background-color: white'><tr><th>Unique id</th><th>channel_name</th><th>category</th><th>sub_category</th><th>Customer Remarks</th><th>Order_id</th><th>order_date_time</th><th>Issue_reported at</th><th>issue_responded</th><th>Survey_response_Date</th><th>Customer_City</th><th>Product_category</th><th>Item_price</th><th>connected_handling_time</th><th>Agent_name</th><th>Supervisor</th><th>Manager</th><th>Tenure Bucket</th><th>agent_shift</th><th>csat_score</th><th>Office</th></tr></thead><tbody><tr><td>7e9ae164-6a8b-4521-a2d4-58f7c9fff13f</td><td>Outcall</td><td>Product Queries</td><td>Life Insurance</td><td>null</td><td>c27c9bb4-fa36-4140-9f1f-21009254ffdb</td><td>null</td><td>01/08/2023 11:13</td><td>01/08/2023 11:47</td><td>01-Jun-25</td><td>unknown</td><td>unknown</td><td>null</td><td>null</td><td>Richard Buchanan</td><td>Mason Gupta</td><td>Jennifer Nguyen</td><td>On Job Training</td><td>Morning</td><td>5</td><td>India</td></tr><tr><td>b07ec1b0-f376-43b6-86df-ec03da3b2e16</td><td>Outcall</td><td>Product Queries</td><td>Product Specific Information</td><td>null</td><td>d406b0c7-ce17-4654-b9de-f08d421254bd</td><td>null</td><td>01/08/2023 12:52</td><td>01/08/2023 12:54</td><td>02-Jun-25</td><td>unknown</td><td>unknown</td><td>null</td><td>null</td><td>Vicki Collins</td><td>Dylan Kim</td><td>Michael Lee</td><td>>90</td><td>Morning</td><td>5</td><td>India</td></tr><tr><td>200814dd-27c7-4149-ba2b-bd3af3092880</td><td>Inbound</td><td>Order Related</td><td>Installation/demo</td><td>null</td><td>c273368d-b961-44cb-beaf-62d6fd6c00d5</td><td>null</td><td>01/08/2023 20:16</td><td>01/08/2023 20:38</td><td>03-Jun-25</td><td>unknown</td><td>unknown</td><td>null</td><td>null</td><td>Duane Norman</td><td>Jackson Park</td><td>William Kim</td><td>On Job Training</td><td>Evening</td><td>5</td><td>India</td></tr><tr><td>eb0d3e53-c1ca-42d3-8486-e42c8d622135</td><td>Inbound</td><td>Returns</td><td>Reverse Pickup Enquiry</td><td>null</td><td>5aed0059-55a4-4ec6-bb54-97942092020a</td><td>null</td><td>01/08/2023 20:56</td><td>01/08/2023 21:16</td><td>04-Jun-25</td><td>unknown</td><td>unknown</td><td>null</td><td>null</td><td>Patrick Flores</td><td>Olivia Wang</td><td>John Smith</td><td>>90</td><td>Evening</td><td>5</td><td>India</td></tr><tr><td>ba903143-1e54-406c-b969-46c52f92e5df</td><td>Inbound</td><td>Cancellation</td><td>Not Needed</td><td>null</td><td>e8bed5a9-6933-4aff-9dc6-ccefd7dcde59</td><td>null</td><td>01/08/2023 10:30</td><td>01/08/2023 10:32</td><td>05-Jun-25</td><td>unknown</td><td>unknown</td><td>null</td><td>null</td><td>Christopher Sanchez</td><td>Austin Johnson</td><td>Michael Lee</td><td>0-30</td><td>Morning</td><td>5</td><td>India</td></tr><tr><td>1cfde5b9-6112-44fc-8f3b-892196137a62</td><td>Email</td><td>Returns</td><td>Fraudulent User</td><td>null</td><td>a2938961-2833-45f1-83d6-678d9555c603</td><td>null</td><td>01/08/2023 15:13</td><td>01/08/2023 18:39</td><td>06-Jun-25</td><td>unknown</td><td>unknown</td><td>null</td><td>null</td><td>Desiree Newton</td><td>Emma Park</td><td>John Smith</td><td>0-30</td><td>Morning</td><td>5</td><td>India</td></tr><tr><td>11a3ffd8-1d6b-4806-b198-c60b5934c9bc</td><td>Outcall</td><td>Product Queries</td><td>Product Specific Information</td><td>null</td><td>bfcb562b-9a2f-4cca-aa79-fd4e2952f901</td><td>null</td><td>01/08/2023 15:31</td><td>01/08/2023 23:52</td><td>07-Jun-25</td><td>unknown</td><td>unknown</td><td>null</td><td>null</td><td>Shannon Hicks</td><td>Aiden Patel</td><td>Olivia Tan</td><td>>90</td><td>Morning</td><td>5</td><td>India</td></tr><tr><td>372b51a5-fa19-4a31-a4b8-a21de117d75e</td><td>Inbound</td><td>Returns</td><td>Exchange / Replacement</td><td>Very good</td><td>88537e0b-5ffa-43f9-bbe2-fe57a0f4e4ae</td><td>null</td><td>01/08/2023 16:17</td><td>01/08/2023 16:23</td><td>07-Jun-25</td><td>unknown</td><td>unknown</td><td>null</td><td>null</td><td>Laura Smith</td><td>Evelyn Kimura</td><td>Jennifer Nguyen</td><td>On Job Training</td><td>Evening</td><td>5</td><td>India</td></tr><tr><td>6e4413db-4e16-42fc-ac92-2f402e3df03c</td><td>Inbound</td><td>Returns</td><td>Missing</td><td>Shopzilla app and it's all coustomer care services is very good service provided all time</td><td>e6be9713-13c3-493c-8a91-2137cbbfa7e6</td><td>null</td><td>01/08/2023 21:03</td><td>01/08/2023 21:07</td><td>09-Jun-25</td><td>unknown</td><td>unknown</td><td>null</td><td>null</td><td>David Smith</td><td>Nathan Patel</td><td>John Smith</td><td>>90</td><td>Split</td><td>5</td><td>India</td></tr><tr><td>b0a65350-64a5-4603-8b9a-a24a4a145d08</td><td>Inbound</td><td>Shopzilla Related</td><td>General Enquiry</td><td>null</td><td>c7caa804-2525-499e-b202-4c781cb68974</td><td>null</td><td>01/08/2023 23:31</td><td>01/08/2023 23:36</td><td>10-Jun-25</td><td>unknown</td><td>unknown</td><td>null</td><td>null</td><td>Tabitha Ayala</td><td>Amelia Tanaka</td><td>Michael Lee</td><td>31-60</td><td>Evening</td><td>5</td><td>India</td></tr></tbody></table></div>"
      ]
     },
     "metadata": {
      "application/vnd.databricks.v1+output": {
       "addedWidgets": {},
       "aggData": [],
       "aggError": "",
       "aggOverflow": false,
       "aggSchema": [],
       "aggSeriesLimitReached": false,
       "aggType": "",
       "arguments": {},
       "columnCustomDisplayInfos": {},
       "data": [
        [
         "7e9ae164-6a8b-4521-a2d4-58f7c9fff13f",
         "Outcall",
         "Product Queries",
         "Life Insurance",
         null,
         "c27c9bb4-fa36-4140-9f1f-21009254ffdb",
         null,
         "01/08/2023 11:13",
         "01/08/2023 11:47",
         "01-Jun-25",
         "unknown",
         "unknown",
         null,
         null,
         "Richard Buchanan",
         "Mason Gupta",
         "Jennifer Nguyen",
         "On Job Training",
         "Morning",
         5,
         "India"
        ],
        [
         "b07ec1b0-f376-43b6-86df-ec03da3b2e16",
         "Outcall",
         "Product Queries",
         "Product Specific Information",
         null,
         "d406b0c7-ce17-4654-b9de-f08d421254bd",
         null,
         "01/08/2023 12:52",
         "01/08/2023 12:54",
         "02-Jun-25",
         "unknown",
         "unknown",
         null,
         null,
         "Vicki Collins",
         "Dylan Kim",
         "Michael Lee",
         ">90",
         "Morning",
         5,
         "India"
        ],
        [
         "200814dd-27c7-4149-ba2b-bd3af3092880",
         "Inbound",
         "Order Related",
         "Installation/demo",
         null,
         "c273368d-b961-44cb-beaf-62d6fd6c00d5",
         null,
         "01/08/2023 20:16",
         "01/08/2023 20:38",
         "03-Jun-25",
         "unknown",
         "unknown",
         null,
         null,
         "Duane Norman",
         "Jackson Park",
         "William Kim",
         "On Job Training",
         "Evening",
         5,
         "India"
        ],
        [
         "eb0d3e53-c1ca-42d3-8486-e42c8d622135",
         "Inbound",
         "Returns",
         "Reverse Pickup Enquiry",
         null,
         "5aed0059-55a4-4ec6-bb54-97942092020a",
         null,
         "01/08/2023 20:56",
         "01/08/2023 21:16",
         "04-Jun-25",
         "unknown",
         "unknown",
         null,
         null,
         "Patrick Flores",
         "Olivia Wang",
         "John Smith",
         ">90",
         "Evening",
         5,
         "India"
        ],
        [
         "ba903143-1e54-406c-b969-46c52f92e5df",
         "Inbound",
         "Cancellation",
         "Not Needed",
         null,
         "e8bed5a9-6933-4aff-9dc6-ccefd7dcde59",
         null,
         "01/08/2023 10:30",
         "01/08/2023 10:32",
         "05-Jun-25",
         "unknown",
         "unknown",
         null,
         null,
         "Christopher Sanchez",
         "Austin Johnson",
         "Michael Lee",
         "0-30",
         "Morning",
         5,
         "India"
        ],
        [
         "1cfde5b9-6112-44fc-8f3b-892196137a62",
         "Email",
         "Returns",
         "Fraudulent User",
         null,
         "a2938961-2833-45f1-83d6-678d9555c603",
         null,
         "01/08/2023 15:13",
         "01/08/2023 18:39",
         "06-Jun-25",
         "unknown",
         "unknown",
         null,
         null,
         "Desiree Newton",
         "Emma Park",
         "John Smith",
         "0-30",
         "Morning",
         5,
         "India"
        ],
        [
         "11a3ffd8-1d6b-4806-b198-c60b5934c9bc",
         "Outcall",
         "Product Queries",
         "Product Specific Information",
         null,
         "bfcb562b-9a2f-4cca-aa79-fd4e2952f901",
         null,
         "01/08/2023 15:31",
         "01/08/2023 23:52",
         "07-Jun-25",
         "unknown",
         "unknown",
         null,
         null,
         "Shannon Hicks",
         "Aiden Patel",
         "Olivia Tan",
         ">90",
         "Morning",
         5,
         "India"
        ],
        [
         "372b51a5-fa19-4a31-a4b8-a21de117d75e",
         "Inbound",
         "Returns",
         "Exchange / Replacement",
         "Very good",
         "88537e0b-5ffa-43f9-bbe2-fe57a0f4e4ae",
         null,
         "01/08/2023 16:17",
         "01/08/2023 16:23",
         "07-Jun-25",
         "unknown",
         "unknown",
         null,
         null,
         "Laura Smith",
         "Evelyn Kimura",
         "Jennifer Nguyen",
         "On Job Training",
         "Evening",
         5,
         "India"
        ],
        [
         "6e4413db-4e16-42fc-ac92-2f402e3df03c",
         "Inbound",
         "Returns",
         "Missing",
         "Shopzilla app and it's all coustomer care services is very good service provided all time",
         "e6be9713-13c3-493c-8a91-2137cbbfa7e6",
         null,
         "01/08/2023 21:03",
         "01/08/2023 21:07",
         "09-Jun-25",
         "unknown",
         "unknown",
         null,
         null,
         "David Smith",
         "Nathan Patel",
         "John Smith",
         ">90",
         "Split",
         5,
         "India"
        ],
        [
         "b0a65350-64a5-4603-8b9a-a24a4a145d08",
         "Inbound",
         "Shopzilla Related",
         "General Enquiry",
         null,
         "c7caa804-2525-499e-b202-4c781cb68974",
         null,
         "01/08/2023 23:31",
         "01/08/2023 23:36",
         "10-Jun-25",
         "unknown",
         "unknown",
         null,
         null,
         "Tabitha Ayala",
         "Amelia Tanaka",
         "Michael Lee",
         "31-60",
         "Evening",
         5,
         "India"
        ]
       ],
       "datasetInfos": [],
       "dbfsResultPath": null,
       "isJsonSchema": true,
       "metadata": {},
       "overflow": false,
       "plotOptions": {
        "customPlotOptions": {},
        "displayType": "table",
        "pivotAggregation": null,
        "pivotColumns": null,
        "xColumns": null,
        "yColumns": null
       },
       "removedWidgets": [],
       "schema": [
        {
         "metadata": "{}",
         "name": "Unique id",
         "type": "\"string\""
        },
        {
         "metadata": "{}",
         "name": "channel_name",
         "type": "\"string\""
        },
        {
         "metadata": "{}",
         "name": "category",
         "type": "\"string\""
        },
        {
         "metadata": "{}",
         "name": "sub_category",
         "type": "\"string\""
        },
        {
         "metadata": "{}",
         "name": "Customer Remarks",
         "type": "\"string\""
        },
        {
         "metadata": "{}",
         "name": "Order_id",
         "type": "\"string\""
        },
        {
         "metadata": "{}",
         "name": "order_date_time",
         "type": "\"string\""
        },
        {
         "metadata": "{}",
         "name": "Issue_reported at",
         "type": "\"string\""
        },
        {
         "metadata": "{}",
         "name": "issue_responded",
         "type": "\"string\""
        },
        {
         "metadata": "{}",
         "name": "Survey_response_Date",
         "type": "\"string\""
        },
        {
         "metadata": "{}",
         "name": "Customer_City",
         "type": "\"string\""
        },
        {
         "metadata": "{}",
         "name": "Product_category",
         "type": "\"string\""
        },
        {
         "metadata": "{}",
         "name": "Item_price",
         "type": "\"long\""
        },
        {
         "metadata": "{}",
         "name": "connected_handling_time",
         "type": "\"long\""
        },
        {
         "metadata": "{}",
         "name": "Agent_name",
         "type": "\"string\""
        },
        {
         "metadata": "{}",
         "name": "Supervisor",
         "type": "\"string\""
        },
        {
         "metadata": "{}",
         "name": "Manager",
         "type": "\"string\""
        },
        {
         "metadata": "{}",
         "name": "Tenure Bucket",
         "type": "\"string\""
        },
        {
         "metadata": "{}",
         "name": "agent_shift",
         "type": "\"string\""
        },
        {
         "metadata": "{}",
         "name": "csat_score",
         "type": "\"long\""
        },
        {
         "metadata": "{}",
         "name": "Office",
         "type": "\"string\""
        }
       ],
       "type": "table"
      }
     },
     "output_type": "display_data"
    }
   ],
   "source": [
    "customer_support_df = customer_support_df.na.fill(\"unknown\", subset=[\"Customer_city\", \"Product_category\", \"Agent_name\", \"Supervisor\", \"Manager\", \"agent_shift\"])\n",
    "\n",
    "display(customer_support_df.limit(10))\n"
   ]
  },
  {
   "cell_type": "code",
   "execution_count": 0,
   "metadata": {
    "application/vnd.databricks.v1+cell": {
     "cellMetadata": {
      "byteLimit": 2048000,
      "rowLimit": 10000
     },
     "inputWidgets": {},
     "nuid": "053713a1-7710-4006-8c4a-9714637ab911",
     "showTitle": false,
     "tableResultSettingsMap": {},
     "title": ""
    }
   },
   "outputs": [
    {
     "output_type": "display_data",
     "data": {
      "text/html": [
       "<style scoped>\n",
       "  .table-result-container {\n",
       "    max-height: 300px;\n",
       "    overflow: auto;\n",
       "  }\n",
       "  table, th, td {\n",
       "    border: 1px solid black;\n",
       "    border-collapse: collapse;\n",
       "  }\n",
       "  th, td {\n",
       "    padding: 5px;\n",
       "  }\n",
       "  th {\n",
       "    text-align: left;\n",
       "  }\n",
       "</style><div class='table-result-container'><table class='table-result'><thead style='background-color: white'><tr><th>Unique id</th><th>channel_name</th><th>category</th><th>sub_category</th><th>Customer Remarks</th><th>Order_id</th><th>order_date_time</th><th>Issue_reported at</th><th>issue_responded</th><th>Survey_response_Date</th><th>Customer_City</th><th>Product_category</th><th>Item_price</th><th>connected_handling_time</th><th>Agent_name</th><th>Supervisor</th><th>Manager</th><th>Tenure Bucket</th><th>agent_shift</th><th>csat_score</th><th>Office</th></tr></thead><tbody><tr><td>ebbb100b-37f1-6d18-027b-3c333dd46a5f</td><td>Outcall</td><td>Product Queries</td><td>Life Insurance</td><td>null</td><td>fb019b56-b113-4ef5-401b-779b2451f11b</td><td>null</td><td>01/08/2023 11:13</td><td>01/08/2023 11:47</td><td>01-Jul-25</td><td>Kilkenny</td><td>unknown</td><td>null</td><td>null</td><td>Richard Buchanan</td><td>Mason Gupta</td><td>Jennifer Nguyen</td><td>On Job Training</td><td>Morning</td><td>5</td><td>Ireland</td></tr><tr><td>81b7e132-cca4-f76e-9316-c0f73515fe1e</td><td>Outcall</td><td>Product Queries</td><td>Product Specific Information</td><td>null</td><td>f26d0d75-891d-7ded-e00b-c65c96b016b5</td><td>null</td><td>01/08/2023 12:52</td><td>01/08/2023 12:54</td><td>02-Jul-25</td><td>Kilkenny</td><td>unknown</td><td>null</td><td>null</td><td>Vicki Collins</td><td>Dylan Kim</td><td>Michael Lee</td><td>>90</td><td>Morning</td><td>5</td><td>Ireland</td></tr><tr><td>629c352a-733e-3444-538c-42101995832b</td><td>Inbound</td><td>Order Related</td><td>Installation/demo</td><td>null</td><td>ed78ce30-7c65-2262-fa74-e74e64654509</td><td>null</td><td>01/08/2023 20:16</td><td>01/08/2023 20:38</td><td>03-Jul-25</td><td>Kilkenny</td><td>unknown</td><td>null</td><td>null</td><td>Duane Norman</td><td>Jackson Park</td><td>William Kim</td><td>On Job Training</td><td>Evening</td><td>5</td><td>Ireland</td></tr><tr><td>f10dd3d2-0d0c-e676-e446-6322eb6808a0</td><td>Inbound</td><td>Returns</td><td>Reverse Pickup Enquiry</td><td>null</td><td>e4b73292-231e-0c73-78d5-e91783126e53</td><td>null</td><td>01/08/2023 20:56</td><td>01/08/2023 21:16</td><td>04-Jul-25</td><td>Kilkenny</td><td>unknown</td><td>null</td><td>null</td><td>Patrick Flores</td><td>Olivia Wang</td><td>John Smith</td><td>>90</td><td>Evening</td><td>5</td><td>Ireland</td></tr><tr><td>9aa88e06-1dea-ce75-2b68-59e7519de51a</td><td>Inbound</td><td>Cancellation</td><td>Not Needed</td><td>null</td><td>b881a248-f051-a409-c3e8-05c8120d75f3</td><td>null</td><td>01/08/2023 10:30</td><td>01/08/2023 10:32</td><td>05-Jul-25</td><td>Kilkenny</td><td>unknown</td><td>null</td><td>null</td><td>Christopher Sanchez</td><td>Austin Johnson</td><td>Michael Lee</td><td>0-30</td><td>Morning</td><td>5</td><td>Ireland</td></tr><tr><td>0ec4fee3-9deb-0cc6-1908-dab1d05b7755</td><td>Email</td><td>Returns</td><td>Fraudulent User</td><td>null</td><td>684c46de-758d-a031-8ce8-40ba3339d61c</td><td>null</td><td>01/08/2023 15:13</td><td>01/08/2023 18:39</td><td>06-Jul-25</td><td>Kilkenny</td><td>unknown</td><td>null</td><td>null</td><td>Desiree Newton</td><td>Emma Park</td><td>John Smith</td><td>0-30</td><td>Morning</td><td>5</td><td>Ireland</td></tr><tr><td>a49662dd-d7fb-9069-2a2c-bc9b8198211b</td><td>Outcall</td><td>Product Queries</td><td>Product Specific Information</td><td>null</td><td>8b22223b-6102-3613-7b60-b92479910aef</td><td>null</td><td>01/08/2023 15:31</td><td>01/08/2023 23:52</td><td>07-Jul-25</td><td>Kilkenny</td><td>unknown</td><td>null</td><td>null</td><td>Shannon Hicks</td><td>Aiden Patel</td><td>Olivia Tan</td><td>>90</td><td>Morning</td><td>5</td><td>Ireland</td></tr><tr><td>721b5a60-4190-75ce-6aee-a1ee8a83a094</td><td>Inbound</td><td>Returns</td><td>Exchange / Replacement</td><td>Very good</td><td>21d05084-5198-4f68-5410-cdec39039e24</td><td>null</td><td>01/08/2023 16:17</td><td>01/08/2023 16:23</td><td>08-Jul-25</td><td>Kilkenny</td><td>unknown</td><td>null</td><td>null</td><td>Laura Smith</td><td>Evelyn Kimura</td><td>Jennifer Nguyen</td><td>On Job Training</td><td>Evening</td><td>5</td><td>Ireland</td></tr><tr><td>df10f515-59a6-bb88-86f8-9ce18ba1c945</td><td>Inbound</td><td>Returns</td><td>Missing</td><td>Shopzilla app and it's all coustomer care services is very good service provided all time</td><td>70d9fe7e-3548-4dff-b206-6ae2ba2b0890</td><td>null</td><td>01/08/2023 21:03</td><td>01/08/2023 21:07</td><td>09-Jul-25</td><td>Drogheda</td><td>unknown</td><td>null</td><td>null</td><td>David Smith</td><td>Nathan Patel</td><td>John Smith</td><td>>90</td><td>Split</td><td>5</td><td>Ireland</td></tr><tr><td>da2b6d17-479c-b7cf-d4c8-5ad35910bedf</td><td>Inbound</td><td>Shopzilla Related</td><td>General Enquiry</td><td>null</td><td>672a6385-4ff4-4191-fca1-94b114376ea6</td><td>null</td><td>01/08/2023 23:31</td><td>01/08/2023 23:36</td><td>10-Jul-25</td><td>Drogheda</td><td>unknown</td><td>null</td><td>null</td><td>Tabitha Ayala</td><td>Amelia Tanaka</td><td>Michael Lee</td><td>31-60</td><td>Evening</td><td>5</td><td>Ireland</td></tr></tbody></table></div>"
      ]
     },
     "metadata": {
      "application/vnd.databricks.v1+output": {
       "addedWidgets": {},
       "aggData": [],
       "aggError": "",
       "aggOverflow": false,
       "aggSchema": [],
       "aggSeriesLimitReached": false,
       "aggType": "",
       "arguments": {},
       "columnCustomDisplayInfos": {},
       "data": [
        [
         "ebbb100b-37f1-6d18-027b-3c333dd46a5f",
         "Outcall",
         "Product Queries",
         "Life Insurance",
         null,
         "fb019b56-b113-4ef5-401b-779b2451f11b",
         null,
         "01/08/2023 11:13",
         "01/08/2023 11:47",
         "01-Jul-25",
         "Kilkenny",
         "unknown",
         null,
         null,
         "Richard Buchanan",
         "Mason Gupta",
         "Jennifer Nguyen",
         "On Job Training",
         "Morning",
         5,
         "Ireland"
        ],
        [
         "81b7e132-cca4-f76e-9316-c0f73515fe1e",
         "Outcall",
         "Product Queries",
         "Product Specific Information",
         null,
         "f26d0d75-891d-7ded-e00b-c65c96b016b5",
         null,
         "01/08/2023 12:52",
         "01/08/2023 12:54",
         "02-Jul-25",
         "Kilkenny",
         "unknown",
         null,
         null,
         "Vicki Collins",
         "Dylan Kim",
         "Michael Lee",
         ">90",
         "Morning",
         5,
         "Ireland"
        ],
        [
         "629c352a-733e-3444-538c-42101995832b",
         "Inbound",
         "Order Related",
         "Installation/demo",
         null,
         "ed78ce30-7c65-2262-fa74-e74e64654509",
         null,
         "01/08/2023 20:16",
         "01/08/2023 20:38",
         "03-Jul-25",
         "Kilkenny",
         "unknown",
         null,
         null,
         "Duane Norman",
         "Jackson Park",
         "William Kim",
         "On Job Training",
         "Evening",
         5,
         "Ireland"
        ],
        [
         "f10dd3d2-0d0c-e676-e446-6322eb6808a0",
         "Inbound",
         "Returns",
         "Reverse Pickup Enquiry",
         null,
         "e4b73292-231e-0c73-78d5-e91783126e53",
         null,
         "01/08/2023 20:56",
         "01/08/2023 21:16",
         "04-Jul-25",
         "Kilkenny",
         "unknown",
         null,
         null,
         "Patrick Flores",
         "Olivia Wang",
         "John Smith",
         ">90",
         "Evening",
         5,
         "Ireland"
        ],
        [
         "9aa88e06-1dea-ce75-2b68-59e7519de51a",
         "Inbound",
         "Cancellation",
         "Not Needed",
         null,
         "b881a248-f051-a409-c3e8-05c8120d75f3",
         null,
         "01/08/2023 10:30",
         "01/08/2023 10:32",
         "05-Jul-25",
         "Kilkenny",
         "unknown",
         null,
         null,
         "Christopher Sanchez",
         "Austin Johnson",
         "Michael Lee",
         "0-30",
         "Morning",
         5,
         "Ireland"
        ],
        [
         "0ec4fee3-9deb-0cc6-1908-dab1d05b7755",
         "Email",
         "Returns",
         "Fraudulent User",
         null,
         "684c46de-758d-a031-8ce8-40ba3339d61c",
         null,
         "01/08/2023 15:13",
         "01/08/2023 18:39",
         "06-Jul-25",
         "Kilkenny",
         "unknown",
         null,
         null,
         "Desiree Newton",
         "Emma Park",
         "John Smith",
         "0-30",
         "Morning",
         5,
         "Ireland"
        ],
        [
         "a49662dd-d7fb-9069-2a2c-bc9b8198211b",
         "Outcall",
         "Product Queries",
         "Product Specific Information",
         null,
         "8b22223b-6102-3613-7b60-b92479910aef",
         null,
         "01/08/2023 15:31",
         "01/08/2023 23:52",
         "07-Jul-25",
         "Kilkenny",
         "unknown",
         null,
         null,
         "Shannon Hicks",
         "Aiden Patel",
         "Olivia Tan",
         ">90",
         "Morning",
         5,
         "Ireland"
        ],
        [
         "721b5a60-4190-75ce-6aee-a1ee8a83a094",
         "Inbound",
         "Returns",
         "Exchange / Replacement",
         "Very good",
         "21d05084-5198-4f68-5410-cdec39039e24",
         null,
         "01/08/2023 16:17",
         "01/08/2023 16:23",
         "08-Jul-25",
         "Kilkenny",
         "unknown",
         null,
         null,
         "Laura Smith",
         "Evelyn Kimura",
         "Jennifer Nguyen",
         "On Job Training",
         "Evening",
         5,
         "Ireland"
        ],
        [
         "df10f515-59a6-bb88-86f8-9ce18ba1c945",
         "Inbound",
         "Returns",
         "Missing",
         "Shopzilla app and it's all coustomer care services is very good service provided all time",
         "70d9fe7e-3548-4dff-b206-6ae2ba2b0890",
         null,
         "01/08/2023 21:03",
         "01/08/2023 21:07",
         "09-Jul-25",
         "Drogheda",
         "unknown",
         null,
         null,
         "David Smith",
         "Nathan Patel",
         "John Smith",
         ">90",
         "Split",
         5,
         "Ireland"
        ],
        [
         "da2b6d17-479c-b7cf-d4c8-5ad35910bedf",
         "Inbound",
         "Shopzilla Related",
         "General Enquiry",
         null,
         "672a6385-4ff4-4191-fca1-94b114376ea6",
         null,
         "01/08/2023 23:31",
         "01/08/2023 23:36",
         "10-Jul-25",
         "Drogheda",
         "unknown",
         null,
         null,
         "Tabitha Ayala",
         "Amelia Tanaka",
         "Michael Lee",
         "31-60",
         "Evening",
         5,
         "Ireland"
        ]
       ],
       "datasetInfos": [],
       "dbfsResultPath": null,
       "isJsonSchema": true,
       "metadata": {},
       "overflow": false,
       "plotOptions": {
        "customPlotOptions": {},
        "displayType": "table",
        "pivotAggregation": null,
        "pivotColumns": null,
        "xColumns": null,
        "yColumns": null
       },
       "removedWidgets": [],
       "schema": [
        {
         "metadata": "{}",
         "name": "Unique id",
         "type": "\"string\""
        },
        {
         "metadata": "{}",
         "name": "channel_name",
         "type": "\"string\""
        },
        {
         "metadata": "{}",
         "name": "category",
         "type": "\"string\""
        },
        {
         "metadata": "{}",
         "name": "sub_category",
         "type": "\"string\""
        },
        {
         "metadata": "{}",
         "name": "Customer Remarks",
         "type": "\"string\""
        },
        {
         "metadata": "{}",
         "name": "Order_id",
         "type": "\"string\""
        },
        {
         "metadata": "{}",
         "name": "order_date_time",
         "type": "\"string\""
        },
        {
         "metadata": "{}",
         "name": "Issue_reported at",
         "type": "\"string\""
        },
        {
         "metadata": "{}",
         "name": "issue_responded",
         "type": "\"string\""
        },
        {
         "metadata": "{}",
         "name": "Survey_response_Date",
         "type": "\"string\""
        },
        {
         "metadata": "{}",
         "name": "Customer_City",
         "type": "\"string\""
        },
        {
         "metadata": "{}",
         "name": "Product_category",
         "type": "\"string\""
        },
        {
         "metadata": "{}",
         "name": "Item_price",
         "type": "\"long\""
        },
        {
         "metadata": "{}",
         "name": "connected_handling_time",
         "type": "\"string\""
        },
        {
         "metadata": "{}",
         "name": "Agent_name",
         "type": "\"string\""
        },
        {
         "metadata": "{}",
         "name": "Supervisor",
         "type": "\"string\""
        },
        {
         "metadata": "{}",
         "name": "Manager",
         "type": "\"string\""
        },
        {
         "metadata": "{}",
         "name": "Tenure Bucket",
         "type": "\"string\""
        },
        {
         "metadata": "{}",
         "name": "agent_shift",
         "type": "\"string\""
        },
        {
         "metadata": "{}",
         "name": "csat_score",
         "type": "\"long\""
        },
        {
         "metadata": "{}",
         "name": "Office",
         "type": "\"string\""
        }
       ],
       "type": "table"
      }
     },
     "output_type": "display_data"
    }
   ],
   "source": [
    "customer_support_ireland_df = customer_support_ireland_df.na.fill(\"unknown\", subset=[\"Customer_city\", \"Product_category\", \"Agent_name\", \"Supervisor\", \"Manager\", \"agent_shift\"])\n",
    "\n",
    "display(customer_support_ireland_df.limit(10))"
   ]
  },
  {
   "cell_type": "markdown",
   "metadata": {
    "application/vnd.databricks.v1+cell": {
     "cellMetadata": {},
     "inputWidgets": {},
     "nuid": "471e551b-e035-420d-a0fe-3f9db09b191f",
     "showTitle": false,
     "tableResultSettingsMap": {},
     "title": ""
    }
   },
   "source": [
    "**Combine Dataframes using SET operation**"
   ]
  },
  {
   "cell_type": "code",
   "execution_count": 0,
   "metadata": {
    "application/vnd.databricks.v1+cell": {
     "cellMetadata": {
      "byteLimit": 2048000,
      "rowLimit": 10000
     },
     "inputWidgets": {},
     "nuid": "1c8cd235-95f7-4599-9f1a-cb2e8222fdcd",
     "showTitle": false,
     "tableResultSettingsMap": {
      "0": {
       "dataGridStateBlob": "{\"version\":1,\"tableState\":{\"columnPinning\":{\"left\":[\"#row_number#\"],\"right\":[]},\"columnSizing\":{},\"columnVisibility\":{}},\"settings\":{\"columns\":{}},\"syncTimestamp\":1753468407800}",
       "filterBlob": null,
       "queryPlanFiltersBlob": null,
       "tableResultIndex": 0
      }
     },
     "title": ""
    }
   },
   "outputs": [
    {
     "output_type": "display_data",
     "data": {
      "text/html": [
       "<style scoped>\n",
       "  .table-result-container {\n",
       "    max-height: 300px;\n",
       "    overflow: auto;\n",
       "  }\n",
       "  table, th, td {\n",
       "    border: 1px solid black;\n",
       "    border-collapse: collapse;\n",
       "  }\n",
       "  th, td {\n",
       "    padding: 5px;\n",
       "  }\n",
       "  th {\n",
       "    text-align: left;\n",
       "  }\n",
       "</style><div class='table-result-container'><table class='table-result'><thead style='background-color: white'><tr><th>Unique id</th><th>channel_name</th><th>category</th><th>sub_category</th><th>Customer Remarks</th><th>Order_id</th><th>order_date_time</th><th>Issue_reported at</th><th>issue_responded</th><th>Survey_response_Date</th><th>Customer_City</th><th>Product_category</th><th>Item_price</th><th>connected_handling_time</th><th>Agent_name</th><th>Supervisor</th><th>Manager</th><th>Tenure Bucket</th><th>agent_shift</th><th>csat_score</th><th>Office</th></tr></thead><tbody><tr><td>7e9ae164-6a8b-4521-a2d4-58f7c9fff13f</td><td>Outcall</td><td>Product Queries</td><td>Life Insurance</td><td>null</td><td>c27c9bb4-fa36-4140-9f1f-21009254ffdb</td><td>null</td><td>01/08/2023 11:13</td><td>01/08/2023 11:47</td><td>01-Jun-25</td><td>unknown</td><td>unknown</td><td>null</td><td>null</td><td>Richard Buchanan</td><td>Mason Gupta</td><td>Jennifer Nguyen</td><td>On Job Training</td><td>Morning</td><td>5</td><td>India</td></tr><tr><td>b07ec1b0-f376-43b6-86df-ec03da3b2e16</td><td>Outcall</td><td>Product Queries</td><td>Product Specific Information</td><td>null</td><td>d406b0c7-ce17-4654-b9de-f08d421254bd</td><td>null</td><td>01/08/2023 12:52</td><td>01/08/2023 12:54</td><td>02-Jun-25</td><td>unknown</td><td>unknown</td><td>null</td><td>null</td><td>Vicki Collins</td><td>Dylan Kim</td><td>Michael Lee</td><td>>90</td><td>Morning</td><td>5</td><td>India</td></tr><tr><td>200814dd-27c7-4149-ba2b-bd3af3092880</td><td>Inbound</td><td>Order Related</td><td>Installation/demo</td><td>null</td><td>c273368d-b961-44cb-beaf-62d6fd6c00d5</td><td>null</td><td>01/08/2023 20:16</td><td>01/08/2023 20:38</td><td>03-Jun-25</td><td>unknown</td><td>unknown</td><td>null</td><td>null</td><td>Duane Norman</td><td>Jackson Park</td><td>William Kim</td><td>On Job Training</td><td>Evening</td><td>5</td><td>India</td></tr><tr><td>eb0d3e53-c1ca-42d3-8486-e42c8d622135</td><td>Inbound</td><td>Returns</td><td>Reverse Pickup Enquiry</td><td>null</td><td>5aed0059-55a4-4ec6-bb54-97942092020a</td><td>null</td><td>01/08/2023 20:56</td><td>01/08/2023 21:16</td><td>04-Jun-25</td><td>unknown</td><td>unknown</td><td>null</td><td>null</td><td>Patrick Flores</td><td>Olivia Wang</td><td>John Smith</td><td>>90</td><td>Evening</td><td>5</td><td>India</td></tr><tr><td>ba903143-1e54-406c-b969-46c52f92e5df</td><td>Inbound</td><td>Cancellation</td><td>Not Needed</td><td>null</td><td>e8bed5a9-6933-4aff-9dc6-ccefd7dcde59</td><td>null</td><td>01/08/2023 10:30</td><td>01/08/2023 10:32</td><td>05-Jun-25</td><td>unknown</td><td>unknown</td><td>null</td><td>null</td><td>Christopher Sanchez</td><td>Austin Johnson</td><td>Michael Lee</td><td>0-30</td><td>Morning</td><td>5</td><td>India</td></tr><tr><td>1cfde5b9-6112-44fc-8f3b-892196137a62</td><td>Email</td><td>Returns</td><td>Fraudulent User</td><td>null</td><td>a2938961-2833-45f1-83d6-678d9555c603</td><td>null</td><td>01/08/2023 15:13</td><td>01/08/2023 18:39</td><td>06-Jun-25</td><td>unknown</td><td>unknown</td><td>null</td><td>null</td><td>Desiree Newton</td><td>Emma Park</td><td>John Smith</td><td>0-30</td><td>Morning</td><td>5</td><td>India</td></tr><tr><td>11a3ffd8-1d6b-4806-b198-c60b5934c9bc</td><td>Outcall</td><td>Product Queries</td><td>Product Specific Information</td><td>null</td><td>bfcb562b-9a2f-4cca-aa79-fd4e2952f901</td><td>null</td><td>01/08/2023 15:31</td><td>01/08/2023 23:52</td><td>07-Jun-25</td><td>unknown</td><td>unknown</td><td>null</td><td>null</td><td>Shannon Hicks</td><td>Aiden Patel</td><td>Olivia Tan</td><td>>90</td><td>Morning</td><td>5</td><td>India</td></tr><tr><td>372b51a5-fa19-4a31-a4b8-a21de117d75e</td><td>Inbound</td><td>Returns</td><td>Exchange / Replacement</td><td>Very good</td><td>88537e0b-5ffa-43f9-bbe2-fe57a0f4e4ae</td><td>null</td><td>01/08/2023 16:17</td><td>01/08/2023 16:23</td><td>07-Jun-25</td><td>unknown</td><td>unknown</td><td>null</td><td>null</td><td>Laura Smith</td><td>Evelyn Kimura</td><td>Jennifer Nguyen</td><td>On Job Training</td><td>Evening</td><td>5</td><td>India</td></tr><tr><td>6e4413db-4e16-42fc-ac92-2f402e3df03c</td><td>Inbound</td><td>Returns</td><td>Missing</td><td>Shopzilla app and it's all coustomer care services is very good service provided all time</td><td>e6be9713-13c3-493c-8a91-2137cbbfa7e6</td><td>null</td><td>01/08/2023 21:03</td><td>01/08/2023 21:07</td><td>09-Jun-25</td><td>unknown</td><td>unknown</td><td>null</td><td>null</td><td>David Smith</td><td>Nathan Patel</td><td>John Smith</td><td>>90</td><td>Split</td><td>5</td><td>India</td></tr><tr><td>b0a65350-64a5-4603-8b9a-a24a4a145d08</td><td>Inbound</td><td>Shopzilla Related</td><td>General Enquiry</td><td>null</td><td>c7caa804-2525-499e-b202-4c781cb68974</td><td>null</td><td>01/08/2023 23:31</td><td>01/08/2023 23:36</td><td>10-Jun-25</td><td>unknown</td><td>unknown</td><td>null</td><td>null</td><td>Tabitha Ayala</td><td>Amelia Tanaka</td><td>Michael Lee</td><td>31-60</td><td>Evening</td><td>5</td><td>India</td></tr></tbody></table></div>"
      ]
     },
     "metadata": {
      "application/vnd.databricks.v1+output": {
       "addedWidgets": {},
       "aggData": [],
       "aggError": "",
       "aggOverflow": false,
       "aggSchema": [],
       "aggSeriesLimitReached": false,
       "aggType": "",
       "arguments": {},
       "columnCustomDisplayInfos": {},
       "data": [
        [
         "7e9ae164-6a8b-4521-a2d4-58f7c9fff13f",
         "Outcall",
         "Product Queries",
         "Life Insurance",
         null,
         "c27c9bb4-fa36-4140-9f1f-21009254ffdb",
         null,
         "01/08/2023 11:13",
         "01/08/2023 11:47",
         "01-Jun-25",
         "unknown",
         "unknown",
         null,
         null,
         "Richard Buchanan",
         "Mason Gupta",
         "Jennifer Nguyen",
         "On Job Training",
         "Morning",
         5,
         "India"
        ],
        [
         "b07ec1b0-f376-43b6-86df-ec03da3b2e16",
         "Outcall",
         "Product Queries",
         "Product Specific Information",
         null,
         "d406b0c7-ce17-4654-b9de-f08d421254bd",
         null,
         "01/08/2023 12:52",
         "01/08/2023 12:54",
         "02-Jun-25",
         "unknown",
         "unknown",
         null,
         null,
         "Vicki Collins",
         "Dylan Kim",
         "Michael Lee",
         ">90",
         "Morning",
         5,
         "India"
        ],
        [
         "200814dd-27c7-4149-ba2b-bd3af3092880",
         "Inbound",
         "Order Related",
         "Installation/demo",
         null,
         "c273368d-b961-44cb-beaf-62d6fd6c00d5",
         null,
         "01/08/2023 20:16",
         "01/08/2023 20:38",
         "03-Jun-25",
         "unknown",
         "unknown",
         null,
         null,
         "Duane Norman",
         "Jackson Park",
         "William Kim",
         "On Job Training",
         "Evening",
         5,
         "India"
        ],
        [
         "eb0d3e53-c1ca-42d3-8486-e42c8d622135",
         "Inbound",
         "Returns",
         "Reverse Pickup Enquiry",
         null,
         "5aed0059-55a4-4ec6-bb54-97942092020a",
         null,
         "01/08/2023 20:56",
         "01/08/2023 21:16",
         "04-Jun-25",
         "unknown",
         "unknown",
         null,
         null,
         "Patrick Flores",
         "Olivia Wang",
         "John Smith",
         ">90",
         "Evening",
         5,
         "India"
        ],
        [
         "ba903143-1e54-406c-b969-46c52f92e5df",
         "Inbound",
         "Cancellation",
         "Not Needed",
         null,
         "e8bed5a9-6933-4aff-9dc6-ccefd7dcde59",
         null,
         "01/08/2023 10:30",
         "01/08/2023 10:32",
         "05-Jun-25",
         "unknown",
         "unknown",
         null,
         null,
         "Christopher Sanchez",
         "Austin Johnson",
         "Michael Lee",
         "0-30",
         "Morning",
         5,
         "India"
        ],
        [
         "1cfde5b9-6112-44fc-8f3b-892196137a62",
         "Email",
         "Returns",
         "Fraudulent User",
         null,
         "a2938961-2833-45f1-83d6-678d9555c603",
         null,
         "01/08/2023 15:13",
         "01/08/2023 18:39",
         "06-Jun-25",
         "unknown",
         "unknown",
         null,
         null,
         "Desiree Newton",
         "Emma Park",
         "John Smith",
         "0-30",
         "Morning",
         5,
         "India"
        ],
        [
         "11a3ffd8-1d6b-4806-b198-c60b5934c9bc",
         "Outcall",
         "Product Queries",
         "Product Specific Information",
         null,
         "bfcb562b-9a2f-4cca-aa79-fd4e2952f901",
         null,
         "01/08/2023 15:31",
         "01/08/2023 23:52",
         "07-Jun-25",
         "unknown",
         "unknown",
         null,
         null,
         "Shannon Hicks",
         "Aiden Patel",
         "Olivia Tan",
         ">90",
         "Morning",
         5,
         "India"
        ],
        [
         "372b51a5-fa19-4a31-a4b8-a21de117d75e",
         "Inbound",
         "Returns",
         "Exchange / Replacement",
         "Very good",
         "88537e0b-5ffa-43f9-bbe2-fe57a0f4e4ae",
         null,
         "01/08/2023 16:17",
         "01/08/2023 16:23",
         "07-Jun-25",
         "unknown",
         "unknown",
         null,
         null,
         "Laura Smith",
         "Evelyn Kimura",
         "Jennifer Nguyen",
         "On Job Training",
         "Evening",
         5,
         "India"
        ],
        [
         "6e4413db-4e16-42fc-ac92-2f402e3df03c",
         "Inbound",
         "Returns",
         "Missing",
         "Shopzilla app and it's all coustomer care services is very good service provided all time",
         "e6be9713-13c3-493c-8a91-2137cbbfa7e6",
         null,
         "01/08/2023 21:03",
         "01/08/2023 21:07",
         "09-Jun-25",
         "unknown",
         "unknown",
         null,
         null,
         "David Smith",
         "Nathan Patel",
         "John Smith",
         ">90",
         "Split",
         5,
         "India"
        ],
        [
         "b0a65350-64a5-4603-8b9a-a24a4a145d08",
         "Inbound",
         "Shopzilla Related",
         "General Enquiry",
         null,
         "c7caa804-2525-499e-b202-4c781cb68974",
         null,
         "01/08/2023 23:31",
         "01/08/2023 23:36",
         "10-Jun-25",
         "unknown",
         "unknown",
         null,
         null,
         "Tabitha Ayala",
         "Amelia Tanaka",
         "Michael Lee",
         "31-60",
         "Evening",
         5,
         "India"
        ]
       ],
       "datasetInfos": [],
       "dbfsResultPath": null,
       "isJsonSchema": true,
       "metadata": {},
       "overflow": false,
       "plotOptions": {
        "customPlotOptions": {},
        "displayType": "table",
        "pivotAggregation": null,
        "pivotColumns": null,
        "xColumns": null,
        "yColumns": null
       },
       "removedWidgets": [],
       "schema": [
        {
         "metadata": "{}",
         "name": "Unique id",
         "type": "\"string\""
        },
        {
         "metadata": "{}",
         "name": "channel_name",
         "type": "\"string\""
        },
        {
         "metadata": "{}",
         "name": "category",
         "type": "\"string\""
        },
        {
         "metadata": "{}",
         "name": "sub_category",
         "type": "\"string\""
        },
        {
         "metadata": "{}",
         "name": "Customer Remarks",
         "type": "\"string\""
        },
        {
         "metadata": "{}",
         "name": "Order_id",
         "type": "\"string\""
        },
        {
         "metadata": "{}",
         "name": "order_date_time",
         "type": "\"string\""
        },
        {
         "metadata": "{}",
         "name": "Issue_reported at",
         "type": "\"string\""
        },
        {
         "metadata": "{}",
         "name": "issue_responded",
         "type": "\"string\""
        },
        {
         "metadata": "{}",
         "name": "Survey_response_Date",
         "type": "\"string\""
        },
        {
         "metadata": "{}",
         "name": "Customer_City",
         "type": "\"string\""
        },
        {
         "metadata": "{}",
         "name": "Product_category",
         "type": "\"string\""
        },
        {
         "metadata": "{}",
         "name": "Item_price",
         "type": "\"long\""
        },
        {
         "metadata": "{}",
         "name": "connected_handling_time",
         "type": "\"long\""
        },
        {
         "metadata": "{}",
         "name": "Agent_name",
         "type": "\"string\""
        },
        {
         "metadata": "{}",
         "name": "Supervisor",
         "type": "\"string\""
        },
        {
         "metadata": "{}",
         "name": "Manager",
         "type": "\"string\""
        },
        {
         "metadata": "{}",
         "name": "Tenure Bucket",
         "type": "\"string\""
        },
        {
         "metadata": "{}",
         "name": "agent_shift",
         "type": "\"string\""
        },
        {
         "metadata": "{}",
         "name": "csat_score",
         "type": "\"long\""
        },
        {
         "metadata": "{}",
         "name": "Office",
         "type": "\"string\""
        }
       ],
       "type": "table"
      }
     },
     "output_type": "display_data"
    }
   ],
   "source": [
    "union_df = customer_support_df.union(customer_support_ireland_df)\n",
    "\n",
    "display(union_df.limit(10))"
   ]
  },
  {
   "cell_type": "markdown",
   "metadata": {
    "application/vnd.databricks.v1+cell": {
     "cellMetadata": {},
     "inputWidgets": {},
     "nuid": "6b171fc9-5a66-404b-82b5-ef1a859e2522",
     "showTitle": false,
     "tableResultSettingsMap": {},
     "title": ""
    }
   },
   "source": [
    "**Select columns**\n",
    "You can select specific columns using select and col. The col function is in the pyspark.sql.functions submodule."
   ]
  },
  {
   "cell_type": "code",
   "execution_count": 0,
   "metadata": {
    "application/vnd.databricks.v1+cell": {
     "cellMetadata": {
      "byteLimit": 2048000,
      "rowLimit": 10000
     },
     "inputWidgets": {},
     "nuid": "f8981327-953b-4803-a7b2-1170840c33f0",
     "showTitle": false,
     "tableResultSettingsMap": {
      "0": {
       "dataGridStateBlob": "{\"version\":1,\"tableState\":{\"columnPinning\":{\"left\":[\"#row_number#\"],\"right\":[]},\"columnSizing\":{},\"columnVisibility\":{}},\"settings\":{\"columns\":{}},\"syncTimestamp\":1753395008367}",
       "filterBlob": null,
       "queryPlanFiltersBlob": null,
       "tableResultIndex": 0
      }
     },
     "title": ""
    }
   },
   "outputs": [
    {
     "output_type": "display_data",
     "data": {
      "text/html": [
       "<style scoped>\n",
       "  .table-result-container {\n",
       "    max-height: 300px;\n",
       "    overflow: auto;\n",
       "  }\n",
       "  table, th, td {\n",
       "    border: 1px solid black;\n",
       "    border-collapse: collapse;\n",
       "  }\n",
       "  th, td {\n",
       "    padding: 5px;\n",
       "  }\n",
       "  th {\n",
       "    text-align: left;\n",
       "  }\n",
       "</style><div class='table-result-container'><table class='table-result'><thead style='background-color: white'><tr><th>channel_name</th><th>category</th><th>sub_category</th><th>Order_id</th><th>order_date_time</th><th>Issue_reported at</th><th>issue_responded</th><th>Survey_response_Date</th><th>Customer_City</th><th>Product_category</th><th>Agent_name</th><th>Supervisor</th><th>Manager</th><th>agent_shift</th><th>csat_score</th><th>Office</th></tr></thead><tbody><tr><td>Outcall</td><td>Product Queries</td><td>Life Insurance</td><td>c27c9bb4-fa36-4140-9f1f-21009254ffdb</td><td>null</td><td>01/08/2023 11:13</td><td>01/08/2023 11:47</td><td>01-Jun-25</td><td>unknown</td><td>unknown</td><td>Richard Buchanan</td><td>Mason Gupta</td><td>Jennifer Nguyen</td><td>Morning</td><td>5</td><td>India</td></tr><tr><td>Outcall</td><td>Product Queries</td><td>Product Specific Information</td><td>d406b0c7-ce17-4654-b9de-f08d421254bd</td><td>null</td><td>01/08/2023 12:52</td><td>01/08/2023 12:54</td><td>02-Jun-25</td><td>unknown</td><td>unknown</td><td>Vicki Collins</td><td>Dylan Kim</td><td>Michael Lee</td><td>Morning</td><td>5</td><td>India</td></tr><tr><td>Inbound</td><td>Order Related</td><td>Installation/demo</td><td>c273368d-b961-44cb-beaf-62d6fd6c00d5</td><td>null</td><td>01/08/2023 20:16</td><td>01/08/2023 20:38</td><td>03-Jun-25</td><td>unknown</td><td>unknown</td><td>Duane Norman</td><td>Jackson Park</td><td>William Kim</td><td>Evening</td><td>5</td><td>India</td></tr><tr><td>Inbound</td><td>Returns</td><td>Reverse Pickup Enquiry</td><td>5aed0059-55a4-4ec6-bb54-97942092020a</td><td>null</td><td>01/08/2023 20:56</td><td>01/08/2023 21:16</td><td>04-Jun-25</td><td>unknown</td><td>unknown</td><td>Patrick Flores</td><td>Olivia Wang</td><td>John Smith</td><td>Evening</td><td>5</td><td>India</td></tr><tr><td>Inbound</td><td>Cancellation</td><td>Not Needed</td><td>e8bed5a9-6933-4aff-9dc6-ccefd7dcde59</td><td>null</td><td>01/08/2023 10:30</td><td>01/08/2023 10:32</td><td>05-Jun-25</td><td>unknown</td><td>unknown</td><td>Christopher Sanchez</td><td>Austin Johnson</td><td>Michael Lee</td><td>Morning</td><td>5</td><td>India</td></tr><tr><td>Email</td><td>Returns</td><td>Fraudulent User</td><td>a2938961-2833-45f1-83d6-678d9555c603</td><td>null</td><td>01/08/2023 15:13</td><td>01/08/2023 18:39</td><td>06-Jun-25</td><td>unknown</td><td>unknown</td><td>Desiree Newton</td><td>Emma Park</td><td>John Smith</td><td>Morning</td><td>5</td><td>India</td></tr><tr><td>Outcall</td><td>Product Queries</td><td>Product Specific Information</td><td>bfcb562b-9a2f-4cca-aa79-fd4e2952f901</td><td>null</td><td>01/08/2023 15:31</td><td>01/08/2023 23:52</td><td>07-Jun-25</td><td>unknown</td><td>unknown</td><td>Shannon Hicks</td><td>Aiden Patel</td><td>Olivia Tan</td><td>Morning</td><td>5</td><td>India</td></tr><tr><td>Inbound</td><td>Returns</td><td>Exchange / Replacement</td><td>88537e0b-5ffa-43f9-bbe2-fe57a0f4e4ae</td><td>null</td><td>01/08/2023 16:17</td><td>01/08/2023 16:23</td><td>07-Jun-25</td><td>unknown</td><td>unknown</td><td>Laura Smith</td><td>Evelyn Kimura</td><td>Jennifer Nguyen</td><td>Evening</td><td>5</td><td>India</td></tr><tr><td>Inbound</td><td>Returns</td><td>Missing</td><td>e6be9713-13c3-493c-8a91-2137cbbfa7e6</td><td>null</td><td>01/08/2023 21:03</td><td>01/08/2023 21:07</td><td>09-Jun-25</td><td>unknown</td><td>unknown</td><td>David Smith</td><td>Nathan Patel</td><td>John Smith</td><td>Split</td><td>5</td><td>India</td></tr><tr><td>Inbound</td><td>Shopzilla Related</td><td>General Enquiry</td><td>c7caa804-2525-499e-b202-4c781cb68974</td><td>null</td><td>01/08/2023 23:31</td><td>01/08/2023 23:36</td><td>10-Jun-25</td><td>unknown</td><td>unknown</td><td>Tabitha Ayala</td><td>Amelia Tanaka</td><td>Michael Lee</td><td>Evening</td><td>5</td><td>India</td></tr></tbody></table></div>"
      ]
     },
     "metadata": {
      "application/vnd.databricks.v1+output": {
       "addedWidgets": {},
       "aggData": [],
       "aggError": "",
       "aggOverflow": false,
       "aggSchema": [],
       "aggSeriesLimitReached": false,
       "aggType": "",
       "arguments": {},
       "columnCustomDisplayInfos": {},
       "data": [
        [
         "Outcall",
         "Product Queries",
         "Life Insurance",
         "c27c9bb4-fa36-4140-9f1f-21009254ffdb",
         null,
         "01/08/2023 11:13",
         "01/08/2023 11:47",
         "01-Jun-25",
         "unknown",
         "unknown",
         "Richard Buchanan",
         "Mason Gupta",
         "Jennifer Nguyen",
         "Morning",
         5,
         "India"
        ],
        [
         "Outcall",
         "Product Queries",
         "Product Specific Information",
         "d406b0c7-ce17-4654-b9de-f08d421254bd",
         null,
         "01/08/2023 12:52",
         "01/08/2023 12:54",
         "02-Jun-25",
         "unknown",
         "unknown",
         "Vicki Collins",
         "Dylan Kim",
         "Michael Lee",
         "Morning",
         5,
         "India"
        ],
        [
         "Inbound",
         "Order Related",
         "Installation/demo",
         "c273368d-b961-44cb-beaf-62d6fd6c00d5",
         null,
         "01/08/2023 20:16",
         "01/08/2023 20:38",
         "03-Jun-25",
         "unknown",
         "unknown",
         "Duane Norman",
         "Jackson Park",
         "William Kim",
         "Evening",
         5,
         "India"
        ],
        [
         "Inbound",
         "Returns",
         "Reverse Pickup Enquiry",
         "5aed0059-55a4-4ec6-bb54-97942092020a",
         null,
         "01/08/2023 20:56",
         "01/08/2023 21:16",
         "04-Jun-25",
         "unknown",
         "unknown",
         "Patrick Flores",
         "Olivia Wang",
         "John Smith",
         "Evening",
         5,
         "India"
        ],
        [
         "Inbound",
         "Cancellation",
         "Not Needed",
         "e8bed5a9-6933-4aff-9dc6-ccefd7dcde59",
         null,
         "01/08/2023 10:30",
         "01/08/2023 10:32",
         "05-Jun-25",
         "unknown",
         "unknown",
         "Christopher Sanchez",
         "Austin Johnson",
         "Michael Lee",
         "Morning",
         5,
         "India"
        ],
        [
         "Email",
         "Returns",
         "Fraudulent User",
         "a2938961-2833-45f1-83d6-678d9555c603",
         null,
         "01/08/2023 15:13",
         "01/08/2023 18:39",
         "06-Jun-25",
         "unknown",
         "unknown",
         "Desiree Newton",
         "Emma Park",
         "John Smith",
         "Morning",
         5,
         "India"
        ],
        [
         "Outcall",
         "Product Queries",
         "Product Specific Information",
         "bfcb562b-9a2f-4cca-aa79-fd4e2952f901",
         null,
         "01/08/2023 15:31",
         "01/08/2023 23:52",
         "07-Jun-25",
         "unknown",
         "unknown",
         "Shannon Hicks",
         "Aiden Patel",
         "Olivia Tan",
         "Morning",
         5,
         "India"
        ],
        [
         "Inbound",
         "Returns",
         "Exchange / Replacement",
         "88537e0b-5ffa-43f9-bbe2-fe57a0f4e4ae",
         null,
         "01/08/2023 16:17",
         "01/08/2023 16:23",
         "07-Jun-25",
         "unknown",
         "unknown",
         "Laura Smith",
         "Evelyn Kimura",
         "Jennifer Nguyen",
         "Evening",
         5,
         "India"
        ],
        [
         "Inbound",
         "Returns",
         "Missing",
         "e6be9713-13c3-493c-8a91-2137cbbfa7e6",
         null,
         "01/08/2023 21:03",
         "01/08/2023 21:07",
         "09-Jun-25",
         "unknown",
         "unknown",
         "David Smith",
         "Nathan Patel",
         "John Smith",
         "Split",
         5,
         "India"
        ],
        [
         "Inbound",
         "Shopzilla Related",
         "General Enquiry",
         "c7caa804-2525-499e-b202-4c781cb68974",
         null,
         "01/08/2023 23:31",
         "01/08/2023 23:36",
         "10-Jun-25",
         "unknown",
         "unknown",
         "Tabitha Ayala",
         "Amelia Tanaka",
         "Michael Lee",
         "Evening",
         5,
         "India"
        ]
       ],
       "datasetInfos": [],
       "dbfsResultPath": null,
       "isJsonSchema": true,
       "metadata": {},
       "overflow": false,
       "plotOptions": {
        "customPlotOptions": {},
        "displayType": "table",
        "pivotAggregation": null,
        "pivotColumns": null,
        "xColumns": null,
        "yColumns": null
       },
       "removedWidgets": [],
       "schema": [
        {
         "metadata": "{}",
         "name": "channel_name",
         "type": "\"string\""
        },
        {
         "metadata": "{}",
         "name": "category",
         "type": "\"string\""
        },
        {
         "metadata": "{}",
         "name": "sub_category",
         "type": "\"string\""
        },
        {
         "metadata": "{}",
         "name": "Order_id",
         "type": "\"string\""
        },
        {
         "metadata": "{}",
         "name": "order_date_time",
         "type": "\"string\""
        },
        {
         "metadata": "{}",
         "name": "Issue_reported at",
         "type": "\"string\""
        },
        {
         "metadata": "{}",
         "name": "issue_responded",
         "type": "\"string\""
        },
        {
         "metadata": "{}",
         "name": "Survey_response_Date",
         "type": "\"string\""
        },
        {
         "metadata": "{}",
         "name": "Customer_City",
         "type": "\"string\""
        },
        {
         "metadata": "{}",
         "name": "Product_category",
         "type": "\"string\""
        },
        {
         "metadata": "{}",
         "name": "Agent_name",
         "type": "\"string\""
        },
        {
         "metadata": "{}",
         "name": "Supervisor",
         "type": "\"string\""
        },
        {
         "metadata": "{}",
         "name": "Manager",
         "type": "\"string\""
        },
        {
         "metadata": "{}",
         "name": "agent_shift",
         "type": "\"string\""
        },
        {
         "metadata": "{}",
         "name": "csat_score",
         "type": "\"long\""
        },
        {
         "metadata": "{}",
         "name": "Office",
         "type": "\"string\""
        }
       ],
       "type": "table"
      }
     },
     "output_type": "display_data"
    }
   ],
   "source": [
    "\n",
    "\n",
    "selected_cols_df = union_df.select(\n",
    "  col(\"channel_name\"),\n",
    "  col(\"category\"),\n",
    "  col(\"sub_category\"), \n",
    "  col(\"Order_id\"),\n",
    "  col(\"order_date_time\"),\n",
    "  col(\"Issue_reported at\"),\n",
    "  col(\"issue_responded\"),\n",
    "  col(\"Survey_response_Date\"),\n",
    "  col(\"Customer_City\"),\n",
    "  col(\"Product_category\"),\n",
    "  col(\"Agent_name\"),\n",
    "  col(\"Supervisor\"),\n",
    "  col(\"Manager\"),\n",
    "  col(\"agent_shift\"),\n",
    "  col(\"csat_score\"),\n",
    "  col(\"Office\")\n",
    ")\n",
    "display(selected_cols_df.limit(10))"
   ]
  },
  {
   "cell_type": "markdown",
   "metadata": {
    "application/vnd.databricks.v1+cell": {
     "cellMetadata": {},
     "inputWidgets": {},
     "nuid": "7e7bddba-af02-45cd-ac85-97a35330e294",
     "showTitle": false,
     "tableResultSettingsMap": {},
     "title": ""
    }
   },
   "source": [
    "**Split columns**\n"
   ]
  },
  {
   "cell_type": "code",
   "execution_count": 0,
   "metadata": {
    "application/vnd.databricks.v1+cell": {
     "cellMetadata": {
      "byteLimit": 2048000,
      "rowLimit": 10000
     },
     "inputWidgets": {},
     "nuid": "1ed6c06d-442d-49d8-be00-667909408ac4",
     "showTitle": false,
     "tableResultSettingsMap": {
      "0": {
       "dataGridStateBlob": "{\"version\":1,\"tableState\":{\"columnPinning\":{\"left\":[\"#row_number#\"],\"right\":[]},\"columnSizing\":{},\"columnVisibility\":{}},\"settings\":{\"columns\":{}},\"syncTimestamp\":1753468501258}",
       "filterBlob": null,
       "queryPlanFiltersBlob": null,
       "tableResultIndex": 0
      }
     },
     "title": ""
    }
   },
   "outputs": [
    {
     "output_type": "display_data",
     "data": {
      "text/html": [
       "<style scoped>\n",
       "  .table-result-container {\n",
       "    max-height: 300px;\n",
       "    overflow: auto;\n",
       "  }\n",
       "  table, th, td {\n",
       "    border: 1px solid black;\n",
       "    border-collapse: collapse;\n",
       "  }\n",
       "  th, td {\n",
       "    padding: 5px;\n",
       "  }\n",
       "  th {\n",
       "    text-align: left;\n",
       "  }\n",
       "</style><div class='table-result-container'><table class='table-result'><thead style='background-color: white'><tr><th>channel_name</th><th>category</th><th>sub_category</th><th>Order_id</th><th>order_date_time</th><th>Issue_reported at</th><th>issue_responded</th><th>Survey_response_Date</th><th>Customer_City</th><th>Product_category</th><th>Agent_name</th><th>Supervisor</th><th>Manager</th><th>agent_shift</th><th>csat_score</th><th>Office</th><th>Issue_reported_time</th><th>Issue_responded_time</th></tr></thead><tbody><tr><td>Outcall</td><td>Product Queries</td><td>Life Insurance</td><td>c27c9bb4-fa36-4140-9f1f-21009254ffdb</td><td>null</td><td>01/08/2023 11:13</td><td>01/08/2023 11:47</td><td>01-Jun-25</td><td>unknown</td><td>unknown</td><td>Richard Buchanan</td><td>Mason Gupta</td><td>Jennifer Nguyen</td><td>Morning</td><td>5</td><td>India</td><td>11:13</td><td>11:47</td></tr><tr><td>Outcall</td><td>Product Queries</td><td>Product Specific Information</td><td>d406b0c7-ce17-4654-b9de-f08d421254bd</td><td>null</td><td>01/08/2023 12:52</td><td>01/08/2023 12:54</td><td>02-Jun-25</td><td>unknown</td><td>unknown</td><td>Vicki Collins</td><td>Dylan Kim</td><td>Michael Lee</td><td>Morning</td><td>5</td><td>India</td><td>12:52</td><td>12:54</td></tr><tr><td>Inbound</td><td>Order Related</td><td>Installation/demo</td><td>c273368d-b961-44cb-beaf-62d6fd6c00d5</td><td>null</td><td>01/08/2023 20:16</td><td>01/08/2023 20:38</td><td>03-Jun-25</td><td>unknown</td><td>unknown</td><td>Duane Norman</td><td>Jackson Park</td><td>William Kim</td><td>Evening</td><td>5</td><td>India</td><td>20:16</td><td>20:38</td></tr><tr><td>Inbound</td><td>Returns</td><td>Reverse Pickup Enquiry</td><td>5aed0059-55a4-4ec6-bb54-97942092020a</td><td>null</td><td>01/08/2023 20:56</td><td>01/08/2023 21:16</td><td>04-Jun-25</td><td>unknown</td><td>unknown</td><td>Patrick Flores</td><td>Olivia Wang</td><td>John Smith</td><td>Evening</td><td>5</td><td>India</td><td>20:56</td><td>21:16</td></tr><tr><td>Inbound</td><td>Cancellation</td><td>Not Needed</td><td>e8bed5a9-6933-4aff-9dc6-ccefd7dcde59</td><td>null</td><td>01/08/2023 10:30</td><td>01/08/2023 10:32</td><td>05-Jun-25</td><td>unknown</td><td>unknown</td><td>Christopher Sanchez</td><td>Austin Johnson</td><td>Michael Lee</td><td>Morning</td><td>5</td><td>India</td><td>10:30</td><td>10:32</td></tr><tr><td>Email</td><td>Returns</td><td>Fraudulent User</td><td>a2938961-2833-45f1-83d6-678d9555c603</td><td>null</td><td>01/08/2023 15:13</td><td>01/08/2023 18:39</td><td>06-Jun-25</td><td>unknown</td><td>unknown</td><td>Desiree Newton</td><td>Emma Park</td><td>John Smith</td><td>Morning</td><td>5</td><td>India</td><td>15:13</td><td>18:39</td></tr><tr><td>Outcall</td><td>Product Queries</td><td>Product Specific Information</td><td>bfcb562b-9a2f-4cca-aa79-fd4e2952f901</td><td>null</td><td>01/08/2023 15:31</td><td>01/08/2023 23:52</td><td>07-Jun-25</td><td>unknown</td><td>unknown</td><td>Shannon Hicks</td><td>Aiden Patel</td><td>Olivia Tan</td><td>Morning</td><td>5</td><td>India</td><td>15:31</td><td>23:52</td></tr><tr><td>Inbound</td><td>Returns</td><td>Exchange / Replacement</td><td>88537e0b-5ffa-43f9-bbe2-fe57a0f4e4ae</td><td>null</td><td>01/08/2023 16:17</td><td>01/08/2023 16:23</td><td>07-Jun-25</td><td>unknown</td><td>unknown</td><td>Laura Smith</td><td>Evelyn Kimura</td><td>Jennifer Nguyen</td><td>Evening</td><td>5</td><td>India</td><td>16:17</td><td>16:23</td></tr><tr><td>Inbound</td><td>Returns</td><td>Missing</td><td>e6be9713-13c3-493c-8a91-2137cbbfa7e6</td><td>null</td><td>01/08/2023 21:03</td><td>01/08/2023 21:07</td><td>09-Jun-25</td><td>unknown</td><td>unknown</td><td>David Smith</td><td>Nathan Patel</td><td>John Smith</td><td>Split</td><td>5</td><td>India</td><td>21:03</td><td>21:07</td></tr><tr><td>Inbound</td><td>Shopzilla Related</td><td>General Enquiry</td><td>c7caa804-2525-499e-b202-4c781cb68974</td><td>null</td><td>01/08/2023 23:31</td><td>01/08/2023 23:36</td><td>10-Jun-25</td><td>unknown</td><td>unknown</td><td>Tabitha Ayala</td><td>Amelia Tanaka</td><td>Michael Lee</td><td>Evening</td><td>5</td><td>India</td><td>23:31</td><td>23:36</td></tr></tbody></table></div>"
      ]
     },
     "metadata": {
      "application/vnd.databricks.v1+output": {
       "addedWidgets": {},
       "aggData": [],
       "aggError": "",
       "aggOverflow": false,
       "aggSchema": [],
       "aggSeriesLimitReached": false,
       "aggType": "",
       "arguments": {},
       "columnCustomDisplayInfos": {},
       "data": [
        [
         "Outcall",
         "Product Queries",
         "Life Insurance",
         "c27c9bb4-fa36-4140-9f1f-21009254ffdb",
         null,
         "01/08/2023 11:13",
         "01/08/2023 11:47",
         "01-Jun-25",
         "unknown",
         "unknown",
         "Richard Buchanan",
         "Mason Gupta",
         "Jennifer Nguyen",
         "Morning",
         5,
         "India",
         "11:13",
         "11:47"
        ],
        [
         "Outcall",
         "Product Queries",
         "Product Specific Information",
         "d406b0c7-ce17-4654-b9de-f08d421254bd",
         null,
         "01/08/2023 12:52",
         "01/08/2023 12:54",
         "02-Jun-25",
         "unknown",
         "unknown",
         "Vicki Collins",
         "Dylan Kim",
         "Michael Lee",
         "Morning",
         5,
         "India",
         "12:52",
         "12:54"
        ],
        [
         "Inbound",
         "Order Related",
         "Installation/demo",
         "c273368d-b961-44cb-beaf-62d6fd6c00d5",
         null,
         "01/08/2023 20:16",
         "01/08/2023 20:38",
         "03-Jun-25",
         "unknown",
         "unknown",
         "Duane Norman",
         "Jackson Park",
         "William Kim",
         "Evening",
         5,
         "India",
         "20:16",
         "20:38"
        ],
        [
         "Inbound",
         "Returns",
         "Reverse Pickup Enquiry",
         "5aed0059-55a4-4ec6-bb54-97942092020a",
         null,
         "01/08/2023 20:56",
         "01/08/2023 21:16",
         "04-Jun-25",
         "unknown",
         "unknown",
         "Patrick Flores",
         "Olivia Wang",
         "John Smith",
         "Evening",
         5,
         "India",
         "20:56",
         "21:16"
        ],
        [
         "Inbound",
         "Cancellation",
         "Not Needed",
         "e8bed5a9-6933-4aff-9dc6-ccefd7dcde59",
         null,
         "01/08/2023 10:30",
         "01/08/2023 10:32",
         "05-Jun-25",
         "unknown",
         "unknown",
         "Christopher Sanchez",
         "Austin Johnson",
         "Michael Lee",
         "Morning",
         5,
         "India",
         "10:30",
         "10:32"
        ],
        [
         "Email",
         "Returns",
         "Fraudulent User",
         "a2938961-2833-45f1-83d6-678d9555c603",
         null,
         "01/08/2023 15:13",
         "01/08/2023 18:39",
         "06-Jun-25",
         "unknown",
         "unknown",
         "Desiree Newton",
         "Emma Park",
         "John Smith",
         "Morning",
         5,
         "India",
         "15:13",
         "18:39"
        ],
        [
         "Outcall",
         "Product Queries",
         "Product Specific Information",
         "bfcb562b-9a2f-4cca-aa79-fd4e2952f901",
         null,
         "01/08/2023 15:31",
         "01/08/2023 23:52",
         "07-Jun-25",
         "unknown",
         "unknown",
         "Shannon Hicks",
         "Aiden Patel",
         "Olivia Tan",
         "Morning",
         5,
         "India",
         "15:31",
         "23:52"
        ],
        [
         "Inbound",
         "Returns",
         "Exchange / Replacement",
         "88537e0b-5ffa-43f9-bbe2-fe57a0f4e4ae",
         null,
         "01/08/2023 16:17",
         "01/08/2023 16:23",
         "07-Jun-25",
         "unknown",
         "unknown",
         "Laura Smith",
         "Evelyn Kimura",
         "Jennifer Nguyen",
         "Evening",
         5,
         "India",
         "16:17",
         "16:23"
        ],
        [
         "Inbound",
         "Returns",
         "Missing",
         "e6be9713-13c3-493c-8a91-2137cbbfa7e6",
         null,
         "01/08/2023 21:03",
         "01/08/2023 21:07",
         "09-Jun-25",
         "unknown",
         "unknown",
         "David Smith",
         "Nathan Patel",
         "John Smith",
         "Split",
         5,
         "India",
         "21:03",
         "21:07"
        ],
        [
         "Inbound",
         "Shopzilla Related",
         "General Enquiry",
         "c7caa804-2525-499e-b202-4c781cb68974",
         null,
         "01/08/2023 23:31",
         "01/08/2023 23:36",
         "10-Jun-25",
         "unknown",
         "unknown",
         "Tabitha Ayala",
         "Amelia Tanaka",
         "Michael Lee",
         "Evening",
         5,
         "India",
         "23:31",
         "23:36"
        ]
       ],
       "datasetInfos": [],
       "dbfsResultPath": null,
       "isJsonSchema": true,
       "metadata": {},
       "overflow": false,
       "plotOptions": {
        "customPlotOptions": {},
        "displayType": "table",
        "pivotAggregation": null,
        "pivotColumns": null,
        "xColumns": null,
        "yColumns": null
       },
       "removedWidgets": [],
       "schema": [
        {
         "metadata": "{}",
         "name": "channel_name",
         "type": "\"string\""
        },
        {
         "metadata": "{}",
         "name": "category",
         "type": "\"string\""
        },
        {
         "metadata": "{}",
         "name": "sub_category",
         "type": "\"string\""
        },
        {
         "metadata": "{}",
         "name": "Order_id",
         "type": "\"string\""
        },
        {
         "metadata": "{}",
         "name": "order_date_time",
         "type": "\"string\""
        },
        {
         "metadata": "{}",
         "name": "Issue_reported at",
         "type": "\"string\""
        },
        {
         "metadata": "{}",
         "name": "issue_responded",
         "type": "\"string\""
        },
        {
         "metadata": "{}",
         "name": "Survey_response_Date",
         "type": "\"string\""
        },
        {
         "metadata": "{}",
         "name": "Customer_City",
         "type": "\"string\""
        },
        {
         "metadata": "{}",
         "name": "Product_category",
         "type": "\"string\""
        },
        {
         "metadata": "{}",
         "name": "Agent_name",
         "type": "\"string\""
        },
        {
         "metadata": "{}",
         "name": "Supervisor",
         "type": "\"string\""
        },
        {
         "metadata": "{}",
         "name": "Manager",
         "type": "\"string\""
        },
        {
         "metadata": "{}",
         "name": "agent_shift",
         "type": "\"string\""
        },
        {
         "metadata": "{}",
         "name": "csat_score",
         "type": "\"long\""
        },
        {
         "metadata": "{}",
         "name": "Office",
         "type": "\"string\""
        },
        {
         "metadata": "{}",
         "name": "Issue_reported_time",
         "type": "\"string\""
        },
        {
         "metadata": "{}",
         "name": "Issue_responded_time",
         "type": "\"string\""
        }
       ],
       "type": "table"
      }
     },
     "output_type": "display_data"
    }
   ],
   "source": [
    "Split_df = selected_cols_df.withColumn(\"Issue_reported_time\", split(col(\"Issue_reported at\"), \" \")[1]).              withColumn(\"Issue_responded_time\", split(col(\"issue_responded\"), \" \")[1])\n",
    "\n",
    "display(Split_df.limit(10))"
   ]
  },
  {
   "cell_type": "markdown",
   "metadata": {
    "application/vnd.databricks.v1+cell": {
     "cellMetadata": {},
     "inputWidgets": {},
     "nuid": "5b71dcaa-4d08-4d4b-947d-7c3f4bf33372",
     "showTitle": false,
     "tableResultSettingsMap": {},
     "title": ""
    }
   },
   "source": [
    "**Cast column types** In some cases you may want to change the data type for one or more of the columns in your DataFrame. To do this, use the cast method to convert between column data types. "
   ]
  },
  {
   "cell_type": "code",
   "execution_count": 0,
   "metadata": {
    "application/vnd.databricks.v1+cell": {
     "cellMetadata": {
      "byteLimit": 2048000,
      "rowLimit": 10000
     },
     "inputWidgets": {},
     "nuid": "4fdda9b1-d4b0-4866-944f-c4da1b8382da",
     "showTitle": false,
     "tableResultSettingsMap": {},
     "title": ""
    }
   },
   "outputs": [
    {
     "output_type": "stream",
     "name": "stdout",
     "output_type": "stream",
     "text": [
      "root\n |-- channel_name: string (nullable = true)\n |-- category: string (nullable = true)\n |-- sub_category: string (nullable = true)\n |-- Order_id: string (nullable = true)\n |-- order_date_time: string (nullable = true)\n |-- Issue_reported at: string (nullable = true)\n |-- issue_responded: string (nullable = true)\n |-- Survey_response_Date: string (nullable = true)\n |-- Customer_City: string (nullable = false)\n |-- Product_category: string (nullable = false)\n |-- Agent_name: string (nullable = false)\n |-- Supervisor: string (nullable = false)\n |-- Manager: string (nullable = false)\n |-- agent_shift: string (nullable = false)\n |-- csat_score: long (nullable = true)\n |-- Office: string (nullable = false)\n |-- Issue reported time: string (nullable = true)\n |-- Issue responded time: string (nullable = true)\n\n"
     ]
    }
   ],
   "source": [
    "Split_df.printSchema()"
   ]
  },
  {
   "cell_type": "code",
   "execution_count": 0,
   "metadata": {
    "application/vnd.databricks.v1+cell": {
     "cellMetadata": {
      "byteLimit": 2048000,
      "rowLimit": 10000
     },
     "inputWidgets": {},
     "nuid": "c1e83375-fbae-478b-be50-8f5cb835e85c",
     "showTitle": false,
     "tableResultSettingsMap": {},
     "title": ""
    }
   },
   "outputs": [
    {
     "output_type": "display_data",
     "data": {
      "text/html": [
       "<style scoped>\n",
       "  .table-result-container {\n",
       "    max-height: 300px;\n",
       "    overflow: auto;\n",
       "  }\n",
       "  table, th, td {\n",
       "    border: 1px solid black;\n",
       "    border-collapse: collapse;\n",
       "  }\n",
       "  th, td {\n",
       "    padding: 5px;\n",
       "  }\n",
       "  th {\n",
       "    text-align: left;\n",
       "  }\n",
       "</style><div class='table-result-container'><table class='table-result'><thead style='background-color: white'><tr><th>channel_name</th><th>category</th><th>sub_category</th><th>Order_id</th><th>order_date_time</th><th>Issue_reported at</th><th>issue_responded</th><th>Survey_response_Date</th><th>Customer_City</th><th>Product_category</th><th>Agent_name</th><th>Supervisor</th><th>Manager</th><th>agent_shift</th><th>csat_score</th><th>Office</th><th>Issue_reported_time</th><th>Issue_responded_time</th><th>Issue_response_time_in_minutes</th></tr></thead><tbody><tr><td>Outcall</td><td>Product Queries</td><td>Life Insurance</td><td>c27c9bb4-fa36-4140-9f1f-21009254ffdb</td><td>null</td><td>01/08/2023 11:13</td><td>01/08/2023 11:47</td><td>2025-06-01</td><td>unknown</td><td>unknown</td><td>Richard Buchanan</td><td>Mason Gupta</td><td>Jennifer Nguyen</td><td>Morning</td><td>5</td><td>India</td><td>11:13</td><td>11:47</td><td>34.0</td></tr><tr><td>Outcall</td><td>Product Queries</td><td>Product Specific Information</td><td>d406b0c7-ce17-4654-b9de-f08d421254bd</td><td>null</td><td>01/08/2023 12:52</td><td>01/08/2023 12:54</td><td>2025-06-02</td><td>unknown</td><td>unknown</td><td>Vicki Collins</td><td>Dylan Kim</td><td>Michael Lee</td><td>Morning</td><td>5</td><td>India</td><td>12:52</td><td>12:54</td><td>2.0</td></tr><tr><td>Inbound</td><td>Order Related</td><td>Installation/demo</td><td>c273368d-b961-44cb-beaf-62d6fd6c00d5</td><td>null</td><td>01/08/2023 20:16</td><td>01/08/2023 20:38</td><td>2025-06-03</td><td>unknown</td><td>unknown</td><td>Duane Norman</td><td>Jackson Park</td><td>William Kim</td><td>Evening</td><td>5</td><td>India</td><td>20:16</td><td>20:38</td><td>22.0</td></tr><tr><td>Inbound</td><td>Returns</td><td>Reverse Pickup Enquiry</td><td>5aed0059-55a4-4ec6-bb54-97942092020a</td><td>null</td><td>01/08/2023 20:56</td><td>01/08/2023 21:16</td><td>2025-06-04</td><td>unknown</td><td>unknown</td><td>Patrick Flores</td><td>Olivia Wang</td><td>John Smith</td><td>Evening</td><td>5</td><td>India</td><td>20:56</td><td>21:16</td><td>20.0</td></tr><tr><td>Inbound</td><td>Cancellation</td><td>Not Needed</td><td>e8bed5a9-6933-4aff-9dc6-ccefd7dcde59</td><td>null</td><td>01/08/2023 10:30</td><td>01/08/2023 10:32</td><td>2025-06-05</td><td>unknown</td><td>unknown</td><td>Christopher Sanchez</td><td>Austin Johnson</td><td>Michael Lee</td><td>Morning</td><td>5</td><td>India</td><td>10:30</td><td>10:32</td><td>2.0</td></tr><tr><td>Email</td><td>Returns</td><td>Fraudulent User</td><td>a2938961-2833-45f1-83d6-678d9555c603</td><td>null</td><td>01/08/2023 15:13</td><td>01/08/2023 18:39</td><td>2025-06-06</td><td>unknown</td><td>unknown</td><td>Desiree Newton</td><td>Emma Park</td><td>John Smith</td><td>Morning</td><td>5</td><td>India</td><td>15:13</td><td>18:39</td><td>206.0</td></tr><tr><td>Outcall</td><td>Product Queries</td><td>Product Specific Information</td><td>bfcb562b-9a2f-4cca-aa79-fd4e2952f901</td><td>null</td><td>01/08/2023 15:31</td><td>01/08/2023 23:52</td><td>2025-06-07</td><td>unknown</td><td>unknown</td><td>Shannon Hicks</td><td>Aiden Patel</td><td>Olivia Tan</td><td>Morning</td><td>5</td><td>India</td><td>15:31</td><td>23:52</td><td>501.0</td></tr><tr><td>Inbound</td><td>Returns</td><td>Exchange / Replacement</td><td>88537e0b-5ffa-43f9-bbe2-fe57a0f4e4ae</td><td>null</td><td>01/08/2023 16:17</td><td>01/08/2023 16:23</td><td>2025-06-07</td><td>unknown</td><td>unknown</td><td>Laura Smith</td><td>Evelyn Kimura</td><td>Jennifer Nguyen</td><td>Evening</td><td>5</td><td>India</td><td>16:17</td><td>16:23</td><td>6.0</td></tr><tr><td>Inbound</td><td>Returns</td><td>Missing</td><td>e6be9713-13c3-493c-8a91-2137cbbfa7e6</td><td>null</td><td>01/08/2023 21:03</td><td>01/08/2023 21:07</td><td>2025-06-09</td><td>unknown</td><td>unknown</td><td>David Smith</td><td>Nathan Patel</td><td>John Smith</td><td>Split</td><td>5</td><td>India</td><td>21:03</td><td>21:07</td><td>4.0</td></tr><tr><td>Inbound</td><td>Shopzilla Related</td><td>General Enquiry</td><td>c7caa804-2525-499e-b202-4c781cb68974</td><td>null</td><td>01/08/2023 23:31</td><td>01/08/2023 23:36</td><td>2025-06-10</td><td>unknown</td><td>unknown</td><td>Tabitha Ayala</td><td>Amelia Tanaka</td><td>Michael Lee</td><td>Evening</td><td>5</td><td>India</td><td>23:31</td><td>23:36</td><td>5.0</td></tr></tbody></table></div>"
      ]
     },
     "metadata": {
      "application/vnd.databricks.v1+output": {
       "addedWidgets": {},
       "aggData": [],
       "aggError": "",
       "aggOverflow": false,
       "aggSchema": [],
       "aggSeriesLimitReached": false,
       "aggType": "",
       "arguments": {},
       "columnCustomDisplayInfos": {},
       "data": [
        [
         "Outcall",
         "Product Queries",
         "Life Insurance",
         "c27c9bb4-fa36-4140-9f1f-21009254ffdb",
         null,
         "01/08/2023 11:13",
         "01/08/2023 11:47",
         "2025-06-01",
         "unknown",
         "unknown",
         "Richard Buchanan",
         "Mason Gupta",
         "Jennifer Nguyen",
         "Morning",
         5,
         "India",
         "11:13",
         "11:47",
         34.0
        ],
        [
         "Outcall",
         "Product Queries",
         "Product Specific Information",
         "d406b0c7-ce17-4654-b9de-f08d421254bd",
         null,
         "01/08/2023 12:52",
         "01/08/2023 12:54",
         "2025-06-02",
         "unknown",
         "unknown",
         "Vicki Collins",
         "Dylan Kim",
         "Michael Lee",
         "Morning",
         5,
         "India",
         "12:52",
         "12:54",
         2.0
        ],
        [
         "Inbound",
         "Order Related",
         "Installation/demo",
         "c273368d-b961-44cb-beaf-62d6fd6c00d5",
         null,
         "01/08/2023 20:16",
         "01/08/2023 20:38",
         "2025-06-03",
         "unknown",
         "unknown",
         "Duane Norman",
         "Jackson Park",
         "William Kim",
         "Evening",
         5,
         "India",
         "20:16",
         "20:38",
         22.0
        ],
        [
         "Inbound",
         "Returns",
         "Reverse Pickup Enquiry",
         "5aed0059-55a4-4ec6-bb54-97942092020a",
         null,
         "01/08/2023 20:56",
         "01/08/2023 21:16",
         "2025-06-04",
         "unknown",
         "unknown",
         "Patrick Flores",
         "Olivia Wang",
         "John Smith",
         "Evening",
         5,
         "India",
         "20:56",
         "21:16",
         20.0
        ],
        [
         "Inbound",
         "Cancellation",
         "Not Needed",
         "e8bed5a9-6933-4aff-9dc6-ccefd7dcde59",
         null,
         "01/08/2023 10:30",
         "01/08/2023 10:32",
         "2025-06-05",
         "unknown",
         "unknown",
         "Christopher Sanchez",
         "Austin Johnson",
         "Michael Lee",
         "Morning",
         5,
         "India",
         "10:30",
         "10:32",
         2.0
        ],
        [
         "Email",
         "Returns",
         "Fraudulent User",
         "a2938961-2833-45f1-83d6-678d9555c603",
         null,
         "01/08/2023 15:13",
         "01/08/2023 18:39",
         "2025-06-06",
         "unknown",
         "unknown",
         "Desiree Newton",
         "Emma Park",
         "John Smith",
         "Morning",
         5,
         "India",
         "15:13",
         "18:39",
         206.0
        ],
        [
         "Outcall",
         "Product Queries",
         "Product Specific Information",
         "bfcb562b-9a2f-4cca-aa79-fd4e2952f901",
         null,
         "01/08/2023 15:31",
         "01/08/2023 23:52",
         "2025-06-07",
         "unknown",
         "unknown",
         "Shannon Hicks",
         "Aiden Patel",
         "Olivia Tan",
         "Morning",
         5,
         "India",
         "15:31",
         "23:52",
         501.0
        ],
        [
         "Inbound",
         "Returns",
         "Exchange / Replacement",
         "88537e0b-5ffa-43f9-bbe2-fe57a0f4e4ae",
         null,
         "01/08/2023 16:17",
         "01/08/2023 16:23",
         "2025-06-07",
         "unknown",
         "unknown",
         "Laura Smith",
         "Evelyn Kimura",
         "Jennifer Nguyen",
         "Evening",
         5,
         "India",
         "16:17",
         "16:23",
         6.0
        ],
        [
         "Inbound",
         "Returns",
         "Missing",
         "e6be9713-13c3-493c-8a91-2137cbbfa7e6",
         null,
         "01/08/2023 21:03",
         "01/08/2023 21:07",
         "2025-06-09",
         "unknown",
         "unknown",
         "David Smith",
         "Nathan Patel",
         "John Smith",
         "Split",
         5,
         "India",
         "21:03",
         "21:07",
         4.0
        ],
        [
         "Inbound",
         "Shopzilla Related",
         "General Enquiry",
         "c7caa804-2525-499e-b202-4c781cb68974",
         null,
         "01/08/2023 23:31",
         "01/08/2023 23:36",
         "2025-06-10",
         "unknown",
         "unknown",
         "Tabitha Ayala",
         "Amelia Tanaka",
         "Michael Lee",
         "Evening",
         5,
         "India",
         "23:31",
         "23:36",
         5.0
        ]
       ],
       "datasetInfos": [],
       "dbfsResultPath": null,
       "isJsonSchema": true,
       "metadata": {},
       "overflow": false,
       "plotOptions": {
        "customPlotOptions": {},
        "displayType": "table",
        "pivotAggregation": null,
        "pivotColumns": null,
        "xColumns": null,
        "yColumns": null
       },
       "removedWidgets": [],
       "schema": [
        {
         "metadata": "{}",
         "name": "channel_name",
         "type": "\"string\""
        },
        {
         "metadata": "{}",
         "name": "category",
         "type": "\"string\""
        },
        {
         "metadata": "{}",
         "name": "sub_category",
         "type": "\"string\""
        },
        {
         "metadata": "{}",
         "name": "Order_id",
         "type": "\"string\""
        },
        {
         "metadata": "{}",
         "name": "order_date_time",
         "type": "\"string\""
        },
        {
         "metadata": "{}",
         "name": "Issue_reported at",
         "type": "\"string\""
        },
        {
         "metadata": "{}",
         "name": "issue_responded",
         "type": "\"string\""
        },
        {
         "metadata": "{}",
         "name": "Survey_response_Date",
         "type": "\"date\""
        },
        {
         "metadata": "{}",
         "name": "Customer_City",
         "type": "\"string\""
        },
        {
         "metadata": "{}",
         "name": "Product_category",
         "type": "\"string\""
        },
        {
         "metadata": "{}",
         "name": "Agent_name",
         "type": "\"string\""
        },
        {
         "metadata": "{}",
         "name": "Supervisor",
         "type": "\"string\""
        },
        {
         "metadata": "{}",
         "name": "Manager",
         "type": "\"string\""
        },
        {
         "metadata": "{}",
         "name": "agent_shift",
         "type": "\"string\""
        },
        {
         "metadata": "{}",
         "name": "csat_score",
         "type": "\"long\""
        },
        {
         "metadata": "{}",
         "name": "Office",
         "type": "\"string\""
        },
        {
         "metadata": "{}",
         "name": "Issue_reported_time",
         "type": "\"string\""
        },
        {
         "metadata": "{}",
         "name": "Issue_responded_time",
         "type": "\"string\""
        },
        {
         "metadata": "{}",
         "name": "Issue_response_time_in_minutes",
         "type": "\"double\""
        }
       ],
       "type": "table"
      }
     },
     "output_type": "display_data"
    }
   ],
   "source": [
    "df_casted = Split_df.withColumn(\"Issue_response_time_in_minutes\", (col(\"issue_responded_time\").cast(\"timestamp\") - col(\"Issue_reported_time\").cast(\"timestamp\")).cast(\"long\")/ 60)\n",
    "\n",
    "df_casted = df_casted.withColumn(\"Survey_response_Date\", to_date(col(\"survey_response_Date\"), \"dd-MMM-yy\"))\n",
    "\n",
    "display(df_casted.limit(10))\n"
   ]
  },
  {
   "cell_type": "markdown",
   "metadata": {
    "application/vnd.databricks.v1+cell": {
     "cellMetadata": {},
     "inputWidgets": {},
     "nuid": "32981d4c-4901-4051-8462-252b93a38424",
     "showTitle": false,
     "tableResultSettingsMap": {},
     "title": ""
    }
   },
   "source": [
    "**Remove columns**"
   ]
  },
  {
   "cell_type": "code",
   "execution_count": 0,
   "metadata": {
    "application/vnd.databricks.v1+cell": {
     "cellMetadata": {
      "byteLimit": 2048000,
      "rowLimit": 10000
     },
     "inputWidgets": {},
     "nuid": "14fb9356-8102-4c0a-a45e-1e82e860ca10",
     "showTitle": false,
     "tableResultSettingsMap": {},
     "title": ""
    }
   },
   "outputs": [
    {
     "output_type": "display_data",
     "data": {
      "text/html": [
       "<style scoped>\n",
       "  .table-result-container {\n",
       "    max-height: 300px;\n",
       "    overflow: auto;\n",
       "  }\n",
       "  table, th, td {\n",
       "    border: 1px solid black;\n",
       "    border-collapse: collapse;\n",
       "  }\n",
       "  th, td {\n",
       "    padding: 5px;\n",
       "  }\n",
       "  th {\n",
       "    text-align: left;\n",
       "  }\n",
       "</style><div class='table-result-container'><table class='table-result'><thead style='background-color: white'><tr><th>channel_name</th><th>category</th><th>sub_category</th><th>Order_id</th><th>Survey_response_Date</th><th>Customer_City</th><th>Product_category</th><th>Agent_name</th><th>Supervisor</th><th>Manager</th><th>agent_shift</th><th>csat_score</th><th>Office</th><th>Issue_response_time_in_minutes</th></tr></thead><tbody><tr><td>Outcall</td><td>Product Queries</td><td>Life Insurance</td><td>c27c9bb4-fa36-4140-9f1f-21009254ffdb</td><td>2025-06-01</td><td>unknown</td><td>unknown</td><td>Richard Buchanan</td><td>Mason Gupta</td><td>Jennifer Nguyen</td><td>Morning</td><td>5</td><td>India</td><td>34.0</td></tr><tr><td>Outcall</td><td>Product Queries</td><td>Product Specific Information</td><td>d406b0c7-ce17-4654-b9de-f08d421254bd</td><td>2025-06-02</td><td>unknown</td><td>unknown</td><td>Vicki Collins</td><td>Dylan Kim</td><td>Michael Lee</td><td>Morning</td><td>5</td><td>India</td><td>2.0</td></tr><tr><td>Inbound</td><td>Order Related</td><td>Installation/demo</td><td>c273368d-b961-44cb-beaf-62d6fd6c00d5</td><td>2025-06-03</td><td>unknown</td><td>unknown</td><td>Duane Norman</td><td>Jackson Park</td><td>William Kim</td><td>Evening</td><td>5</td><td>India</td><td>22.0</td></tr><tr><td>Inbound</td><td>Returns</td><td>Reverse Pickup Enquiry</td><td>5aed0059-55a4-4ec6-bb54-97942092020a</td><td>2025-06-04</td><td>unknown</td><td>unknown</td><td>Patrick Flores</td><td>Olivia Wang</td><td>John Smith</td><td>Evening</td><td>5</td><td>India</td><td>20.0</td></tr><tr><td>Inbound</td><td>Cancellation</td><td>Not Needed</td><td>e8bed5a9-6933-4aff-9dc6-ccefd7dcde59</td><td>2025-06-05</td><td>unknown</td><td>unknown</td><td>Christopher Sanchez</td><td>Austin Johnson</td><td>Michael Lee</td><td>Morning</td><td>5</td><td>India</td><td>2.0</td></tr><tr><td>Email</td><td>Returns</td><td>Fraudulent User</td><td>a2938961-2833-45f1-83d6-678d9555c603</td><td>2025-06-06</td><td>unknown</td><td>unknown</td><td>Desiree Newton</td><td>Emma Park</td><td>John Smith</td><td>Morning</td><td>5</td><td>India</td><td>206.0</td></tr><tr><td>Outcall</td><td>Product Queries</td><td>Product Specific Information</td><td>bfcb562b-9a2f-4cca-aa79-fd4e2952f901</td><td>2025-06-07</td><td>unknown</td><td>unknown</td><td>Shannon Hicks</td><td>Aiden Patel</td><td>Olivia Tan</td><td>Morning</td><td>5</td><td>India</td><td>501.0</td></tr><tr><td>Inbound</td><td>Returns</td><td>Exchange / Replacement</td><td>88537e0b-5ffa-43f9-bbe2-fe57a0f4e4ae</td><td>2025-06-07</td><td>unknown</td><td>unknown</td><td>Laura Smith</td><td>Evelyn Kimura</td><td>Jennifer Nguyen</td><td>Evening</td><td>5</td><td>India</td><td>6.0</td></tr><tr><td>Inbound</td><td>Returns</td><td>Missing</td><td>e6be9713-13c3-493c-8a91-2137cbbfa7e6</td><td>2025-06-09</td><td>unknown</td><td>unknown</td><td>David Smith</td><td>Nathan Patel</td><td>John Smith</td><td>Split</td><td>5</td><td>India</td><td>4.0</td></tr><tr><td>Inbound</td><td>Shopzilla Related</td><td>General Enquiry</td><td>c7caa804-2525-499e-b202-4c781cb68974</td><td>2025-06-10</td><td>unknown</td><td>unknown</td><td>Tabitha Ayala</td><td>Amelia Tanaka</td><td>Michael Lee</td><td>Evening</td><td>5</td><td>India</td><td>5.0</td></tr></tbody></table></div>"
      ]
     },
     "metadata": {
      "application/vnd.databricks.v1+output": {
       "addedWidgets": {},
       "aggData": [],
       "aggError": "",
       "aggOverflow": false,
       "aggSchema": [],
       "aggSeriesLimitReached": false,
       "aggType": "",
       "arguments": {},
       "columnCustomDisplayInfos": {},
       "data": [
        [
         "Outcall",
         "Product Queries",
         "Life Insurance",
         "c27c9bb4-fa36-4140-9f1f-21009254ffdb",
         "2025-06-01",
         "unknown",
         "unknown",
         "Richard Buchanan",
         "Mason Gupta",
         "Jennifer Nguyen",
         "Morning",
         5,
         "India",
         34.0
        ],
        [
         "Outcall",
         "Product Queries",
         "Product Specific Information",
         "d406b0c7-ce17-4654-b9de-f08d421254bd",
         "2025-06-02",
         "unknown",
         "unknown",
         "Vicki Collins",
         "Dylan Kim",
         "Michael Lee",
         "Morning",
         5,
         "India",
         2.0
        ],
        [
         "Inbound",
         "Order Related",
         "Installation/demo",
         "c273368d-b961-44cb-beaf-62d6fd6c00d5",
         "2025-06-03",
         "unknown",
         "unknown",
         "Duane Norman",
         "Jackson Park",
         "William Kim",
         "Evening",
         5,
         "India",
         22.0
        ],
        [
         "Inbound",
         "Returns",
         "Reverse Pickup Enquiry",
         "5aed0059-55a4-4ec6-bb54-97942092020a",
         "2025-06-04",
         "unknown",
         "unknown",
         "Patrick Flores",
         "Olivia Wang",
         "John Smith",
         "Evening",
         5,
         "India",
         20.0
        ],
        [
         "Inbound",
         "Cancellation",
         "Not Needed",
         "e8bed5a9-6933-4aff-9dc6-ccefd7dcde59",
         "2025-06-05",
         "unknown",
         "unknown",
         "Christopher Sanchez",
         "Austin Johnson",
         "Michael Lee",
         "Morning",
         5,
         "India",
         2.0
        ],
        [
         "Email",
         "Returns",
         "Fraudulent User",
         "a2938961-2833-45f1-83d6-678d9555c603",
         "2025-06-06",
         "unknown",
         "unknown",
         "Desiree Newton",
         "Emma Park",
         "John Smith",
         "Morning",
         5,
         "India",
         206.0
        ],
        [
         "Outcall",
         "Product Queries",
         "Product Specific Information",
         "bfcb562b-9a2f-4cca-aa79-fd4e2952f901",
         "2025-06-07",
         "unknown",
         "unknown",
         "Shannon Hicks",
         "Aiden Patel",
         "Olivia Tan",
         "Morning",
         5,
         "India",
         501.0
        ],
        [
         "Inbound",
         "Returns",
         "Exchange / Replacement",
         "88537e0b-5ffa-43f9-bbe2-fe57a0f4e4ae",
         "2025-06-07",
         "unknown",
         "unknown",
         "Laura Smith",
         "Evelyn Kimura",
         "Jennifer Nguyen",
         "Evening",
         5,
         "India",
         6.0
        ],
        [
         "Inbound",
         "Returns",
         "Missing",
         "e6be9713-13c3-493c-8a91-2137cbbfa7e6",
         "2025-06-09",
         "unknown",
         "unknown",
         "David Smith",
         "Nathan Patel",
         "John Smith",
         "Split",
         5,
         "India",
         4.0
        ],
        [
         "Inbound",
         "Shopzilla Related",
         "General Enquiry",
         "c7caa804-2525-499e-b202-4c781cb68974",
         "2025-06-10",
         "unknown",
         "unknown",
         "Tabitha Ayala",
         "Amelia Tanaka",
         "Michael Lee",
         "Evening",
         5,
         "India",
         5.0
        ]
       ],
       "datasetInfos": [],
       "dbfsResultPath": null,
       "isJsonSchema": true,
       "metadata": {},
       "overflow": false,
       "plotOptions": {
        "customPlotOptions": {},
        "displayType": "table",
        "pivotAggregation": null,
        "pivotColumns": null,
        "xColumns": null,
        "yColumns": null
       },
       "removedWidgets": [],
       "schema": [
        {
         "metadata": "{}",
         "name": "channel_name",
         "type": "\"string\""
        },
        {
         "metadata": "{}",
         "name": "category",
         "type": "\"string\""
        },
        {
         "metadata": "{}",
         "name": "sub_category",
         "type": "\"string\""
        },
        {
         "metadata": "{}",
         "name": "Order_id",
         "type": "\"string\""
        },
        {
         "metadata": "{}",
         "name": "Survey_response_Date",
         "type": "\"date\""
        },
        {
         "metadata": "{}",
         "name": "Customer_City",
         "type": "\"string\""
        },
        {
         "metadata": "{}",
         "name": "Product_category",
         "type": "\"string\""
        },
        {
         "metadata": "{}",
         "name": "Agent_name",
         "type": "\"string\""
        },
        {
         "metadata": "{}",
         "name": "Supervisor",
         "type": "\"string\""
        },
        {
         "metadata": "{}",
         "name": "Manager",
         "type": "\"string\""
        },
        {
         "metadata": "{}",
         "name": "agent_shift",
         "type": "\"string\""
        },
        {
         "metadata": "{}",
         "name": "csat_score",
         "type": "\"long\""
        },
        {
         "metadata": "{}",
         "name": "Office",
         "type": "\"string\""
        },
        {
         "metadata": "{}",
         "name": "Issue_response_time_in_minutes",
         "type": "\"double\""
        }
       ],
       "type": "table"
      }
     },
     "output_type": "display_data"
    }
   ],
   "source": [
    "df_dropped = df_casted.drop(\"order_date_time\",\"Issue_reported at\",\"issue_responded\", \"Issue_reported_time\",\"Issue_responded_time\")\n",
    "\n",
    "display(df_dropped.limit(10))\n"
   ]
  },
  {
   "cell_type": "markdown",
   "metadata": {
    "application/vnd.databricks.v1+cell": {
     "cellMetadata": {},
     "inputWidgets": {},
     "nuid": "ee3d4c90-c692-4efc-83b6-a0c7676a5a1b",
     "showTitle": false,
     "tableResultSettingsMap": {},
     "title": ""
    }
   },
   "source": [
    "**Remove duplicate rows** To de-duplicate rows, use distinct, which returns only the unique rows."
   ]
  },
  {
   "cell_type": "code",
   "execution_count": 0,
   "metadata": {
    "application/vnd.databricks.v1+cell": {
     "cellMetadata": {
      "byteLimit": 2048000,
      "rowLimit": 10000
     },
     "inputWidgets": {},
     "nuid": "b14bd4a7-a9c1-43e3-874c-879b05a830b0",
     "showTitle": false,
     "tableResultSettingsMap": {},
     "title": ""
    }
   },
   "outputs": [
    {
     "output_type": "execute_result",
     "data": {
      "text/plain": [
       "85931"
      ]
     },
     "execution_count": 175,
     "metadata": {},
     "output_type": "execute_result"
    }
   ],
   "source": [
    "df_dropped.count()\n"
   ]
  },
  {
   "cell_type": "code",
   "execution_count": 0,
   "metadata": {
    "application/vnd.databricks.v1+cell": {
     "cellMetadata": {
      "byteLimit": 2048000,
      "rowLimit": 10000
     },
     "inputWidgets": {},
     "nuid": "c64ead69-7985-46a1-b53f-ac7aec63e196",
     "showTitle": false,
     "tableResultSettingsMap": {},
     "title": ""
    }
   },
   "outputs": [
    {
     "output_type": "execute_result",
     "data": {
      "text/plain": [
       "85767"
      ]
     },
     "execution_count": 201,
     "metadata": {},
     "output_type": "execute_result"
    }
   ],
   "source": [
    "df_unique = df_dropped.distinct()\n",
    "df_unique.count()"
   ]
  },
  {
   "cell_type": "markdown",
   "metadata": {
    "application/vnd.databricks.v1+cell": {
     "cellMetadata": {},
     "inputWidgets": {},
     "nuid": "36ef007a-95f9-424b-91ff-b6e3f9202c19",
     "showTitle": false,
     "tableResultSettingsMap": {},
     "title": ""
    }
   },
   "source": [
    "**Filtering Data**"
   ]
  },
  {
   "cell_type": "code",
   "execution_count": 0,
   "metadata": {
    "application/vnd.databricks.v1+cell": {
     "cellMetadata": {
      "byteLimit": 2048000,
      "rowLimit": 10000
     },
     "inputWidgets": {},
     "nuid": "750ec8b8-34dc-46aa-b2d0-b0f4b7df2be7",
     "showTitle": false,
     "tableResultSettingsMap": {},
     "title": ""
    }
   },
   "outputs": [
    {
     "output_type": "display_data",
     "data": {
      "text/html": [
       "<style scoped>\n",
       "  .table-result-container {\n",
       "    max-height: 300px;\n",
       "    overflow: auto;\n",
       "  }\n",
       "  table, th, td {\n",
       "    border: 1px solid black;\n",
       "    border-collapse: collapse;\n",
       "  }\n",
       "  th, td {\n",
       "    padding: 5px;\n",
       "  }\n",
       "  th {\n",
       "    text-align: left;\n",
       "  }\n",
       "</style><div class='table-result-container'><table class='table-result'><thead style='background-color: white'><tr><th>channel_name</th><th>category</th><th>sub_category</th><th>Order_id</th><th>Survey_response_Date</th><th>Customer_City</th><th>Product_category</th><th>Agent_name</th><th>Supervisor</th><th>Manager</th><th>agent_shift</th><th>csat_score</th><th>Office</th><th>Issue_response_time_in_minutes</th></tr></thead><tbody><tr><td>Inbound</td><td>Returns</td><td>Reverse Pickup Enquiry</td><td>8a04b086-7b38-44b6-a0fc-1c3243fe9993</td><td>2025-07-02</td><td>FARIDABAD</td><td>unknown</td><td>Dana Bridges</td><td>Mason Gupta</td><td>Jennifer Nguyen</td><td>Morning</td><td>4</td><td>India</td><td>284.0</td></tr><tr><td>Outcall</td><td>Returns</td><td>Reverse Pickup Enquiry</td><td>d99b00a1-24c6-4173-ab90-2fe0e0d5302f</td><td>2025-07-02</td><td>FARIDABAD</td><td>unknown</td><td>Rhonda Martin DVM</td><td>Wyatt Kim</td><td>Jennifer Nguyen</td><td>Morning</td><td>1</td><td>India</td><td>236.0</td></tr><tr><td>Inbound</td><td>Order Related</td><td>Unable to track</td><td>93992718-b762-4073-978a-c79ee02b561f</td><td>2025-07-02</td><td>FARIDABAD</td><td>unknown</td><td>Ashley Hamilton</td><td>Jackson Park</td><td>William Kim</td><td>Evening</td><td>1</td><td>India</td><td>52.0</td></tr><tr><td>Outcall</td><td>Order Related</td><td>Installation/demo</td><td>5185b97f-7cfd-4dda-ba45-9697a1483f40</td><td>2025-07-02</td><td>FARIDABAD</td><td>unknown</td><td>Kevin Griffin</td><td>Evelyn Kimura</td><td>John Smith</td><td>Morning</td><td>5</td><td>India</td><td>4.0</td></tr><tr><td>Inbound</td><td>Order Related</td><td>Seller Cancelled Order</td><td>29085dc4-1691-40d8-b2a4-4c6460197b55</td><td>2025-07-02</td><td>KANYAKUMARI</td><td>unknown</td><td>Tina Carroll</td><td>Layla Taniguchi</td><td>Emily Chen</td><td>Morning</td><td>5</td><td>India</td><td>6.0</td></tr><tr><td>Outcall</td><td>Returns</td><td>Exchange / Replacement</td><td>bc7a4a0a-700f-4158-b93e-ef508082f026</td><td>2025-07-02</td><td>FARIDABAD</td><td>unknown</td><td>Carmen Snow</td><td>Dylan Kim</td><td>Olivia Tan</td><td>Morning</td><td>5</td><td>India</td><td>3.0</td></tr><tr><td>Inbound</td><td>Returns</td><td>Reverse Pickup Enquiry</td><td>79d01ef2-c3bc-460b-8e9c-41ae47a90021</td><td>2025-07-02</td><td>FARIDABAD</td><td>unknown</td><td>Brandon Martin</td><td>Nathan Patel</td><td>John Smith</td><td>Afternoon</td><td>5</td><td>India</td><td>2.0</td></tr><tr><td>Inbound</td><td>Order Related</td><td>Installation/demo</td><td>933d1988-ecb4-491e-843c-740465605d0e</td><td>2025-07-02</td><td>KANYAKUMARI</td><td>unknown</td><td>David Warren</td><td>Elijah Yamaguchi</td><td>Emily Chen</td><td>Morning</td><td>5</td><td>India</td><td>4.0</td></tr><tr><td>Inbound</td><td>Returns</td><td>Reverse Pickup Enquiry</td><td>57df6fba-465e-46a7-8a9d-98df37cf8f13</td><td>2025-07-01</td><td>FARIDABAD</td><td>unknown</td><td>Matthew Bennett</td><td>Olivia Wang</td><td>John Smith</td><td>Evening</td><td>5</td><td>India</td><td>1.0</td></tr><tr><td>Inbound</td><td>Order Related</td><td>Order status enquiry</td><td>532a17a9-b82d-44e1-863c-a7a61cbae523</td><td>2025-07-02</td><td>KANYAKUMARI</td><td>Furniture</td><td>Charles Williamson</td><td>Logan Lee</td><td>Emily Chen</td><td>Evening</td><td>3</td><td>India</td><td>11.0</td></tr></tbody></table></div>"
      ]
     },
     "metadata": {
      "application/vnd.databricks.v1+output": {
       "addedWidgets": {},
       "aggData": [],
       "aggError": "",
       "aggOverflow": false,
       "aggSchema": [],
       "aggSeriesLimitReached": false,
       "aggType": "",
       "arguments": {},
       "columnCustomDisplayInfos": {},
       "data": [
        [
         "Inbound",
         "Returns",
         "Reverse Pickup Enquiry",
         "8a04b086-7b38-44b6-a0fc-1c3243fe9993",
         "2025-07-02",
         "FARIDABAD",
         "unknown",
         "Dana Bridges",
         "Mason Gupta",
         "Jennifer Nguyen",
         "Morning",
         4,
         "India",
         284.0
        ],
        [
         "Outcall",
         "Returns",
         "Reverse Pickup Enquiry",
         "d99b00a1-24c6-4173-ab90-2fe0e0d5302f",
         "2025-07-02",
         "FARIDABAD",
         "unknown",
         "Rhonda Martin DVM",
         "Wyatt Kim",
         "Jennifer Nguyen",
         "Morning",
         1,
         "India",
         236.0
        ],
        [
         "Inbound",
         "Order Related",
         "Unable to track",
         "93992718-b762-4073-978a-c79ee02b561f",
         "2025-07-02",
         "FARIDABAD",
         "unknown",
         "Ashley Hamilton",
         "Jackson Park",
         "William Kim",
         "Evening",
         1,
         "India",
         52.0
        ],
        [
         "Outcall",
         "Order Related",
         "Installation/demo",
         "5185b97f-7cfd-4dda-ba45-9697a1483f40",
         "2025-07-02",
         "FARIDABAD",
         "unknown",
         "Kevin Griffin",
         "Evelyn Kimura",
         "John Smith",
         "Morning",
         5,
         "India",
         4.0
        ],
        [
         "Inbound",
         "Order Related",
         "Seller Cancelled Order",
         "29085dc4-1691-40d8-b2a4-4c6460197b55",
         "2025-07-02",
         "KANYAKUMARI",
         "unknown",
         "Tina Carroll",
         "Layla Taniguchi",
         "Emily Chen",
         "Morning",
         5,
         "India",
         6.0
        ],
        [
         "Outcall",
         "Returns",
         "Exchange / Replacement",
         "bc7a4a0a-700f-4158-b93e-ef508082f026",
         "2025-07-02",
         "FARIDABAD",
         "unknown",
         "Carmen Snow",
         "Dylan Kim",
         "Olivia Tan",
         "Morning",
         5,
         "India",
         3.0
        ],
        [
         "Inbound",
         "Returns",
         "Reverse Pickup Enquiry",
         "79d01ef2-c3bc-460b-8e9c-41ae47a90021",
         "2025-07-02",
         "FARIDABAD",
         "unknown",
         "Brandon Martin",
         "Nathan Patel",
         "John Smith",
         "Afternoon",
         5,
         "India",
         2.0
        ],
        [
         "Inbound",
         "Order Related",
         "Installation/demo",
         "933d1988-ecb4-491e-843c-740465605d0e",
         "2025-07-02",
         "KANYAKUMARI",
         "unknown",
         "David Warren",
         "Elijah Yamaguchi",
         "Emily Chen",
         "Morning",
         5,
         "India",
         4.0
        ],
        [
         "Inbound",
         "Returns",
         "Reverse Pickup Enquiry",
         "57df6fba-465e-46a7-8a9d-98df37cf8f13",
         "2025-07-01",
         "FARIDABAD",
         "unknown",
         "Matthew Bennett",
         "Olivia Wang",
         "John Smith",
         "Evening",
         5,
         "India",
         1.0
        ],
        [
         "Inbound",
         "Order Related",
         "Order status enquiry",
         "532a17a9-b82d-44e1-863c-a7a61cbae523",
         "2025-07-02",
         "KANYAKUMARI",
         "Furniture",
         "Charles Williamson",
         "Logan Lee",
         "Emily Chen",
         "Evening",
         3,
         "India",
         11.0
        ]
       ],
       "datasetInfos": [],
       "dbfsResultPath": null,
       "isJsonSchema": true,
       "metadata": {},
       "overflow": false,
       "plotOptions": {
        "customPlotOptions": {},
        "displayType": "table",
        "pivotAggregation": null,
        "pivotColumns": null,
        "xColumns": null,
        "yColumns": null
       },
       "removedWidgets": [],
       "schema": [
        {
         "metadata": "{}",
         "name": "channel_name",
         "type": "\"string\""
        },
        {
         "metadata": "{}",
         "name": "category",
         "type": "\"string\""
        },
        {
         "metadata": "{}",
         "name": "sub_category",
         "type": "\"string\""
        },
        {
         "metadata": "{}",
         "name": "Order_id",
         "type": "\"string\""
        },
        {
         "metadata": "{}",
         "name": "Survey_response_Date",
         "type": "\"date\""
        },
        {
         "metadata": "{}",
         "name": "Customer_City",
         "type": "\"string\""
        },
        {
         "metadata": "{}",
         "name": "Product_category",
         "type": "\"string\""
        },
        {
         "metadata": "{}",
         "name": "Agent_name",
         "type": "\"string\""
        },
        {
         "metadata": "{}",
         "name": "Supervisor",
         "type": "\"string\""
        },
        {
         "metadata": "{}",
         "name": "Manager",
         "type": "\"string\""
        },
        {
         "metadata": "{}",
         "name": "agent_shift",
         "type": "\"string\""
        },
        {
         "metadata": "{}",
         "name": "csat_score",
         "type": "\"long\""
        },
        {
         "metadata": "{}",
         "name": "Office",
         "type": "\"string\""
        },
        {
         "metadata": "{}",
         "name": "Issue_response_time_in_minutes",
         "type": "\"double\""
        }
       ],
       "type": "table"
      }
     },
     "output_type": "display_data"
    },
    {
     "output_type": "execute_result",
     "data": {
      "text/plain": [
       "73971"
      ]
     },
     "execution_count": 253,
     "metadata": {},
     "output_type": "execute_result"
    }
   ],
   "source": [
    "filtered_df = df_unique.filter((col('Survey_response_Date') >= '2025-07-01') & (col('Survey_response_Date') <= '2025-07-31'))\n",
    "\n",
    "filtered_df = filtered_df.filter(col('Issue_response_time_in_minutes') > 0)\n",
    "\n",
    "display(filtered_df.limit(10))\n",
    "filtered_df.count()\n",
    "\n"
   ]
  },
  {
   "cell_type": "markdown",
   "metadata": {
    "application/vnd.databricks.v1+cell": {
     "cellMetadata": {},
     "inputWidgets": {},
     "nuid": "0a07d883-9692-46fa-a335-1ad0c0ecec90",
     "showTitle": false,
     "tableResultSettingsMap": {},
     "title": ""
    }
   },
   "source": [
    "**Join Dataframe**"
   ]
  },
  {
   "cell_type": "code",
   "execution_count": 0,
   "metadata": {
    "application/vnd.databricks.v1+cell": {
     "cellMetadata": {
      "byteLimit": 2048000,
      "rowLimit": 10000
     },
     "inputWidgets": {},
     "nuid": "8cf72809-2335-48d6-82e1-7496bc1ed4b9",
     "showTitle": false,
     "tableResultSettingsMap": {},
     "title": ""
    }
   },
   "outputs": [
    {
     "output_type": "display_data",
     "data": {
      "text/html": [
       "<style scoped>\n",
       "  .table-result-container {\n",
       "    max-height: 300px;\n",
       "    overflow: auto;\n",
       "  }\n",
       "  table, th, td {\n",
       "    border: 1px solid black;\n",
       "    border-collapse: collapse;\n",
       "  }\n",
       "  th, td {\n",
       "    padding: 5px;\n",
       "  }\n",
       "  th {\n",
       "    text-align: left;\n",
       "  }\n",
       "</style><div class='table-result-container'><table class='table-result'><thead style='background-color: white'><tr><th>channel_name</th><th>category</th><th>sub_category</th><th>Order_id</th><th>Survey_response_Date</th><th>Customer_City</th><th>Product_category</th><th>Agent_name</th><th>Supervisor</th><th>Manager</th><th>agent_shift</th><th>csat_score</th><th>Office</th><th>Issue_response_time_in_minutes</th><th>Order_id</th><th>Item_price</th></tr></thead><tbody><tr><td>Inbound</td><td>Refund Related</td><td>Refund Enquiry</td><td>12f61133-f5ea-4c5a-8639-5d5a52374b7e</td><td>2025-07-06</td><td>GREATER NOIDA</td><td>LifeStyle</td><td>Joshua Webb</td><td>Brayden Wong</td><td>John Smith</td><td>Evening</td><td>5</td><td>India</td><td>4.0</td><td>12f61133-f5ea-4c5a-8639-5d5a52374b7e</td><td>9228</td></tr><tr><td>Outcall</td><td>Returns</td><td>Reverse Pickup Enquiry</td><td>3baaec90-1436-4185-8915-cb823e404639</td><td>2025-07-06</td><td>unknown</td><td>unknown</td><td>Chad Burns</td><td>Ava Wong</td><td>William Kim</td><td>Evening</td><td>1</td><td>India</td><td>1.0</td><td>3baaec90-1436-4185-8915-cb823e404639</td><td>1260</td></tr><tr><td>Inbound</td><td>Payments related</td><td>Wallet related</td><td>a7e1ac66-689b-4dba-8ebc-901c19b2135d</td><td>2025-07-02</td><td>unknown</td><td>unknown</td><td>Joshua Rodriguez</td><td>Jackson Park</td><td>William Kim</td><td>Evening</td><td>5</td><td>India</td><td>5.0</td><td>a7e1ac66-689b-4dba-8ebc-901c19b2135d</td><td>1422</td></tr><tr><td>Inbound</td><td>Returns</td><td>Missing</td><td>26195b3f-24ba-4c66-8ea8-6ee2d084f52b</td><td>2025-07-06</td><td>unknown</td><td>unknown</td><td>Kimberly Carter</td><td>Scarlett Chen</td><td>John Smith</td><td>Morning</td><td>1</td><td>India</td><td>6.0</td><td>26195b3f-24ba-4c66-8ea8-6ee2d084f52b</td><td>9663</td></tr><tr><td>Inbound</td><td>Refund Related</td><td>Refund Enquiry</td><td>5d00876b-84e1-4cbe-a95f-843c03050bc4</td><td>2025-07-05</td><td>CHALTHAN</td><td>Electronics</td><td>Kelly Thomas</td><td>Scarlett Chen</td><td>John Smith</td><td>Morning</td><td>5</td><td>India</td><td>15.0</td><td>5d00876b-84e1-4cbe-a95f-843c03050bc4</td><td>1670</td></tr><tr><td>Inbound</td><td>Returns</td><td>Reverse Pickup Enquiry</td><td>40638588-b95b-4928-8918-092b0d58da70</td><td>2025-07-05</td><td>unknown</td><td>unknown</td><td>Jamie Smith</td><td>Scarlett Chen</td><td>John Smith</td><td>Morning</td><td>5</td><td>India</td><td>732.0</td><td>40638588-b95b-4928-8918-092b0d58da70</td><td>6046</td></tr><tr><td>Inbound</td><td>Returns</td><td>Fraudulent User</td><td>68b86bcc-3fa5-4c52-b17f-33f406f3e368</td><td>2025-07-05</td><td>DHANBAD</td><td>Books & General merchandise</td><td>Lindsey Smith</td><td>Nathan Patel</td><td>John Smith</td><td>Afternoon</td><td>5</td><td>India</td><td>-173.0</td><td>68b86bcc-3fa5-4c52-b17f-33f406f3e368</td><td>292</td></tr><tr><td>Inbound</td><td>Feedback</td><td>UnProfessional Behaviour</td><td>eb72fe72-02f6-4488-8a6f-30f423a34e41</td><td>2025-07-06</td><td>unknown</td><td>unknown</td><td>Alisha Campos</td><td>Jacob Sato</td><td>Emily Chen</td><td>Evening</td><td>5</td><td>India</td><td>9.0</td><td>eb72fe72-02f6-4488-8a6f-30f423a34e41</td><td>7264</td></tr><tr><td>Email</td><td>Payments related</td><td>Online Payment Issues</td><td>4996db61-f4a4-44d3-8902-ac4c7bcf5130</td><td>2025-07-05</td><td>unknown</td><td>unknown</td><td>Alexandra Reynolds</td><td>Zoe Yamamoto</td><td>John Smith</td><td>Morning</td><td>2</td><td>India</td><td>52.0</td><td>4996db61-f4a4-44d3-8902-ac4c7bcf5130</td><td>8943</td></tr><tr><td>Inbound</td><td>Returns</td><td>Missing</td><td>b5847e45-6821-4e82-afee-6bec27107c58</td><td>2025-07-07</td><td>unknown</td><td>unknown</td><td>Jennifer Webster</td><td>Evelyn Kimura</td><td>Jennifer Nguyen</td><td>Evening</td><td>5</td><td>India</td><td>6.0</td><td>b5847e45-6821-4e82-afee-6bec27107c58</td><td>7711</td></tr></tbody></table></div>"
      ]
     },
     "metadata": {
      "application/vnd.databricks.v1+output": {
       "addedWidgets": {},
       "aggData": [],
       "aggError": "",
       "aggOverflow": false,
       "aggSchema": [],
       "aggSeriesLimitReached": false,
       "aggType": "",
       "arguments": {},
       "columnCustomDisplayInfos": {},
       "data": [
        [
         "Inbound",
         "Refund Related",
         "Refund Enquiry",
         "12f61133-f5ea-4c5a-8639-5d5a52374b7e",
         "2025-07-06",
         "GREATER NOIDA",
         "LifeStyle",
         "Joshua Webb",
         "Brayden Wong",
         "John Smith",
         "Evening",
         5,
         "India",
         4.0,
         "12f61133-f5ea-4c5a-8639-5d5a52374b7e",
         9228
        ],
        [
         "Outcall",
         "Returns",
         "Reverse Pickup Enquiry",
         "3baaec90-1436-4185-8915-cb823e404639",
         "2025-07-06",
         "unknown",
         "unknown",
         "Chad Burns",
         "Ava Wong",
         "William Kim",
         "Evening",
         1,
         "India",
         1.0,
         "3baaec90-1436-4185-8915-cb823e404639",
         1260
        ],
        [
         "Inbound",
         "Payments related",
         "Wallet related",
         "a7e1ac66-689b-4dba-8ebc-901c19b2135d",
         "2025-07-02",
         "unknown",
         "unknown",
         "Joshua Rodriguez",
         "Jackson Park",
         "William Kim",
         "Evening",
         5,
         "India",
         5.0,
         "a7e1ac66-689b-4dba-8ebc-901c19b2135d",
         1422
        ],
        [
         "Inbound",
         "Returns",
         "Missing",
         "26195b3f-24ba-4c66-8ea8-6ee2d084f52b",
         "2025-07-06",
         "unknown",
         "unknown",
         "Kimberly Carter",
         "Scarlett Chen",
         "John Smith",
         "Morning",
         1,
         "India",
         6.0,
         "26195b3f-24ba-4c66-8ea8-6ee2d084f52b",
         9663
        ],
        [
         "Inbound",
         "Refund Related",
         "Refund Enquiry",
         "5d00876b-84e1-4cbe-a95f-843c03050bc4",
         "2025-07-05",
         "CHALTHAN",
         "Electronics",
         "Kelly Thomas",
         "Scarlett Chen",
         "John Smith",
         "Morning",
         5,
         "India",
         15.0,
         "5d00876b-84e1-4cbe-a95f-843c03050bc4",
         1670
        ],
        [
         "Inbound",
         "Returns",
         "Reverse Pickup Enquiry",
         "40638588-b95b-4928-8918-092b0d58da70",
         "2025-07-05",
         "unknown",
         "unknown",
         "Jamie Smith",
         "Scarlett Chen",
         "John Smith",
         "Morning",
         5,
         "India",
         732.0,
         "40638588-b95b-4928-8918-092b0d58da70",
         6046
        ],
        [
         "Inbound",
         "Returns",
         "Fraudulent User",
         "68b86bcc-3fa5-4c52-b17f-33f406f3e368",
         "2025-07-05",
         "DHANBAD",
         "Books & General merchandise",
         "Lindsey Smith",
         "Nathan Patel",
         "John Smith",
         "Afternoon",
         5,
         "India",
         -173.0,
         "68b86bcc-3fa5-4c52-b17f-33f406f3e368",
         292
        ],
        [
         "Inbound",
         "Feedback",
         "UnProfessional Behaviour",
         "eb72fe72-02f6-4488-8a6f-30f423a34e41",
         "2025-07-06",
         "unknown",
         "unknown",
         "Alisha Campos",
         "Jacob Sato",
         "Emily Chen",
         "Evening",
         5,
         "India",
         9.0,
         "eb72fe72-02f6-4488-8a6f-30f423a34e41",
         7264
        ],
        [
         "Email",
         "Payments related",
         "Online Payment Issues",
         "4996db61-f4a4-44d3-8902-ac4c7bcf5130",
         "2025-07-05",
         "unknown",
         "unknown",
         "Alexandra Reynolds",
         "Zoe Yamamoto",
         "John Smith",
         "Morning",
         2,
         "India",
         52.0,
         "4996db61-f4a4-44d3-8902-ac4c7bcf5130",
         8943
        ],
        [
         "Inbound",
         "Returns",
         "Missing",
         "b5847e45-6821-4e82-afee-6bec27107c58",
         "2025-07-07",
         "unknown",
         "unknown",
         "Jennifer Webster",
         "Evelyn Kimura",
         "Jennifer Nguyen",
         "Evening",
         5,
         "India",
         6.0,
         "b5847e45-6821-4e82-afee-6bec27107c58",
         7711
        ]
       ],
       "datasetInfos": [],
       "dbfsResultPath": null,
       "isJsonSchema": true,
       "metadata": {},
       "overflow": false,
       "plotOptions": {
        "customPlotOptions": {},
        "displayType": "table",
        "pivotAggregation": null,
        "pivotColumns": null,
        "xColumns": null,
        "yColumns": null
       },
       "removedWidgets": [],
       "schema": [
        {
         "metadata": "{}",
         "name": "channel_name",
         "type": "\"string\""
        },
        {
         "metadata": "{}",
         "name": "category",
         "type": "\"string\""
        },
        {
         "metadata": "{}",
         "name": "sub_category",
         "type": "\"string\""
        },
        {
         "metadata": "{}",
         "name": "Order_id",
         "type": "\"string\""
        },
        {
         "metadata": "{}",
         "name": "Survey_response_Date",
         "type": "\"date\""
        },
        {
         "metadata": "{}",
         "name": "Customer_City",
         "type": "\"string\""
        },
        {
         "metadata": "{}",
         "name": "Product_category",
         "type": "\"string\""
        },
        {
         "metadata": "{}",
         "name": "Agent_name",
         "type": "\"string\""
        },
        {
         "metadata": "{}",
         "name": "Supervisor",
         "type": "\"string\""
        },
        {
         "metadata": "{}",
         "name": "Manager",
         "type": "\"string\""
        },
        {
         "metadata": "{}",
         "name": "agent_shift",
         "type": "\"string\""
        },
        {
         "metadata": "{}",
         "name": "csat_score",
         "type": "\"long\""
        },
        {
         "metadata": "{}",
         "name": "Office",
         "type": "\"string\""
        },
        {
         "metadata": "{}",
         "name": "Issue_response_time_in_minutes",
         "type": "\"double\""
        },
        {
         "metadata": "{}",
         "name": "Order_id",
         "type": "\"string\""
        },
        {
         "metadata": "{}",
         "name": "Item_price",
         "type": "\"long\""
        }
       ],
       "type": "table"
      }
     },
     "output_type": "display_data"
    }
   ],
   "source": [
    "joined_df = filtered_df.join(item_price_df, filtered_df['order_id']==item_price_df['order_id'], 'inner')\n",
    "display(joined_df.limit(10))"
   ]
  },
  {
   "cell_type": "markdown",
   "metadata": {
    "application/vnd.databricks.v1+cell": {
     "cellMetadata": {},
     "inputWidgets": {},
     "nuid": "62f45fa8-b4a3-4059-a5b3-e90f672c8d3e",
     "showTitle": false,
     "tableResultSettingsMap": {},
     "title": ""
    }
   },
   "source": [
    "**Drop order id column**"
   ]
  },
  {
   "cell_type": "code",
   "execution_count": 0,
   "metadata": {
    "application/vnd.databricks.v1+cell": {
     "cellMetadata": {
      "byteLimit": 2048000,
      "rowLimit": 10000
     },
     "inputWidgets": {},
     "nuid": "bc552477-50fd-4e72-83ed-e1ed7799e323",
     "showTitle": false,
     "tableResultSettingsMap": {},
     "title": ""
    }
   },
   "outputs": [
    {
     "output_type": "display_data",
     "data": {
      "text/html": [
       "<style scoped>\n",
       "  .table-result-container {\n",
       "    max-height: 300px;\n",
       "    overflow: auto;\n",
       "  }\n",
       "  table, th, td {\n",
       "    border: 1px solid black;\n",
       "    border-collapse: collapse;\n",
       "  }\n",
       "  th, td {\n",
       "    padding: 5px;\n",
       "  }\n",
       "  th {\n",
       "    text-align: left;\n",
       "  }\n",
       "</style><div class='table-result-container'><table class='table-result'><thead style='background-color: white'><tr><th>channel_name</th><th>category</th><th>sub_category</th><th>Survey_response_Date</th><th>Customer_City</th><th>Product_category</th><th>Agent_name</th><th>Supervisor</th><th>Manager</th><th>agent_shift</th><th>csat_score</th><th>Office</th><th>Issue_response_time_in_minutes</th><th>Item_price</th></tr></thead><tbody><tr><td>Inbound</td><td>Refund Related</td><td>Refund Enquiry</td><td>2025-07-06</td><td>GREATER NOIDA</td><td>LifeStyle</td><td>Joshua Webb</td><td>Brayden Wong</td><td>John Smith</td><td>Evening</td><td>5</td><td>India</td><td>4.0</td><td>9228</td></tr><tr><td>Outcall</td><td>Returns</td><td>Reverse Pickup Enquiry</td><td>2025-07-06</td><td>unknown</td><td>unknown</td><td>Chad Burns</td><td>Ava Wong</td><td>William Kim</td><td>Evening</td><td>1</td><td>India</td><td>1.0</td><td>1260</td></tr><tr><td>Inbound</td><td>Payments related</td><td>Wallet related</td><td>2025-07-02</td><td>unknown</td><td>unknown</td><td>Joshua Rodriguez</td><td>Jackson Park</td><td>William Kim</td><td>Evening</td><td>5</td><td>India</td><td>5.0</td><td>1422</td></tr><tr><td>Inbound</td><td>Returns</td><td>Missing</td><td>2025-07-06</td><td>unknown</td><td>unknown</td><td>Kimberly Carter</td><td>Scarlett Chen</td><td>John Smith</td><td>Morning</td><td>1</td><td>India</td><td>6.0</td><td>9663</td></tr><tr><td>Inbound</td><td>Refund Related</td><td>Refund Enquiry</td><td>2025-07-05</td><td>CHALTHAN</td><td>Electronics</td><td>Kelly Thomas</td><td>Scarlett Chen</td><td>John Smith</td><td>Morning</td><td>5</td><td>India</td><td>15.0</td><td>1670</td></tr><tr><td>Inbound</td><td>Returns</td><td>Reverse Pickup Enquiry</td><td>2025-07-05</td><td>unknown</td><td>unknown</td><td>Jamie Smith</td><td>Scarlett Chen</td><td>John Smith</td><td>Morning</td><td>5</td><td>India</td><td>732.0</td><td>6046</td></tr><tr><td>Inbound</td><td>Returns</td><td>Fraudulent User</td><td>2025-07-05</td><td>DHANBAD</td><td>Books & General merchandise</td><td>Lindsey Smith</td><td>Nathan Patel</td><td>John Smith</td><td>Afternoon</td><td>5</td><td>India</td><td>-173.0</td><td>292</td></tr><tr><td>Inbound</td><td>Feedback</td><td>UnProfessional Behaviour</td><td>2025-07-06</td><td>unknown</td><td>unknown</td><td>Alisha Campos</td><td>Jacob Sato</td><td>Emily Chen</td><td>Evening</td><td>5</td><td>India</td><td>9.0</td><td>7264</td></tr><tr><td>Email</td><td>Payments related</td><td>Online Payment Issues</td><td>2025-07-05</td><td>unknown</td><td>unknown</td><td>Alexandra Reynolds</td><td>Zoe Yamamoto</td><td>John Smith</td><td>Morning</td><td>2</td><td>India</td><td>52.0</td><td>8943</td></tr><tr><td>Inbound</td><td>Returns</td><td>Missing</td><td>2025-07-07</td><td>unknown</td><td>unknown</td><td>Jennifer Webster</td><td>Evelyn Kimura</td><td>Jennifer Nguyen</td><td>Evening</td><td>5</td><td>India</td><td>6.0</td><td>7711</td></tr></tbody></table></div>"
      ]
     },
     "metadata": {
      "application/vnd.databricks.v1+output": {
       "addedWidgets": {},
       "aggData": [],
       "aggError": "",
       "aggOverflow": false,
       "aggSchema": [],
       "aggSeriesLimitReached": false,
       "aggType": "",
       "arguments": {},
       "columnCustomDisplayInfos": {},
       "data": [
        [
         "Inbound",
         "Refund Related",
         "Refund Enquiry",
         "2025-07-06",
         "GREATER NOIDA",
         "LifeStyle",
         "Joshua Webb",
         "Brayden Wong",
         "John Smith",
         "Evening",
         5,
         "India",
         4.0,
         9228
        ],
        [
         "Outcall",
         "Returns",
         "Reverse Pickup Enquiry",
         "2025-07-06",
         "unknown",
         "unknown",
         "Chad Burns",
         "Ava Wong",
         "William Kim",
         "Evening",
         1,
         "India",
         1.0,
         1260
        ],
        [
         "Inbound",
         "Payments related",
         "Wallet related",
         "2025-07-02",
         "unknown",
         "unknown",
         "Joshua Rodriguez",
         "Jackson Park",
         "William Kim",
         "Evening",
         5,
         "India",
         5.0,
         1422
        ],
        [
         "Inbound",
         "Returns",
         "Missing",
         "2025-07-06",
         "unknown",
         "unknown",
         "Kimberly Carter",
         "Scarlett Chen",
         "John Smith",
         "Morning",
         1,
         "India",
         6.0,
         9663
        ],
        [
         "Inbound",
         "Refund Related",
         "Refund Enquiry",
         "2025-07-05",
         "CHALTHAN",
         "Electronics",
         "Kelly Thomas",
         "Scarlett Chen",
         "John Smith",
         "Morning",
         5,
         "India",
         15.0,
         1670
        ],
        [
         "Inbound",
         "Returns",
         "Reverse Pickup Enquiry",
         "2025-07-05",
         "unknown",
         "unknown",
         "Jamie Smith",
         "Scarlett Chen",
         "John Smith",
         "Morning",
         5,
         "India",
         732.0,
         6046
        ],
        [
         "Inbound",
         "Returns",
         "Fraudulent User",
         "2025-07-05",
         "DHANBAD",
         "Books & General merchandise",
         "Lindsey Smith",
         "Nathan Patel",
         "John Smith",
         "Afternoon",
         5,
         "India",
         -173.0,
         292
        ],
        [
         "Inbound",
         "Feedback",
         "UnProfessional Behaviour",
         "2025-07-06",
         "unknown",
         "unknown",
         "Alisha Campos",
         "Jacob Sato",
         "Emily Chen",
         "Evening",
         5,
         "India",
         9.0,
         7264
        ],
        [
         "Email",
         "Payments related",
         "Online Payment Issues",
         "2025-07-05",
         "unknown",
         "unknown",
         "Alexandra Reynolds",
         "Zoe Yamamoto",
         "John Smith",
         "Morning",
         2,
         "India",
         52.0,
         8943
        ],
        [
         "Inbound",
         "Returns",
         "Missing",
         "2025-07-07",
         "unknown",
         "unknown",
         "Jennifer Webster",
         "Evelyn Kimura",
         "Jennifer Nguyen",
         "Evening",
         5,
         "India",
         6.0,
         7711
        ]
       ],
       "datasetInfos": [],
       "dbfsResultPath": null,
       "isJsonSchema": true,
       "metadata": {},
       "overflow": false,
       "plotOptions": {
        "customPlotOptions": {},
        "displayType": "table",
        "pivotAggregation": null,
        "pivotColumns": null,
        "xColumns": null,
        "yColumns": null
       },
       "removedWidgets": [],
       "schema": [
        {
         "metadata": "{}",
         "name": "channel_name",
         "type": "\"string\""
        },
        {
         "metadata": "{}",
         "name": "category",
         "type": "\"string\""
        },
        {
         "metadata": "{}",
         "name": "sub_category",
         "type": "\"string\""
        },
        {
         "metadata": "{}",
         "name": "Survey_response_Date",
         "type": "\"date\""
        },
        {
         "metadata": "{}",
         "name": "Customer_City",
         "type": "\"string\""
        },
        {
         "metadata": "{}",
         "name": "Product_category",
         "type": "\"string\""
        },
        {
         "metadata": "{}",
         "name": "Agent_name",
         "type": "\"string\""
        },
        {
         "metadata": "{}",
         "name": "Supervisor",
         "type": "\"string\""
        },
        {
         "metadata": "{}",
         "name": "Manager",
         "type": "\"string\""
        },
        {
         "metadata": "{}",
         "name": "agent_shift",
         "type": "\"string\""
        },
        {
         "metadata": "{}",
         "name": "csat_score",
         "type": "\"long\""
        },
        {
         "metadata": "{}",
         "name": "Office",
         "type": "\"string\""
        },
        {
         "metadata": "{}",
         "name": "Issue_response_time_in_minutes",
         "type": "\"double\""
        },
        {
         "metadata": "{}",
         "name": "Item_price",
         "type": "\"long\""
        }
       ],
       "type": "table"
      }
     },
     "output_type": "display_data"
    }
   ],
   "source": [
    "joined_df = joined_df.drop('Order_id')\n",
    "display(joined_df.limit(10))"
   ]
  },
  {
   "cell_type": "markdown",
   "metadata": {
    "application/vnd.databricks.v1+cell": {
     "cellMetadata": {},
     "inputWidgets": {},
     "nuid": "d8f6b038-a90d-4f4c-8bb4-0131ab465221",
     "showTitle": false,
     "tableResultSettingsMap": {},
     "title": ""
    }
   },
   "source": [
    "**Write it to silver dataframe**"
   ]
  },
  {
   "cell_type": "code",
   "execution_count": 0,
   "metadata": {
    "application/vnd.databricks.v1+cell": {
     "cellMetadata": {
      "byteLimit": 2048000,
      "rowLimit": 10000
     },
     "inputWidgets": {},
     "nuid": "cc11d123-2c99-4355-8fe3-affdc2aba834",
     "showTitle": false,
     "tableResultSettingsMap": {},
     "title": ""
    }
   },
   "outputs": [],
   "source": [
    "joined_df.write.mode(\"overwrite\").saveAsTable(\"silver.cleansed_customer_support_data\")"
   ]
  },
  {
   "cell_type": "markdown",
   "metadata": {
    "application/vnd.databricks.v1+cell": {
     "cellMetadata": {},
     "inputWidgets": {},
     "nuid": "6a38029a-2f9b-43c3-82f1-76759b588109",
     "showTitle": false,
     "tableResultSettingsMap": {},
     "title": ""
    }
   },
   "source": []
  }
 ],
 "metadata": {
  "application/vnd.databricks.v1+notebook": {
   "computePreferences": null,
   "dashboards": [],
   "environmentMetadata": {
    "base_environment": "",
    "environment_version": "2"
   },
   "inputWidgetPreferences": null,
   "language": "python",
   "notebookMetadata": {
    "pythonIndentUnit": 4
   },
   "notebookName": "Data cleansing",
   "widgets": {}
  },
  "language_info": {
   "name": "python"
  }
 },
 "nbformat": 4,
 "nbformat_minor": 0
}